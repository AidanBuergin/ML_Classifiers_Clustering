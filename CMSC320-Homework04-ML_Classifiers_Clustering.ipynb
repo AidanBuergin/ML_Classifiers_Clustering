{
 "cells": [
  {
   "cell_type": "markdown",
   "metadata": {
    "id": "NIHQ7pmwhmjZ"
   },
   "source": [
    "# **Exploring Top Restaurants in Las Vegas: A Data Science Journey!**\n",
    "\n"
   ]
  },
  {
   "cell_type": "markdown",
   "metadata": {
    "id": "5yKYTZZ6hqy7"
   },
   "source": [
    "## **Background:**\n",
    "As we gear up for our summer trip to Las Vegas, we've decided to delve into the city's vibrant dining scene. To ensure we experience the best and most budget-friendly eateries, we've utilized the [Yelp dataset](https://business.yelp.com/data/resources/open-dataset/) to identify top-rated restaurants in Las Vegas. We've also filtered out the top 50 fast-food chains to avoid the usual options and embrace more unique culinary experiences.​\n",
    "\n",
    "### **Project Goal/Stakes:**\n",
    "Our objective is to analyze the Yelp dataset to pinpoint exceptional yet affordable dining establishments in Las Vegas. By focusing on local favorites and hidden gems, we aim to curate a list of restaurants that offer both quality and value, ensuring our trip is both delicious and economical.​\n",
    "\n",
    "### **Project Submission:**\n",
    "A Note from your Backpacking Partner:\n",
    "\n",
    "\"Hello, team. I've gathered and preprocessed the Yelp dataset for Las Vegas, filtering out the top 50 fast-food chains to ensure we explore the city's unique culinary offerings. Now, it's up to you to analyze this data and find the best budget-friendly restaurants for our trip. I request that you do NOT delete/modify any part of the question description, given code, and pre-loaded comments in the code block.\n",
    "\n",
    "We look forward to your insightful analyses and recommendations for our culinary adventure in Las Vegas! Hope we can have a wonderful trip in Vegas.\"\n",
    "\n",
    "\n",
    "Just a reminder, for a better a smooth autograder experience, please:\n",
    "- Write your answers between <font color='green'>`# ANSWER STARTING HERE`</font> and <font color='green'>`# ANSWER ENDS HERE`</font>.\n",
    "- Do not delete helper cells\n",
    "- Always use `seed=42` as your `random_state` in the whole notebook.\n",
    "\n",
    "Submit this Google Colab/Jupyter Notebook file on Gradescope. Cheers!🥂\n"
   ]
  },
  {
   "cell_type": "markdown",
   "metadata": {
    "id": "9kwrcpIghvV0"
   },
   "source": [
    "### **Part A (4 Pts Total)**\n",
    "\n",
    "#### You are expected to load the Yelp data and provide some metrics so I know what we are working with. Follow these steps."
   ]
  },
  {
   "cell_type": "markdown",
   "metadata": {
    "id": "rrZpXNu0h0KE"
   },
   "source": [
    "##### ***1.1 Import Libraries (0 pt)***\n",
    "\n",
    "---\n",
    "\n",
    "\n",
    "Many libraries are imported for you. Import the additional **Sci-kit learn**  modules:\n",
    "- **Decision Tree Classifier**\n",
    "- **K Neighbors Classifier**\n",
    "- **Logistic Regression**\n",
    "- **Random Forest Classifier**"
   ]
  },
  {
   "cell_type": "code",
   "execution_count": 23,
   "metadata": {
    "id": "NDkWLUDzhOBI"
   },
   "outputs": [],
   "source": [
    "# Necessary libraries\n",
    "import numpy as np\n",
    "import pandas as pd\n",
    "from sklearn.model_selection import train_test_split, cross_val_score, StratifiedKFold\n",
    "from sklearn.preprocessing import StandardScaler\n",
    "from sklearn.metrics import accuracy_score, classification_report, confusion_matrix, silhouette_score\n",
    "\n",
    "import matplotlib.pyplot as plt\n",
    "import matplotlib\n",
    "from sklearn.cluster import KMeans, DBSCAN\n",
    "from sklearn.decomposition import PCA\n",
    "from sklearn.manifold import TSNE\n",
    "from sklearn.preprocessing import normalize\n",
    "\n",
    "from matplotlib.colors import Normalize\n",
    "from matplotlib.lines import Line2D\n",
    "\n",
    "import ast\n",
    "pd.set_option('display.max_columns', None)\n",
    "from scipy.spatial.distance import cdist\n",
    "\n",
    "import matplotlib.pyplot as plt\n",
    "import seaborn as sns\n",
    "import warnings # To suppress some warnings\n",
    "\n",
    "# Suppress the specific FutureWarning\n",
    "warnings.filterwarnings(\"ignore\", category=FutureWarning, module=\"seaborn\")\n",
    "\n",
    "# Add the classifiers to the imports here:\n",
    "# ANSWER STARTING HERE\n",
    "\n",
    "from sklearn.tree import DecisionTreeClassifier\n",
    "from sklearn.ensemble import RandomForestClassifier\n",
    "from sklearn.linear_model import LogisticRegression\n",
    "from sklearn.neighbors import KNeighborsClassifier\n",
    "\n",
    "# ANSWER ENDS HERE\n"
   ]
  },
  {
   "cell_type": "markdown",
   "metadata": {
    "id": "ZmFxJQ2Kh7YR"
   },
   "source": [
    "##### ***1.2 Understanding the Dataset (1 pt)***\n",
    "\n",
    "---\n",
    "\n",
    "\n",
    "1. Load the dataset to a dataframe named `yelp_data`.\n",
    "2. Print the dimensions of the dataset.\n",
    "3. Print the column names of the dataframe."
   ]
  },
  {
   "cell_type": "code",
   "execution_count": 24,
   "metadata": {
    "id": "wN3R1X8yhrdW"
   },
   "outputs": [
    {
     "name": "stdout",
     "output_type": "stream",
     "text": [
      "(213175, 20)\n",
      "business_id, name, neighborhood, address, city, state, postal_code, latitude, longitude, business_stars, review_count, categories, checkins, review_id, user_id, reviewer_stars, text, useful, funny, cool, "
     ]
    }
   ],
   "source": [
    "# Load the yelp dataset\n",
    "# ANSWER STARTING HERE\n",
    "yelp_data = pd.read_csv('yelp_datasets.csv')\n",
    "print(yelp_data.shape)\n",
    "for name in yelp_data.columns:\n",
    "    print(name, end=', ')\n",
    "\n",
    "# ANSWER ENDS HERE"
   ]
  },
  {
   "cell_type": "code",
   "execution_count": 25,
   "metadata": {
    "id": "TESJqift-khn"
   },
   "outputs": [
    {
     "data": {
      "text/html": [
       "<div>\n",
       "<style scoped>\n",
       "    .dataframe tbody tr th:only-of-type {\n",
       "        vertical-align: middle;\n",
       "    }\n",
       "\n",
       "    .dataframe tbody tr th {\n",
       "        vertical-align: top;\n",
       "    }\n",
       "\n",
       "    .dataframe thead th {\n",
       "        text-align: right;\n",
       "    }\n",
       "</style>\n",
       "<table border=\"1\" class=\"dataframe\">\n",
       "  <thead>\n",
       "    <tr style=\"text-align: right;\">\n",
       "      <th></th>\n",
       "      <th>business_id</th>\n",
       "      <th>name</th>\n",
       "      <th>neighborhood</th>\n",
       "      <th>address</th>\n",
       "      <th>city</th>\n",
       "      <th>state</th>\n",
       "      <th>postal_code</th>\n",
       "      <th>latitude</th>\n",
       "      <th>longitude</th>\n",
       "      <th>business_stars</th>\n",
       "      <th>review_count</th>\n",
       "      <th>categories</th>\n",
       "      <th>checkins</th>\n",
       "      <th>review_id</th>\n",
       "      <th>user_id</th>\n",
       "      <th>reviewer_stars</th>\n",
       "      <th>text</th>\n",
       "      <th>useful</th>\n",
       "      <th>funny</th>\n",
       "      <th>cool</th>\n",
       "    </tr>\n",
       "  </thead>\n",
       "  <tbody>\n",
       "    <tr>\n",
       "      <th>0</th>\n",
       "      <td>n7V4cD-KqqE3OXk0irJTyA</td>\n",
       "      <td>GameWorks</td>\n",
       "      <td>Southeast</td>\n",
       "      <td>\"6587 Las Vegas Blvd S, Ste 171\"</td>\n",
       "      <td>Las Vegas</td>\n",
       "      <td>NV</td>\n",
       "      <td>89119</td>\n",
       "      <td>36.068259</td>\n",
       "      <td>-115.178877</td>\n",
       "      <td>3.0</td>\n",
       "      <td>349</td>\n",
       "      <td>Arcades;Arts &amp; Entertainment;Gastropubs;Restau...</td>\n",
       "      <td>3.0</td>\n",
       "      <td>HVeoYQNl-O1ufTwkHLgtsg</td>\n",
       "      <td>_btJkKpbtg2CqkCuOXWfKw</td>\n",
       "      <td>5.0</td>\n",
       "      <td>Dante is the man. Knowledgeable, helpful, and ...</td>\n",
       "      <td>2.0</td>\n",
       "      <td>0.0</td>\n",
       "      <td>1</td>\n",
       "    </tr>\n",
       "    <tr>\n",
       "      <th>1</th>\n",
       "      <td>n7V4cD-KqqE3OXk0irJTyA</td>\n",
       "      <td>GameWorks</td>\n",
       "      <td>Southeast</td>\n",
       "      <td>\"6587 Las Vegas Blvd S, Ste 171\"</td>\n",
       "      <td>Las Vegas</td>\n",
       "      <td>NV</td>\n",
       "      <td>89119</td>\n",
       "      <td>36.068259</td>\n",
       "      <td>-115.178877</td>\n",
       "      <td>3.0</td>\n",
       "      <td>349</td>\n",
       "      <td>Arcades;Arts &amp; Entertainment;Gastropubs;Restau...</td>\n",
       "      <td>3.0</td>\n",
       "      <td>lBeOyeZDLUMTaCskqE29cg</td>\n",
       "      <td>YMgZqBUAddmFErxLtCfK_w</td>\n",
       "      <td>4.0</td>\n",
       "      <td>I was honestly surprised at how much fun we ha...</td>\n",
       "      <td>1.0</td>\n",
       "      <td>2.0</td>\n",
       "      <td>3</td>\n",
       "    </tr>\n",
       "    <tr>\n",
       "      <th>2</th>\n",
       "      <td>n7V4cD-KqqE3OXk0irJTyA</td>\n",
       "      <td>GameWorks</td>\n",
       "      <td>Southeast</td>\n",
       "      <td>\"6587 Las Vegas Blvd S, Ste 171\"</td>\n",
       "      <td>Las Vegas</td>\n",
       "      <td>NV</td>\n",
       "      <td>89119</td>\n",
       "      <td>36.068259</td>\n",
       "      <td>-115.178877</td>\n",
       "      <td>3.0</td>\n",
       "      <td>349</td>\n",
       "      <td>Arcades;Arts &amp; Entertainment;Gastropubs;Restau...</td>\n",
       "      <td>3.0</td>\n",
       "      <td>x6iUawdyECs-H2zP3Sw66g</td>\n",
       "      <td>l3GGDxk-i4eFQOd8NiwHTQ</td>\n",
       "      <td>3.0</td>\n",
       "      <td>You can go through $100 here in no time, the g...</td>\n",
       "      <td>1.0</td>\n",
       "      <td>0.0</td>\n",
       "      <td>0</td>\n",
       "    </tr>\n",
       "    <tr>\n",
       "      <th>3</th>\n",
       "      <td>n7V4cD-KqqE3OXk0irJTyA</td>\n",
       "      <td>GameWorks</td>\n",
       "      <td>Southeast</td>\n",
       "      <td>\"6587 Las Vegas Blvd S, Ste 171\"</td>\n",
       "      <td>Las Vegas</td>\n",
       "      <td>NV</td>\n",
       "      <td>89119</td>\n",
       "      <td>36.068259</td>\n",
       "      <td>-115.178877</td>\n",
       "      <td>3.0</td>\n",
       "      <td>349</td>\n",
       "      <td>Arcades;Arts &amp; Entertainment;Gastropubs;Restau...</td>\n",
       "      <td>3.0</td>\n",
       "      <td>7LFmxVGe6WfAkW_FiK_NzQ</td>\n",
       "      <td>w0hQcoxd-DwIR9s0f5pP0w</td>\n",
       "      <td>2.0</td>\n",
       "      <td>The arcade in Gameworks has a lot of variety i...</td>\n",
       "      <td>7.0</td>\n",
       "      <td>0.0</td>\n",
       "      <td>0</td>\n",
       "    </tr>\n",
       "    <tr>\n",
       "      <th>4</th>\n",
       "      <td>n7V4cD-KqqE3OXk0irJTyA</td>\n",
       "      <td>GameWorks</td>\n",
       "      <td>Southeast</td>\n",
       "      <td>\"6587 Las Vegas Blvd S, Ste 171\"</td>\n",
       "      <td>Las Vegas</td>\n",
       "      <td>NV</td>\n",
       "      <td>89119</td>\n",
       "      <td>36.068259</td>\n",
       "      <td>-115.178877</td>\n",
       "      <td>3.0</td>\n",
       "      <td>349</td>\n",
       "      <td>Arcades;Arts &amp; Entertainment;Gastropubs;Restau...</td>\n",
       "      <td>3.0</td>\n",
       "      <td>ztMzyQSQBHJ9HAfWSUgrUw</td>\n",
       "      <td>63YdlT2QdwTpp62w5RHR0Q</td>\n",
       "      <td>3.0</td>\n",
       "      <td>Great place,\\nBut if you are vegan and looking...</td>\n",
       "      <td>0.0</td>\n",
       "      <td>1.0</td>\n",
       "      <td>0</td>\n",
       "    </tr>\n",
       "  </tbody>\n",
       "</table>\n",
       "</div>"
      ],
      "text/plain": [
       "              business_id       name neighborhood  \\\n",
       "0  n7V4cD-KqqE3OXk0irJTyA  GameWorks    Southeast   \n",
       "1  n7V4cD-KqqE3OXk0irJTyA  GameWorks    Southeast   \n",
       "2  n7V4cD-KqqE3OXk0irJTyA  GameWorks    Southeast   \n",
       "3  n7V4cD-KqqE3OXk0irJTyA  GameWorks    Southeast   \n",
       "4  n7V4cD-KqqE3OXk0irJTyA  GameWorks    Southeast   \n",
       "\n",
       "                            address       city state  postal_code   latitude  \\\n",
       "0  \"6587 Las Vegas Blvd S, Ste 171\"  Las Vegas    NV        89119  36.068259   \n",
       "1  \"6587 Las Vegas Blvd S, Ste 171\"  Las Vegas    NV        89119  36.068259   \n",
       "2  \"6587 Las Vegas Blvd S, Ste 171\"  Las Vegas    NV        89119  36.068259   \n",
       "3  \"6587 Las Vegas Blvd S, Ste 171\"  Las Vegas    NV        89119  36.068259   \n",
       "4  \"6587 Las Vegas Blvd S, Ste 171\"  Las Vegas    NV        89119  36.068259   \n",
       "\n",
       "    longitude  business_stars  review_count  \\\n",
       "0 -115.178877             3.0           349   \n",
       "1 -115.178877             3.0           349   \n",
       "2 -115.178877             3.0           349   \n",
       "3 -115.178877             3.0           349   \n",
       "4 -115.178877             3.0           349   \n",
       "\n",
       "                                          categories  checkins  \\\n",
       "0  Arcades;Arts & Entertainment;Gastropubs;Restau...       3.0   \n",
       "1  Arcades;Arts & Entertainment;Gastropubs;Restau...       3.0   \n",
       "2  Arcades;Arts & Entertainment;Gastropubs;Restau...       3.0   \n",
       "3  Arcades;Arts & Entertainment;Gastropubs;Restau...       3.0   \n",
       "4  Arcades;Arts & Entertainment;Gastropubs;Restau...       3.0   \n",
       "\n",
       "                review_id                 user_id  reviewer_stars  \\\n",
       "0  HVeoYQNl-O1ufTwkHLgtsg  _btJkKpbtg2CqkCuOXWfKw             5.0   \n",
       "1  lBeOyeZDLUMTaCskqE29cg  YMgZqBUAddmFErxLtCfK_w             4.0   \n",
       "2  x6iUawdyECs-H2zP3Sw66g  l3GGDxk-i4eFQOd8NiwHTQ             3.0   \n",
       "3  7LFmxVGe6WfAkW_FiK_NzQ  w0hQcoxd-DwIR9s0f5pP0w             2.0   \n",
       "4  ztMzyQSQBHJ9HAfWSUgrUw  63YdlT2QdwTpp62w5RHR0Q             3.0   \n",
       "\n",
       "                                                text  useful  funny  cool  \n",
       "0  Dante is the man. Knowledgeable, helpful, and ...     2.0    0.0     1  \n",
       "1  I was honestly surprised at how much fun we ha...     1.0    2.0     3  \n",
       "2  You can go through $100 here in no time, the g...     1.0    0.0     0  \n",
       "3  The arcade in Gameworks has a lot of variety i...     7.0    0.0     0  \n",
       "4  Great place,\\nBut if you are vegan and looking...     0.0    1.0     0  "
      ]
     },
     "execution_count": 25,
     "metadata": {},
     "output_type": "execute_result"
    }
   ],
   "source": [
    "yelp_data.head()"
   ]
  },
  {
   "cell_type": "markdown",
   "metadata": {
    "id": "yrM1h-tSh_vh"
   },
   "source": [
    "##### ***1.3 Explore the Data (3 pts)***\n",
    "\n",
    "---\n",
    "\n",
    "\n",
    "Let's see what is stored in the dataset first to get a feel for what we can expect. Write only a **single line** of code for each.\n",
    "1. Print the number of **samples** in the dataset (a numerical value).\n",
    "2. Print the number of **features** in the dataset (a numerical value)\n",
    "3. **Create two lists of the unique business names and categories**, named `names` and `categories`, respectively.\n",
    "\n",
    "Your answer should be similar to:\n",
    "- Business: [\"GameWorks\", \"Divine Cafe\", \"Trattoria Italia\", \"Water\", ...]\n",
    "- Rarities: [\"Standard\", \"Mythic\", \"Legendary\", \"Ultra-Beast\"]\n"
   ]
  },
  {
   "cell_type": "code",
   "execution_count": 26,
   "metadata": {
    "id": "jGlha5bNmTIz"
   },
   "outputs": [
    {
     "name": "stdout",
     "output_type": "stream",
     "text": [
      "213175\n",
      "20\n",
      "Business: ['GameWorks', 'Divine Cafe at the Springs Preserve', 'Trattoria Italia', 'Del Mar Deli', 'Mexicali Raspados', 'The Hummus Factory', 'Sierra Gold', 'Bayside Buffet at Mandalay Bay', \"Roberto's Taco Shop\", \"Roxy's Diner\", 'Sushi Loca', 'Tilted Kilt Pub & Eatery', 'Gordon Biersch Brewery Restaurant', 'Cafe Rio', 'Nobu', 'Dona Maria Tamales Restaurant', 'Buddha Thai Bistro', 'Tequila Taqueria', 'La Parrilla', \"Grimaldi's Pizzeria\", 'The Black Sheep', 'Kyara Japanese Tapas', 'The Chicken Shack', 'Krispy Kreme Doughnuts', 'Fat Bar', 'Plumeria Thai Cafe', 'Pokeman', \"Mulligan's Pub\", 'TENDER Steak & Seafood', 'Waffles Cafe', 'Gyro Time Restaurant', 'Chubby Cattle', \"Green Leaf's & Bananas\", 'Rivas Mexican Grill #2', 'Hot Dog On A Stick', 'Mimosas Gourmet', 'Amlee Chinese Cuisine', 'Blueberry Hill Family Restaurant', 'Cicis', 'China Star', \"Pancho's Vegan Tacos\", 'Greens and Proteins', 'Marias Taco Shop', 'Little Caesars Pizza', 'Claim Jumper', 'Gold Mine Bar & Grill', 'Buffalo Wild Wings', 'Lucki Thai', \"Violette's Vegan Organic Cafe & Juice Bar\", \"Sofia's Cafe\", 'Hue Thai', 'Las Vegas South Premium Outlets', 'Voodoo Wing Company', \"Max's Restaurant\", 'Daisho Sushi', \"Denny's\", 'Weera Thai Restaurant', 'Pisa Pizza', 'Scentz N Sudz', \"Papa Murphy's\", 'Doh Korean BBQ', \"Joey's Tavern\", 'The Sugar Corner', 'Slidin Thru', 'Cravings Buffet', 'Pollo Inka Express', \"Steak 'n Shake\", 'Northside Café and Chinese Kitchen', 'HoneyBaked Ham', 'Crab Corner', 'NYP- Pizzeria', 'Blue Ox East Restaurant & Lounge', \"Fleming's Prime Steakhouse & Wine Bar\", 'Mizuya', 'Giada', 'Cucina by Wolfgang Puck', 'La Tapenade Mediterranean Cafe', \"Chef Marc's Trattoria\", 'Tapioca Express', 'La Casona Bar & Grill', 'Chada Street', 'Pure Indian Cuisine', 'VegeNation', 'The Coffee Shop', 'Tacos La Mexicana', 'El Ausente', \"Rachel's Kitchen\", 'The Bar @ Las Vegas Blvd & Wigwam', 'Park on Fremont', 'Round Table Pizza', 'Bouchon at the Venezia Tower', 'Wings Restaurants', 'SuperBook Deli', 'Asian Garden', 'Shawarma Vegas', 'Chicken Now Venetian', 'Double Helix Wine & Whiskey Lounge', 'Tups Specialty Sandwiches', 'Blue Sea Sushi and Izakaya', 'Market Grille Cafe', 'Sweet Poké', 'Griddlecakes', 'KJ Kitchen', 'Manhattan Pizza IV', 'Sparrow + Wolf', 'Estiatorio Milos', 'American Coney Island Chili Dogs', 'Five50 Pizza Bar', 'Popeyes Louisiana Kitchen', 'Mint Indian Bistro', 'Chica', 'Ninja Teriyaki - Sushi 2 Go', \"Laurita's Taco Shop\", 'Panini Cafe', 'Port of Subs', 'Bouchon Bakery at the Venetian Casino', 'Jean Philippe Patisserie', \"Fausto's Mexican Grill\", \"Lucille's Smokehouse Bar-B-Que\", \"Emeril's New Orleans Fish House\", 'The Den LV', 'Westin Las Vegas Hotel & Spa', 'Cactus Jacks Saloon', \"Fellini's Ristorante\", 'Golden Corral', 'Ohana Hawaiian BBQ', 'Hecho en Vegas', \"Checker's\", 'China Star Buffet', 'Leoné Café', 'Nestle Toll House Cafe by Chip', 'MGM Grand Hotel', \"Esmeralda's Cafe\", 'Blue Ribbon Fried Chicken - Downtown Summerlin', 'J Karaoke Bar', 'Great Harvest Bread Company', 'Shake Shack', \"Famous Dave's Bar-B-Que\", 'Baja Fresh', 'America', \"Javier's\", 'Taco Maker', \"L'Atelier de Joël Robuchon\", 'Outback Steakhouse', 'The Barrymore', 'Costco Food Court', 'Las Vegas Chinatown Plaza', 'Tuscany Gardens', \"Lee's Sandwiches\", 'Kabob Korner', 'Pizza N Pizza', 'Michael Mina', 'Teriyaki Madness', 'Silverado Steakhouse', \"Andrea's\", 'Cracker Barrel Old Country Store', 'Johnny Rockets', 'Double Barrel Roadhouse', 'Mansion Dining Room', \"Martorano's\", \"Mom's Teriyaki\", 'China Kitchen LV', 'Nevada Chicken Cafe', 'Tea Lounge', 'Avenue Cafe', 'Coney Island Gourmet Hotdogs', 'Lobster Me', 'Fiesta Filipina Cuisine', 'Viva Las Arepas', 'Coffee Pub', 'Brew Tea Bar', 'Pieology Pizzeria', 'Carnevino', 'El Super', 'Goldilocks', 'Grinders Pizza Lounge', 'H&H BBQ Plus 2', \"Surang's Thai Kitchen\", 'Tail and Fin', 'Pink Taco', 'Meraki Greek Grill', 'Aloha Kitchen', 'Sushi Fever', 'Oyster Bar', \"Maestro's Pizzeria\", \"Lefty's Pizza\", 'Ramen Hashi', 'Odyssey Pizza', 'Olive Garden Italian Restaurant', 'Ciao Pizzeria', 'Dragon Grille', 'Las Vegas Lounge', \"PT's\", 'La Casita De Doña Machi', 'Sasa Sushi', \"Rao's\", 'Mandarin Express', \"Life's A Bagel\", 'Stacks & Yolks', 'Pressed For Juice', 'T&T - Tacos & Tequila', 'Grand Pizza', \"Pepe's Tacos\", \"Frankie's Pizza\", 'Strip N Dip Chicken Strips', \"Original Tommy's Hamburgers\", \"Papa John's Pizza\", 'Pizzeria', 'Ciao Ciao Cafe & Bar', 'Einstein Bros', 'Metro Pizza', 'Slice of Vegas', 'Don Chuy Mexican Grill', 'Taqueria El Buen Pastor Foodtruck', 'Seabreeze Cafe', 'Sushi House', 'La Comida', \"Gerardo's Tacos\", \"Rocco's Ny Pizza & Pasta\", \"Virgil's Real Barbecue - Las Vegas\", 'Circus Buffet', \"J. Gumbo's\", 'Farmer Boys', \"Nathan's Famous\", 'Il Fornaio', \"Rosati's Pizza\", 'barMASA', 'Burgerim', 'Forte European Tapas Bar and Bistro', 'La Mojarra Loca', 'Aloha A Go Go', 'Fatburger', 'Kopper Keg West', 'Yi Mei Champion Taiwan Deli', 'Crazy Pita Rotisserie & Grill', 'Tacos Y Tortas El Panzon', 'Casa Don Juan Mexican Restaurant', 'Hash House A Go Go', 'Otto Enoteca Pizzeria', \"Cugino's Italian Deli & Pizza\", 'Brio Tuscan Grille', 'Las Famosas de Jose', 'Palm Pizza', 'PublicUs', \"Chicago Joe's\", 'Hot N Juicy Crawfish', 'Michael Mina Pub 1842', 'Picasso', 'Terrace Pointe Cafe', 'Our Families Country Cafe', 'Fuku Burger', 'Monta Ramen', 'Mr. ChopStix', 'CUT by Wolfgang Puck', \"Luke's Lobster Las Vegas\", 'Rampart Buffet', \"Lillie's Asian Cuisine\", 'Pan Asian Express', 'Moo Woo Korean BBQ', 'Taqueria El Buen Pastor', 'Oyshi Sushi', 'Pon Ocha Soup', 'New Day Cafe', 'Fruits and Roots', 'The Buffet at Luxor', 'New York Chinese Restaurant', 'Fat Tuesday', \"Senor Frog's\", 'Poukei', 'Black Bear Diner', 'Delices Gourmands French Bakery', \"Winchell's Pub & Grill\", 'Swish', 'Asian Wok', 'Todd English P.U.B.', \"Sicili's Pizza\", 'Losers Most Wanted Bar', 'Border Grill', \"Rick's Rollin Smoke BBQ & Tavern\", 'Lip Smacking Foodie Tours', \"China Joe's\", \"Yogi's Teriyaki\", 'Coast 2 Coast Food Truck', 'Golden China Chinese Cuisine', 'Egg Works', 'Little Crown & Anchor Pub', 'Blue Martini Lounge', 'Trevi', \"Tony's Mexican Food\", 'Pan Asian', 'Beau Monde Bakery', \"Pop's Philly Steaks\", 'California Pizza Kitchen', 'Yama Sushi', \"Maria's Mexican Restaurant & Bakery\", 'Margaritaville', 'Morels French Steakhouse & Bistro', 'Kona Grill', 'Pastaidea', 'Los Tacos', 'Tacos El Gordo', 'Istanbul Mediterranean', 'The Peppermill Restaurant & Fireside Lounge', \"Andre's Bistro & Bar\", 'Secret Pizza', \"Michael's Gourmet Room\", 'El Burrito Mexican Restaurant', 'Panevino Italian Grille', 'El Birotazo', 'Breakfast & Burgers', 'Pizza Company', 'Stake Out Bar & Grill', 'Tacos Los Toritos', 'Yunnan Tasty Garden', 'The Cracked Egg', 'Mr Sandwich', 'Italian Oasis Pizzeria', \"McCall's Heartland Grill\", 'Bowlology', \"PT's Gold\", \"Lombardi's Romagna Mia\", 'Naked City Pizza Shop', 'Olocuilta Restaurant', 'Tacos & Beer', 'Solaro', 'Settebello Pizzeria Napoletana', 'Sushi Mon', 'PDQ - Las Vegas: Sahara', 'Taco Y Taco', 'The Diner at LVM Resort', 'Blue Ox Central', 'Bruxie', 'The Buffet at Excalibur', \"Samurai Sam's\", 'Good Fella Korean Bistro', 'Center Cut Steakhouse', 'Broadway Pizzeria', 'Luna Lounge', \"Battista's Hole In the Wall\", 'Pinches Tacos', 'Andiron Steak & Sea', 'China a Go Go', \"Applebee's Neighborhood Grill & Bar\", 'Grape Street Cafe & Wine Bar', 'Buffet At Asia', \"Sonio's Cafe\", 'Riva by Wolfgang Puck', '800 Degrees Pizzeria', 'Margaritaville Casino', 'HEXX kitchen + bar', \"Carlos'n Charlie's\", '2 Scoops of Aloha LV', 'Time-Out Sports Bar & Grill', 'Bottiglia Cucina & Enoteca', 'Arawan Thai Bistro and Dessert', 'The Halal Guys', 'El Pollo Mobile', 'Don Tortaco', 'Grotto Ristorante', 'DW Bistro', 'Noodle Shop', 'Perk Up Coffee Shop', 'Cheffinis Hot Dogs- THE CART', \"Del Frisco's Double Eagle Steak House\", \"Capriotti's Sandwich Shop\", 'JC Cuisine', 'Joe Maxx Coffee', 'I Am Thai Cuisine', 'Fiamma Italian Kitchen', 'The Green Regime', 'Teriyaki Boy Healthy Grill', 'Public House', 'Sweets Raku', 'The Sandwich Spot', 'Hunan Restaurant', \"Piero's Italian Cuisine\", 'BabyStacks Cafe', \"Sabatino's Authentic NY Pizzeria\", 'Sterling Spoon Cafe', 'Pellegrini Pizza', 'Karaoke Q Studio', 'Salud Mexican Bistro and Tequileria', 'Marie Callendars', 'Paris Baguette', 'El Segundo Sol', 'Echo & Rig', 'Joyful House Chinese Cuisine', 'Hikari', 'Curry Pot', 'Jack-In-the-Box #7239', \"Dotty's #1\", \"Lazy Joe's Fish & Chips\", 'Paradise Garden Buffet', \"Ono's Island BBQ\", \"Dragon's Alley\", 'Thai Room', 'Naked City Pizza On Paradise', 'Village Pub & Grill', 'Napoli Pizzeria', 'The Blue Skillet', \"Guy Fieri's Vegas Kitchen & Bar\", 'Seafood City Supermarket', 'Baladie Café', 'Lakeside', 'Waffle Bar', 'AmeriBrunch Cafe', 'Aloha Specialties', 'Chengdu Taste', 'China AAA', 'Lanai Express', 'Florida Cafe Cuban Bar & Grill', 'SUGARCANE Raw Bar Grill - Las Vegas', 'Algobertos', \"Palermo's Pizza\", 'Chile Verde Express Mexican Grill', 'Sushi Kaya', 'Asmara Restaurant', 'Fleur by Hubert Keller', \"Don Vito's Italian\", 'Off The Strip at the LINQ', 'Allegro', 'Boulevard Bar & Grille', 'Pho Kinh Do', 'China Gourmet', 'Sawa Sushi', 'Tropical Smoothie Cafe', 'Pizza Forte', 'China One', 'Dim Sum Cafe', 'Cafe Breizh', 'Pho Little Saigon', 'Hearthstone Kitchen & Cellar', 'Island Flavor', 'Red Robin Gourmet Burgers', \"Anna Marie's Italian Cuisine\", 'Sofrito Rico Authentic Puerto Rican Cuisine', 'L & L Hawaiian Barbecue', 'Goong Korean BBQ Restaurant', \"Ori'Zaba's Scratch Mexican Grill\", \"Pancho's Kitchen\", 'Original Chicken Tender', 'Veggie House', \"Hennessey's Las Vegas\", 'El Steak Burrito', 'Bjs Cocktail Lounge Decatur', 'Sushi Bomb', 'Lucky Streak at LAS', 'Fist of Fusion Island Grill', 'PizzaRev', 'VegeWay', 'L & L Hawaiian BBQ', 'Chicago Brewing', 'Libertine Social', \"Bob Taylor's Ranch House\", 'Los Compadres Meat Market', 'Home Turf', 'Chow Mein House', \"Mark Rich's New York Pizza & Pasta\", 'Cafe Verdi', \"Lino's Pizzeria & Italian Cuisine\", 'Fireside Restaurant & Tavern', 'Tao Nightclub', 'Taco Tijuana', \"Abuela's Tacos\", 'Oakville Steakhouse', 'Red Ribbon Bakeshop', \"P.F. Chang's\", 'Cousins Maine Lobster - Las Vegas', 'Jack In the Box', 'Costa di Mare', \"Carl's Jr Restaurants\", 'The Pint', 'Nigerian Cuisine', 'Niu-Gu Restaurant', \"Mimi's Cafe\", \"BJ's Restaurant & Brewhouse\", 'Express Pizza', 'Casa Tlaquepaque', \"Stephano's Greek & Mediterranean Grill\", 'Lupo by Wolfgang Puck', \"Famous Dave's Barbeque\", 'Sushi Hero', 'King & I', 'Mesa Grill', 'Wienerschnitzel', 'Fukuburger Truck', 'Momofuku Las Vegas', \"Marilyn's Cafe\", 'Brooklyn Bowl', 'Chayo Mexican Kitchen + Tequila Bar', 'Port of Subs #114', 'Lago', 'Dakao Sandwiches', 'Feast Buffet', \"Sammy's Beach Bar & Grill\", 'Beer Park', \"Pink's Hot Dogs\", 'Beach Cafe', \"Cheffini's Hot Dogs\", 'Cuba Cafe', 'Arirang Korean BBQ', 'Great Harvest Bread', \"Ron's Grilled Barbeque and Kabobs\", 'Spicy Mama', \"Charlie's Bar + Grill\", 'Ohana Hawaiian Bbq', 'China Wan Wan', \"Gilley's\", 'Vegeway', 'Sterling Brunch', \"Bob's East Side Deli\", \"Capriotti's\", 'Delights', 'Bonsai Japanese Steak & Sushi', 'Broadway Burger Bar & Grill', \"Canter's Las Vegas\", 'Seasons Buffet', 'Memphis Championship Barbecue', 'China One - South Durango', 'Le Cafe Ile St. Louis', 'Le Cirque', 'Jackie Bee Boba Express', 'Tofu Hut', \"Harrie's Bagelmania\", 'Ohjah Noodle House', 'Buca di Beppo Italian Restaurant', 'Liquid Pool Lounge', 'Noodle Asia', \"Serrano's Mexican Restaurant\", 'Cafe Zupas', 'Cabo Mexican Restaurant', 'Nacho Daddy Downtown', 'Sporting Life Bar', \"Grouchy John's Coffee\", \"Blaze Fast-Fire'd Pizza\", 'Chapalas Mexican Restaurants', 'Portion Control', \"Maria's Taco Shop\", 'Hanabi', 'SK Seafood Restaurant 勝記', \"Pizzeria Francesco's\", 'RA Sushi Bar Restaurant', 'Thai Style Noodle House', \"Angelina's Pizzeria - Eastern\", 'Don Tortaco Mexican Grill', '7th & Carson', 'Ellis Island BBQ', 'T-Bird Lounge & Restaurant', 'Village Pub & Poker', \"Goldfinger's Bar & Grill\", \"Baja Miguel's\", \"Joe's New York Pizza\", 'Vesta Coffee Roasters', \"Bavette's Steakhouse & Bar\", 'Rikki Tiki Sushi', 'Tournament of Kings', 'New York Bagel Bakery', 'Stripburger', \"Julio's Tacos & Grill\", 'THE Steak House', 'The Memory Thai', \"Frank & Fina's Cocina\", 'Strip View Cafe', 'Cukis', 'Thai Bistro', 'Canyon Ranch Grill', 'KoMex Fusion', \"Bobby's Burger Palace\", 'Therapy', 'Playa Papagayos', 'Lobster ME', '8th Ave Pizza', \"Macayo's Mexican Restaurant\", 'Olives', 'Q Bistro', 'Zizzy', 'Doña Maria Tamales Restaurant', 'Brioche by Guy Savoy', 'Wazuzu', 'Brown Rice Thai Kitchen', 'Garden Korean Restaurant', 'Tacos Al Carbon', 'Sen of Japan', 'Bachi Burger', 'Ketchup Premium Burger Bar', 'Rosallie', 'Snow White Cafe', 'Yard House', \"Carl's Jr\", \"Sid's Cafe\", 'Bahama Breeze', 'Los Cucos Mexican Cafe', 'Delhi Indian Cuisine', 'Crown & Anchor British Pub', 'The Coffee Bean & Tea Leaf', 'Steak & Spud Factory', 'Ramen KoBo', 'The Red Pot', 'Ringer', 'Sapporo Revolving Sushi', 'Citrus at the Downtown Grand Pool Deck', 'Sugar Factory', \"JJ's Boulangerie\", 'SW Steakhouse', \"Tina's Gourmet Sausage House\", 'Hooters', 'Garden Buffet', 'Easy Life Boba Tea', 'Hand Car Wash - Sinclair', 'The Mixx Grill and Lounge', 'Cafe Chloe', 'Pho 88', 'China A Go Go', 'Taco Time', \"Dean's Place\", \"Robert Irvine's Public House\", 'Yassou', 'Durango Hills Golf Club', 'Badger Cafe', 'Pop Up Pizza', 'STK Las Vegas', 'Gonzalez Y Gonzalez Restaurant', 'The Lodge Tenaya', \"Danna's Caribbean Grill\", 'Dirt Dog - Las Vegas Strip', \"Binion's Cafe\", 'Sushi Culiacan', 'El Herradero Mexican Restaurant', 'Chicago Brewing Company', 'The Martini', 'Canyon Ranch Cafe', 'Cafe Americano', 'SC Prime Steakhouse & Bar', 'Chamango', 'Ohlala French Bistro', 'Chart House', 'China One - West Charleston', 'Casanova', 'Red Rock Pizza', 'Grand Bazaar Shops', 'Krazy Buffet', 'Bacio', 'Blaze Fast Fired Pizza', 'The Melting Pot - Las Vegas', 'Jaburritos Sushi Burritos', 'Streets of New York', 'Ramen Tatsu', 'Hamptons', 'Sababa Mediterranean Grill', \"John Mull's Meats & Road Kill Grill\", 'Crunch Donut Factory', 'Rhythm Kitchen', 'Boca Do Brasil', 'South Beach Cafe & Deli', 'The Great Greek', 'Arandas Taqueria', 'SUZUYA Pastries & Crepes', 'Pkwy Tavern', 'El Nopal', 'VeggiEAT Xpress', 'Nacho Daddy', 'Makai Pacific Island Grill', 'Robertos Taco Shop', 'Rincon Catracho', 'Trattoria Reggiano', 'Golden Nugget Buffet', 'Island Sushi & Grill', 'Buffet Asia', 'Red Lantern Pho Vietnamese Grill', 'Beauty & Essex', 'Skinny Dugans', 'Curry Zen', 'Above the Crust', \"Della's Kitchen\", 'Marché Bacchus', \"Nittaya's Secret Kitchen\", 'A18 I Love Crab & Karaoke', 'Sushi Takashi', 'Rainbow Kitchen', 'Sinatra', 'Sake Rok', 'é by José Andrés', 'Flavors The Buffet', 'Casa Don Juan  - Summerlin', 'Frijoles & Frescas Grilled Tacos', 'Paradise Place Jamaican Cuisine', \"Dougie J's Cafe\", \"Rocco's\", 'Snacks', 'Sin City Sushi', 'Citizens Kitchen and Bar', 'Porchlight Grille', 'Taqueria El Tizon Grill', 'Lobster Chowder Company', \"Joe Vicari's Andiamo Italian Steakhouse\", 'MadHouse Coffee', 'Cafe Mayakovsky', 'Rubalcabas Taco Shop', 'Kaizen Fusion Roll and Sushi', \"Morton's The Steakhouse\", \"Ruby's Diner\", 'Biwon Korean BBQ & Sushi Restaurant', 'Las Delicias Demontecristo Restaurant', 'Sushi Koma', \"Benny's Smokin BBQ and Brews\", 'Viva Café', 'Kneaders Bakery & Cafe', 'Sports Deli', 'Oiga, Mire, Vea Colombian Cuisine', 'Vintner Grill', 'Angara Indian Spice Grill', 'LJ Filipino Restaurant and Pub', 'Blondies Sports Bar & Grill', 'Great Links Brewhouse & Grill', 'Downtown Grand Hotel & Casino, An Ascend Hotel Collection Member', 'Hakkasan Nightclub', 'Bazaar Meat by José Andrés', 'Tacos La Carreta', 'Biscuits Cafe', 'Rivas Mexican Grill', 'Off the Hook', 'Pho Saigon 8', 'Kusina Ni Lorraine Express', \"Tacos N' Ritas\", 'Harbor Palace Seafood Restaurant', 'Thai House', 'Mariscos Vallarta', 'E-Jo Korean Restaurant', 'Sin Fronteras Tacos', 'Baidu China Bistro', 'Culinary Dropout', 'Windy City Beefs N Pizza', 'La Salsa', 'New York Pizza Ribs & Wings', 'New York Pretzel', 'Timbers - Azure', 'SkinnyFATS', \"Chili's Too\", 'Zeffirino', 'The Oyster Bar', 'Thai Seafood Ginger', 'Smith & Wollensky', \"Rosati's\", 'Island Malaysian Cuisine', 'Jack In The Box', 'Buca di Beppo', 'Cinnaholic', 'Perú Chicken', 'Nekter Juice Bar', 'Paina Cafe', 'Kapit Bahay', 'Beijing Noodle No. 9', 'Pho Vietnam Restaurant', 'The Lodge at Grand Teton', \"Chef Ching's Kitchen\", 'Distill - A Local Bar', 'S7 Buffet', \"Mr. Lucky's 24-7\", 'Yogurt In', 'Hot Dogs at Slots of Fun', \"Sultan's Grill\", 'Umami', 'Eggslut', \"Fleming's Prime Steakhouse\", 'Japaneiro', 'Dimas Tacos', 'Wicked Spoon', \"Big Dog's Draft House\", \"PT's Ranch\", 'Eclipse Theaters', 'Timbers - Durango', 'WTPho', \"Basil 'n Lime\", 'SEA: The Thai Experience', 'Blossom', 'DJT', 'Silver State Diner', 'Red Sushi', 'Beerhaus', \"Mastro's Ocean Club\", 'Pei Wei', 'Burke in the Box', 'Casa Don Juan  - Downtown', 'The Market', \"Hugo's Cellar\", 'Three Angry Wives', 'Macayo Vegas', 'Bund Shanghai', 'Sushi Hiro', 'Cherry Berries', 'Guy Savoy', 'Frijoles & Frescas', 'Veranda', 'The Rockhouse', 'Sambalatte Torrefazione', \"Jefe's Taco Shop\", 'Yardbird Southern Table & Bar', 'Oh Curry', 'Hawthorn Grill', \"Asada's Tacos\", \"Mama Depalma's Pizza & Bistro\", 'Pizza My Dear', 'Mariscos Playa Escondida', \"Seattle Dan's Pizza\", 'Udon Monzo', 'The Charcoal Room', 'Waffle Bar @ Venitian', 'Gordon Ramsay Burger', 'Downtown Terrace', 'Verrazano Pizza', 'McDonalds', 'Sumo Sushi 2', 'Goose Island Pub', 'Tea Space', 'The Capital Grille', 'Fú Asian Kitchen', \"Bogey's Bar & Grill\", 'Anise Tapas & Grill', 'Fulton Fish Frye', 'Ramen Sora', 'The Game', 'Sushi Bar Sage', 'Toros Cantina & Gaming', \"Bonanno's New York Pizzeria\", 'Orange Julius / Dairy Queen', \"Mr D's Sportsbar & Grill\", 'Inaka Sushi', 'Tables Board Game Spot', 'Hong Kong Garden Seafood & BBQ Cafe', 'Aztec Inn', \"Jason's Deli\", 'Red 8', 'Las Vegas North Premium Outlets', 'Polaris Street Cafe', 'The Blue Skillet Family Restaurant', 'Rice n Noodle', 'Hong Kong Cafe', \"Buddy V's Ristorante\", 'Table 10', 'Barista Bagels', 'Joël  Robuchon', 'Habaneros Taco Grill', \"Sicily's Pizza\", 'Yunnan Garden', 'Baan Thai Restaurant', 'The Lodge Cactus', 'Mingo Kitchen & Lounge', 'Tennesseasonings', 'La Bonita Supermercado', 'Pizza Rock', 'Mian Sichuan Noodles', 'Groundswell Tabletop Game Cafe', 'TangTangTang', 'Las Islitas', 'Top of the World', 'Tasty BBQ Kitchen', 'Red Lobster', 'Sicilian Ristorante', 'Sourdough Cafe', 'Life Cafe', 'Super Burrito', 'Ellis Island Hotel, Casino & Brewery', 'Great Buns Bakery', 'Tiabi Coffee & Waffle', 'Go Vegan Cafe', \"Zenaida's Cafe\", 'Table Thai Bar & Bistro', 'Le Pho Vietnamese Kitchen', 'Pizzalicious', 'Kopper Keg Lounge', \"Putter's Bar & Grill\", 'Pho Bistro', \"Rocco's NY Pizzeria\", \"D'Pinoy Joint\", 'The Buffet', 'Bonefish Grill', 'Ocean One Bar and Grille', 'Breakfast & Grill Cafe', 'Food Court at Fashion Show Mall', 'Kabuki Japanese Restaurant', 'Chapel in the Clouds', 'Fresh Kabob', 'Dae Jang Keum Korean BBQ & Tofu Restaurant', \"Khoury's Mediterranean Restaurant\", 'Kimchi Korean Bbq', 'Blue Ribbon Fried Chicken - Grand Bazaar', 'Parsley Modern Mediterranean', \"Vince Neil's Tatuado EAT DRINK PARTY\", \"Miller's Ale House - Las Vegas\", \"Lee's Korean BBQ\", 'Fat Boy', 'Las Cazuelas', 'TAP Sports Bar', 'Haute Doggery', 'Hyde Bellagio', 'Aquatic Treasures', 'China Dragon', 'Espressamente illy', 'Fogo de Chão Brazilian Steakhouse', 'Einstein Bros Bagels', 'Tacos El Compita', 'Beach Café', 'Paradise Cantina', 'Planet Hollywood', 'Lindo Michoacan', 'Cypress Street Marketplace', 'New Grand China', 'Crêpe Station', 'Oyster Bay Seafood', 'Flamingo Pizza', 'Cous Cous Mediterranean Cafe', 'LULU Hawaiian BBQ 2', 'Philly Steak Express', 'PKWY Tavern', 'The Olive Mediterranean Grill', 'The Hush Puppy', 'PBR Rock Bar & Grill', 'Kazuki Sushi', 'Arata Sushi & Bowl', 'Bouchon Bakery at the Venetian Theater', 'Hofbräuhaus Las Vegas', 'The Palm Las Vegas', 'Buca Di Beppo', 'Viva Lounge', 'Ru Yi Noodle House', 'Barcelona Tapas', 'Urban Turban', \"Sister's Oriental Market & Video\", \"Marie Callender's Restaurant & Bakery\", \"Archi's Thai Cafe\", 'Rice & Company', \"Maggiano's Little Italy\", \"Shake N' Burger\", \"Dick's Last Resort\", 'Chopstix', \"Top of Binion's Steakhouse\", \"Gallagher's Steakhouse\", 'Rolling in Dough Cafe', 'Manhattan Pizza', 'The Great American Bagel', 'Jjanga Japanese Restaurant', 'North Beach Italian Bistro', \"Bentley's Bar and Grill\", \"Sofia's Pizza\", 'Las Pupusas Restaurant', 'Lakes Lounge', 'Ohjah Japanese Steakhouse Sushi & Hibachi Flamingo', \"Dewar's Clubhouse\", 'Divine Eatery', 'Bobo China', 'Paymons Mediterranean Cafe & Hookah Lounge', 'Excalibur Pool', 'Tacos Huevos', 'Cafe Summer', 'Baja Bar & Grill', 'Euro Market & smoke shop', 'MGM Grand Buffet', 'The Henry', 'Azuza Hookah Lounge & Cafe', 'Stir Krazy Mongolian Grill', 'South Point Hot Dog Cart', 'Pub 365', 'Casa Del Matador', 'No Regrets Bar', 'Chop Chop Wok', 'Coney Island Hot Dogs', 'Big Sur Oyster Bar', 'MVR Auto Services', 'Mad House Coffee', 'Bar Code Burger Bar', 'Social Life Pizza', 'AquaKnox', \"Rocky's Bar and Grill\", 'Seafood Shack', 'Buffet  Asia', 'Delmonico Steakhouse', 'Thai Cuisine', \"Don Tortaco's\", 'Little Dumpling', 'Onion Steak Sub', 'New York Pizza & Pasta', 'Luckys', 'Jacky Chan', 'Pho Bosa', 'Hacienda Del Rey', 'North End Pizza', 'Magura', \"Arizona Charlie's Decatur\", 'Market Street Cafe', 'Krazy Sushi', 'The Protein Source', 'Tower Pizzeria', 'Pin-Up Pizza', 'Ilopango Salvadorean Restaurant', 'FIX', '1923 Bourbon & Burlesque', 'Korea Town Plaza Food Court', 'Pearl Wok To Go', 'Happy Wok', \"Tom Colicchio's Heritage Steak\", 'Ho Ho Ho Chinese', 'The Pizza Kitchen', 'Grand Sign Kitchen', 'Johnny Vegas Grill', 'La Creperie', 'The Buffet at Bellagio', 'Verona Pizza', 'Presto Calzone Bakery', 'Zabas Mexican Grill at the Plaza', 'Bandito Latin Kitchen & Cantina', 'South Philly Steak & Fries', 'La Bella Napoli Pizzeria', 'Saffron Flavors of India', 'La Flor Es Michoacan', 'Antique Mall of America', 'Carson Kitchen', 'Freedom Beat', 'Downtown Container Park', 'Du-Pars Restaurant and Bakery', 'Lazeez', \"Carrabba's Italian Grill\", \"Fuzzy's Taco Shop\", 'Pho 90', 'The Buffet At TI', \"Mad Matty's Bar & Grille\", 'La Flor De Michoacan Restaurant', 'Ocha Thai Cuisine', \"Chili's\", 'Nagano Sushi & Grill', 'Sidestreet Pho and Grill', \"Oscar's Steakhouse\", 'Pho 87', 'Tacos El Burrito Loco', 'Makers & Finders Coffee', 'Hong Kong Garden Seafood & Dim Sum Cafe', 'Cañonita', 'The Habit Burger Grill', 'Grand Lux Cafe', 'Mon Ami Gabi', 'IKEA', \"Leticia's Mexican Cocina At Tivoli Village\", \"Sammy's LA Pastrami & Burgers\", 'Lokuras', 'Urban Crawfish Station', 'Campus Commons Food Court', \"Giuseppe's Bar & Grille\", \"Marco's Pizza\", 'Table 34', 'El Cochinito Contento', \"Tina's Filipino Cuisine\", \"Little Caesar's\", 'Drugstore Cafe', 'Ohjah Japanese Steakhouse Sushi & Hibachi', 'Pho Kitchen', 'SUSHISAMBA - Las Vegas', 'Potato Corner', 'Vitality Bowls', 'Thai Pepper', 'Gold Spike', 'Desi Burrito', 'China Hot Wok', 'Charleys Philly Steaks', 'Cadillac Mexican Kitchen & Tequila Bar', 'Pho at The Coffee Shop', 'New American Sandwich Co', 'ENVY The Steakhouse', 'Pie Me Over', 'Rx Boiler Room', 'Teriyaki House', 'Kuben', '360 Gourmet Burrito', 'Sushi Way', 'The Paiza Club', 'The Cheesecake Factory', 'Simply Pure by Chef Stacey Dougan', \"50's Diner Omelet House\", \"Steiner's\", 'Teppan Bento', '7 Sinful Subs', 'Taco San Francisco', 'Osaka Japanese Bistro', 'Super B Burrito', 'Sushi Twister', 'Nothing Bundt Cakes', \"Viva Mercado's Mexican Bar & Grill\", 'Hachi', 'Pupusas La Familiar Restaurant', \"Rock & Reilly's Las Vegas\", 'India Oven', 'Polish Deli', 'Noodle Pot', 'Afandi Restaurant and Market', 'House of Blues - Music Venue', 'Volcano Grille', \"Vic & Anthony's Steakhouse\", 'Lima Limon', \"Arby's Roast Beef Sandwich Restaurants\", 'Cevicheria El Diamante', 'Charlie Palmer Steak', 'Stack Restaurant & Bar', \"Valerio's Tropical Bake Shop\", 'Villa Pizza Durango', \"Juan's Flaming Fajitas & Cantina\", 'Canaletto Ristorante Veneto', 'Pamplemousse Le Restaurant', \"Griff's\", 'Paradise Buffet & Cafe Restaurant', 'Bomb Tacos', 'Satay Thai Bistro & Bar', 'Viet Bistro', \"Ron's Market Eastern European Meat & Deli\", 'Searsucker', 'Venice Pizza & Subs', 'Lotus Garden Cuisine', \"Lucky's Restaurant\", '17 South Booze & Bites', 'BARDOT Brasserie', \"Rollin' Smoke BBQ\", \"Paymon's Mediterranean Cafe & Lounge\", \"Sun's Thai Food & Jerky\", \"Ruth's Chris Steak House\", \"Handel's Homemade Ice Cream & Yogurt\", 'Bao Now', 'Santa Fe Mining Company', 'Fremont Hotel & Casino', 'Cafe Modena', \"Siegel's 1941\", \"Dom DeMarco's Pizzeria & Bar\", 'Rí Rá Irish Pub', \"Mary's Hash House\", 'Topgolf', 'Crepe Station', 'Rainforest Cafe', 'Sushi-ko', 'District One', 'Joes Seafood Prime Steak & Stone Crab', 'The Bootlegger Italian Bistro', \"Biaggio's Pizzeria\", \"Leticia's Mexican Cocina\", 'Chicke Now', 'Chuchote Thai Bistro & Desserts', 'The Bagel Cafe', 'Bosa Boba Cafe', 'POKE POKU  Hawaiian Poke bar', 'The Lodge Hualapai', \"Brando's Sportsbar\", 'Heart Attack Grill', 'Koi Restaurant', 'Petrossian Bar', 'Aria Mediterranean Restaurant', 'Cobrinha Brazilian Jiu Jitsu Academy', 'TGI Fridays', 'Kahuku Poke and Hawaiian Barbecue', 'Farm Basket', \"Wahoo's Fish Tacos\", 'Ogden Mart', 'Sandbar', '808 Sushi', 'Island Flavor ', 'Fresco Italiano', 'Krung Siam Thai', \"Carmine's Italian Restaurant - Las Vegas\", 'John Cutter', 'Bite Breakfast & Lunch', 'Home Plate Grill & Bar', 'Kung Pao Wok', 'Albo Pizza', 'Salsa Loca Mexican Grill', 'Edge Steakhouse', 'Sahara Korean Restaurant', 'Sin City Wings', 'La Parrilla The Lab', 'Hometown Eats', 'Kkulmat Korean Kitchen', \"John's Incredible Pizza Company\", 'Jasmine', 'The Buffet at ARIA', 'Blue Ox Tavern', 'Straight From Philly Steakout', 'L&L Hawaiian Barbecue', 'Pyramid Cafe', 'M&M Soul Food Cafe', 'MrJims.Pizza of Las Vegas', \"Cariba Charlie's\", 'Kusina Ni Lorraine', 'Twin Peaks', 'Jollibee', \"TC's Rib Crib\", 'Chin Chin', 'Those Guys Pies', '48th and Crepe', 'Grill 55', 'Fresh Buffet', 'Gogo Poke LV', 'Westcliff Station', 'Vegas Express Sushi', \"Anthony's New York Pizza & Deli\", 'Yong Kang Street', 'Centro America Restaurant', 'Di Fara Pizza', 'Jardin', 'Jac & Ray', \"Phil's Italian Steak House\", 'Protein House', 'Roadrunner Saloon', '5 Dollar Cafe', 'The Valley Thai Restaurant', 'Ping Pong Thai Restaurant', 'Los Antojos', \"Tony Big's Pizza N Pasta\", \"Jared's Old Fashioned\", 'Portofino by Chef Michael LaPlaca', 'Shoku Ramen', 'Backstage Deli', 'Fiddlestix', 'Jin Mee Korean BBQ Restaurant', 'The Sparklings', 'Pineapple Park', 'Eat.', 'Chronic Tacos', 'Wolfgang Puck Bar & Grill Las Vegas', \"Freed's Bakery\", 'Scarpetta', 'Flock & Fowl', 'Primarily Prime Rib Restaurant', 'Village Pub and Cafe', 'House of Blues Restaurant & Bar', 'Napoli Pizza', 'PGA Tour Grill', 'San Gennaro Feast', 'Fat Dumpling', 'LAVO Italian Restaurant & Lounge', 'Timbers - Lake Mead', 'Yummy Grill & Sushi', '595 Craft And Kitchen', 'Vegas Best Pizza', 'Gordon Ramsay Pub & Grill', 'Retro Bleu Cafe', 'Bacon Bar', 'Sura BBQ Buffet', 'Musashi Japanese Steakhouse', 'YuXiang Korean Chinese Cuisine', 'Bomas Bar & Grill', 'Lazy Dog Restaurant & Bar', 'La Bocce', 'Amena Bakery & Deli', 'Red Label Bar & Lounge', 'Zest - Bistro & Bar', 'O-my Sushi', 'Panna Thai Restaurant', \"Rubio's\", 'The Lodge Coffee House & Tavern', 'Bacchanal Buffet', 'Prime', 'Cabo Wabo Cantina', 'Brewskes Bar & Grille', 'Great Wall Chinese Restaurant', 'Fun Tacos', \"Big Ern's BBQ\", 'Kung Fu Tea', 'California Noodle House', 'Fin', 'Crafted Buffet', 'Xo Chinese Food', \"Lola's A Louisiana Kitchen\", 'Jumping Rice & Rolls', 'Pantry - 24 Hour Kitchen', \"Lulu's Bread & Breakfast\", 'Island Pacific Seafood Market', 'Villa Pizza', 'Giordanos - Las Vegas', 'Bajamar Seafood & Tacos', 'Sundance Grill', \"Patty's Tamales\", 'Burger Lounge', 'Rilibertos Fresh Mexican Food', 'Taco Rico Los 3 Gallos', 'The Smashed Pig Gastropub', 'The Noodle Man', \"Mr G's Pub & Grub\", \"Steiner's A Nevada Style Pub\", 'Hooters Casino Hotel Las Vegas', 'Manna Korean BBQ', \"Papa Pinny's Pizzeria\", 'Taqueria El Tizon Grill 2', 'Julian Serrano Tapas', 'El Diamante Restaurant', 'Rounders', 'Rise & Shine a Steak & Egg Place', 'Americana', 'Spago by Wolfgang Puck', \"Plantone's Italian Market\", 'RM Seafood', 'DQ Grill & Chill', 'Fiiz Drinks Las Vegas', 'Pearl Ocean', 'Silver Sevens Hotel and Casino', 'La Belle Terre Bread French Bakery Café', \"Ichabod's Lounge\", 'Holsteins Shakes and Buns', \"Mastrioni's\", 'Lotus of Siam', \"Capo's Italian Cuisine\", 'Blue Iguana Mexican Express', 'Cafe Nikki', 'Poppa Naps BBQ', 'Pho T', 'Mickie Finnz', 'St. Tropez International Buffet', \"Glazier's Food Marketplace\", 'Marcos Pizza', 'Sunnys Chicken & Fish', \"Magnolia's Veranda\", 'India Masala', 'Aureole', \"Archi's Thai Bistro\", 'Muscle Maker Grill - Las Vegas', 'Carnegie', 'The Original Sunrise Cafe', 'Mr Chow', 'Va Bene Caffè', 'Nosh', 'B&B Ristorante', 'Soul Food Cafe', 'La Cabana', '#1 Hawaiian Barbecue', 'Bronze Cafe at The Market', 'Cafe Sanuki', 'San Salvador Restaurant', 'Sbarro', 'Wing King', 'Old Homestead Steakhouse', 'Texas de Brazil', 'Cili', 'Tableau', 'Pios Pios Ice Cream Shop', 'Tacos Mexico', 'Zuma Las Vegas', 'Mariscos El Dorado', 'Chophouse & Brewery', 'Viva El Taco', \"Juice 'N' Go\", 'Italian American Club Restaurant', 'Rika Arepa Express', \"Tom Colicchio's Craftsteak\", 'Aloha Kitchen & Bar', \"Angelina's Pizzeria - Cheyenne\", \"Yanni's Greek Grill\", 'Omelet House', 'Tacos El Compita 3', 'Roma Deli II and Wine Shop', 'El Sombrero Mexican Bistro', 'Cafe Bellagio', 'Oasis Asian Kitchen', \"Song's Family\", 'Sushi Roku', \"Scooter's Pub\", \"Trillo's Street Tacos\", 'Egg & I', 'Baguette Cafe', 'Thai Food To Go', 'Las Pupusas', 'YOLOS', 'Bubba Gump Shrimp', 'Siamese Bistro', 'Shawarma House', 'Second Street Grill', 'Food Express Chinese Restaurant', 'The Goodwich', 'Nook Café', 'Il Mulino New York', 'Sports Book Grill', 'The Bar @ Tropicana & Durango', 'MAMAOH', 'Paradise Cafe', 'Cafe Pan', 'Kobe Sushi Bar', 'The Still', 'Earl of Sandwich', 'Sagos Baja Tavern & Lounge', 'Grand Café', \"Felipito's Mexican Food\", \"Salvatore's\", 'Novecento Pizzeria', 'Greenland Supermarket', \"Ted's Sushi Burrito\", 'Casa Di Amore', 'Brothers Italian Bistro', \"Russo's Pizza Kitchen\", 'Chicago Hot Dogs & Subs', 'Patisserie Manon', \"Alexander's Pizza\", 'El Salvador 503', 'Kabuto', 'German Bread Bakery', \"Gandhi India's Cuisine\", \"Aracely's SAZON Colombiano\", 'Cafe Gelato', 'Yayo Taco', 'Wo Fat', 'Zaytoon Restaurant', \"Nanny's\", 'Flour & Barley', \"Hedary's Mediterranean Restaurant\", 'Komol Restaurant', 'FireRock Steakhouse', 'Joshan Filipino Oriental Market', 'Benihana', 'Apache Taco Shop', 'Japanese Curry Zen', 'Asian BBQ & Noodle', 'Fat Choy', 'Marrakech', 'Starboard Tack', 'Rigos Taco', 'The Salon at Lakeside', 'Panacea', 'Crush', 'Firefly', \"Sammy's Woodfired Pizza And Grill\", 'Mr Mamas', 'Is Sweet', 'Spice Market Buffet', 'Harvest Cafe', 'Amore Taste of Chicago', 'Geisha House Steak & Sushi', \"Ron's Steakhouse\", 'Pizzeria Da Enzo', 'Evel Pie', 'Sushi Tower & Steakhouse', 'Pampas Churrascaria Brazilian Grille', 'Las Taquizas', 'Hibachi Grill & Supreme Buffet', \"Chuck E. Cheese's\", 'Golden China', 'Chow King', 'Mantra Masala', 'LV Food Junky', 'Michoacan Gourmet Mexican Restaurant', \"Cue-D's Billiards\", 'Galanga Thai Eatery', \"The Daddy's Pizza\", 'Spiedini Ristorante', 'Original Pancake House', \"Lou's Diner\", 'Savona Bistro', 'WuHu Noodle', 'TPC Grille', 'Gordon Ramsay Fish & Chips', 'Siena Italian Authentic Trattoria and Deli', 'Cook On Wok', 'La Maison de Maggie', 'Sekushi Japanese Restaurant', 'Pump N Snack', 'Kumi Japanese Restaurant + Bar', \"Dickey's Barbecue Pit\", 'Pinot Brasserie Bakery', 'Grill City', 'Cornish Pasty', 'Philly Cheesesteak Factory', 'Jenni Pho', 'Taco Bell Cantina', 'Eiffel Tower', 'Chopstix Express', 'Hard Hat Lounge', 'Gordon Ramsay Steak', \"CJ's Italian Ice & Custard\", 'Red Rice', \"Toby Keith's I Love This Bar & Grill\", 'Cleo', 'Le Village Buffet', 'Wing Heaven', 'Tommy Bahama Restaurant | Bar | Store - Las Vegas', \"Rani's World Foods\", 'Sakana', \"Brooksy's Bar & Grill\", 'BLT Steak', 'Wahlburgers', 'Zenshin Asian Restaurant', 'Mercato Della Pescheria', 'Nine Fine Irishmen', 'Hot Tofu', 'Hokaido Sushi', 'Sweet Tomatoes', 'La Reyna Mexican Restaurant & Mariscos', 'Jjanga Steak & Sushi', 'Golden Flower Chinese Cuisine', 'Aloha Hawaiian BBQ', 'Herringbone', 'Bingo at South Point', \"Sirrico's Pizza\", 'KG BBQ', 'Sage', 'SG Bar', \"Mulligan's Border Bar & Grill\", 'Rustica Pizzeria', 'Le Thai', 'Public School 702', 'MTO Café', 'Wolfgang Puck Bar & Grill Summerlin', 'Kabob Express', 'Pei Wei Asian Diner', 'Kabob N More', 'TAO Asian Bistro', 'Twin Creeks', 'Dirty Fork', 'Timbers - Cheyenne', 'Blizz', 'Tasty Crepes', 'Bonito Michoacan', 'Little Italy Pizza', 'The Perq', \"Granny's Kitchen\", 'Honey Pig', \"McFadden's Restaurant and Saloon\", 'Elia', 'South Beach Food Court', 'Omoide Noodles & Bowls', \"Little Caesar's Pizza\", 'International Eatery', 'Mizumi', 'Marketplace Cafe', 'D Grill', 'Foundation Room', 'Pho Vietnamese Cuisine', 'Espression Cafe', \"Sammy's Woodfired Pizza and Grill\", 'Via Brasil Steakhouse', 'Boston Pizza', 'India Palace', 'T-Bones Chophouse', 'Metro Diner', 'Island Style Restaurant', 'Hi Scores - Blue Diamond', \"Gianna's Pizza\", \"Tony Roma's\", 'Triple George Grill', 'Peng Zu', 'Harvest by Roy Ellamar', \"Flippin' Good Chicken, Burgers, Beer\", 'Hard Rock Cafe', 'Bombay Indian Cuisine', 'Blue Burrito Grille', 'Boba Hut', 'Shucks Tavern & Oyster Bar', \"Charlie's Market Buffet\", 'Mr Poké Bowls & Rolls', \"Ely's Restaurant\", 'Hokkaido Teppanyaki Steak House', 'Wing Lei', 'GO!KU J-Wraps & Ramen GOKU', 'Islands Restaurant', 'Krayvings', 'Yoshi Burritos', 'Viet Noodle Bar', 'Palio', \"Hussong's Cantina Boca Park\", 'Buldogis Gourmet Hot Dogs', 'Pro Kabob Persian Restaurant', 'The Phoenix Bar & Lounge', 'Kapuso Kapamilya', 'Umami Burger -  SLS Las Vegas', 'Rose. Rabbit. Lie', 'Chun Fai Chinese Eatery', 'Rivea', 'Huntridge Pharmacy', 'The Cuppa', 'Jamms Restaurant', '702 Wing Spot', 'Cafe Belle Madeleine', 'Kaiseki Yuzu', 'Sambalatte', 'To See Roll', \"Winchell's Donut House\", 'Illumilatte Brew Society', \"Lawry's The Prime Rib\", 'J & J Szechuan Cuisine川味坊', 'Prommares Thai Food', 'Montana Meat Company', 'Spicy City', 'Canaletto', 'Familia Pizzeria', 'Cardenas Market', \"Tom's Urban\", 'Mob Bar', 'Old Vegas Tavern', 'Mr. Z Tea Co', 'Golden Steer Steakhouse', 'Layla Grill & Hookah', 'The Juice Standard', 'Fuel Café', 'Noodle King', 'Ramen Ya Katana', 'Babystacks Cafe', 'Moko Ramen Bar', \"Lilly's Thai & Vietnamese Restaurant\", 'Yojié Japanese Fondue', 'Cool Bar', 'Magnolia Ice Cream and Treats', 'Raku', 'Design & Dine', 'Grand Cafe', 'Great Wraps', 'Sunrise Coffee', 'bin 702', 'Rebel Republic', 'Big Wong Restaurant', \"Mariano's Pupusas Bahai Centroamerica\", '8 Noodle Bar', 'Twist by Pierre Gagnaire', 'Chada Thai & Wine', 'China Mama Restaurant', 'Pho Vegas', 'Ichiza', \"Nanay Gloria's Filipino Fast Food\", \"Emperor's Garden\", 'California Sushi Burrito', 'Morimoto', \"Bambino's East Coast Pizzeria\", 'Chao Thai Restaurant', 'Tamba', \"Heidi's Brooklyn Deli\", 'Cheba Hut', 'Pier 215', 'ReBAR', 'Carbone', 'Libre Mexican Cantina', 'Soyo Korean Barstaurant', 'The Magic Noodle', 'Tea Station', 'Yui Edomae Sushi', 'Café To Go', 'Paid In Full', 'Rock n Roll Sushi', 'Coronado Cafe', \"Habib's Persian Cuisine\", 'Mr. Ribs & Mrs. Rice', 'On The Border Mexican Grill & Cantina', 'Donut Bar', 'Bahía Centroamerica Restaurant', 'The Tap House', 'Other Mama', 'Sonic', \"Binion's Gambling Hall\", 'Herbs & Rye', 'Pot Tea Social House', 'Timbers - Novat', 'Thai Original BBQ', 'Rise & Shine - A Steak & Egg Place', 'Wolfgang Puck Express', 'Buffet of Buffets', 'La Gloria', \"Joe Philly's Pizza\", 'Taste', 'Red Square Restaurant & Vodka Lounge', 'La Pizza', 'Burger Brasserie', 'Thai Taste', 'Ichi Ramen House', 'Fuddruckers', 'Dirt Dog', 'Overlook Grill', \"Boomer's Bar\", 'StripSteak', 'ChiAm Restaurant', 'Villa Fresh Italian Kitchen', 'Loftti Cafe', 'Turmeric Flavors of India', 'Ginseng Korean BBQ II', 'The Lodge at Shelbourne', 'Puerto Rico Express', 'Mochiko Chicken', 'Popeyes Lousiana Kitchen', 'Kung Fu Thai & Chinese Restaurant', \"Coco's Bakery Restaurant\", \"Hussong's Cantina Las Vegas\", \"Homie's Cinnamon Rolls and Comfort Cafe\", 'Piccadilly Pizza Fremont', \"Hennessey's Tavern\", 'La Mojarra Loca Grill', 'ARIA Café', 'Jaburritos', 'Pho Aimie', 'Strip House Steak House', 'Primrose', 'Hakkasan Restaurant', 'Shizen Japanese Restaurant', 'Promenade Cafe', 'Soho Japanese Restaurant', 'Mi Casa Grill Cantina', 'Veggy Street', 'Tasty Grill', 'Eatt Gourmet Bistro', 'Burger Bar', 'The Kitchen at Atomic', 'OTORO Robata Grill & Sushi', 'Squeeze In', 'Rice To-Go', 'El Dorado Express', \"Mother's Korean Grill\", 'Cafe Moda', 'Crispy Town', 'Primeburger', 'Five Star Tavern', 'Peru Chicken', 'Mojito Hut', 'Market Cafe Vdara', 'Brookwood Farms BBQ', 'India Masala Bar & Grill', 'Jean Georges Steakhouse', 'Shabu Grill', 'Izakaya Go', 'Chip Off The Block Deli', 'LV bar', \"Mount Everest India's Cuisine\", \"Naked Fish's Sushi & Grill\", 'HK Seafood Garden', \"Yanni's Gyros\", 'East West Pizzeria', 'Soho Sushi Burrito', 'Curbside Cafe', \"Carmine's Pizza Kitchen\", 'China Passion', 'Dog Haus', 'Gyu-Kaku Japanese BBQ', 'Smooth Eats', \"Ferraro's Italian Restaurant & Wine Bar\", \"Sharky's Woodfired Mexican Grill\", 'Capital Seafood Restaurant', 'The Grand Wok and Sushi Bar', 'Sam Woo BBQ Restaurant', 'The Rice Shop', 'Pot Liquor CAS', 'Westside Deli', 'Veggie Delight', 'MOzen Bistro', 'MacKenzie River Pizza, Grill & Pub', 'Pho Kim Long', 'Montana Meat Company - Durango', 'Full House BBQ', 'China Poblano', \"Greenberg's Deli\", \"Lola's A Louisana Kitchen\", \"Ito'y Sariling Atin\", 'Primavera Pizza', \"Hungry Howie's Pizza\", 'Sushi Hiroyoshi Japanese Cuisine', 'Icy Juicy', 'Crazy Crepes', 'Spaghetty Western', '8oz Korean Steak House', 'Katsuya', 'Baskin Robbins', \"Rainbow's End Natural Foods\", 'IKEA - Cafe', 'Jose Cuervo Tequileria', \"Dave & Buster's\", 'Camelot Steakhouse', 'MB Steak', 'Noodles', 'Rincon De Buenos Aires', 'Roma Deli 1 & Restaurant', 'LOL Kids Club', 'Daily Kitchen Modern Eatery and Rotisserie', 'Four Seasons Diner', 'Prima Pizza & Cafe', 'U.S Fried Chicken Halal', 'Mr Beijing', 'Hobak Korean BBQ', 'Fukumimi Ramen', 'China A GoGo', 'Trattoria Nakamura-Ya', 'El Canelo Restaurant', 'La Cave Wine and Food Hideaway', 'Mezzo Bistro and Wine', 'Gangnam Asian BBQ Dining', 'Franklin', \"Ding's Garden\", 'Lemongrass', 'Yellowtail', 'Fulton Street Food Hall', 'The Edge of Town', 'Honey Salt', 'Magal BBQ', 'Pho Thanh Huong', 'Bocho Sushi', 'A Cut Above Restaurant', 'Nanay Gloria', 'Lindbergh & Lindbergh Cafe', 'Jaleo', 'The Bar @Trails Village', 'Pour - Coffeehouse', 'Tonkatsu Kiyoshi', \"Ronald's Donuts\", 'Spa Aquae', 'Neonopolis', \"Pancho's\", 'Caffè Bottega', 'Thai Pan Cuisine', 'WingNutz', 'Hawaiian Style Poke', \"Olay's Thai Express\", 'Fountain Grille Restaurant', 'Le Petit Café & Bakery', 'Sushi Neko', 'Kopper Keg North', 'Crisp Sandwich Company', 'Gorilla Sushi']\n",
      "1808\n",
      "Categories: ['Arcades;Arts & Entertainment;Gastropubs;Restaurants;American (New)', 'Restaurants;Cafes;American (New);Bars;Nightlife;Wine Bars', 'Seafood;Italian;Pizza;Restaurants', 'Delis;Sandwiches;Restaurants;Breakfast & Brunch', 'Restaurants;Ice Cream & Frozen Yogurt;Shaved Ice;Hot Dogs;Food', 'Event Planning & Services;Caterers;Burgers;Greek;Restaurants;Middle Eastern;Mediterranean', 'American (New);Restaurants;Pubs;Nightlife;Sports Bars;Bars;Food;Pizza;Breweries', 'Arts & Entertainment;Restaurants;Buffets;American (Traditional);Casinos', 'Fast Food;Mexican;Restaurants', 'Restaurants;Burgers;Breakfast & Brunch;Diners;Food;Desserts', 'Food;Sushi Bars;Restaurants', 'Pubs;Sports Bars;Bars;Restaurants;Nightlife;American (Traditional)', 'Nightlife;Breweries;Restaurants;Food;American (New);Bars', 'Restaurants;Mexican', 'Sushi Bars;Japanese;Seafood;Restaurants', 'Food;Desserts;Mexican;Seafood;Restaurants', 'Chinese;Asian Fusion;Thai;Restaurants', 'Burgers;Bars;Restaurants;Mexican;Nightlife;Tex-Mex;Cocktail Bars;Beer Bar', 'Pizza;Restaurants', 'Cocktail Bars;Nightlife;Restaurants;Wine Bars;American (New);Bars', 'Food;Restaurants;Japanese;Tapas Bars;Desserts', 'Restaurants;Fast Food;Chicken Wings;Chicken Shop', 'Donuts;Cafes;Restaurants;Coffee & Tea;Food', 'American (New);Sports Bars;American (Traditional);Nightlife;Bars;Restaurants', 'Asian Fusion;Restaurants;Thai;Hawaiian', 'Hawaiian;Food;Japanese;Restaurants;Sushi Bars;Poke', 'Nightlife;Irish;Bars;Restaurants;Irish Pub;Pubs', 'Nightlife;Restaurants;Steakhouses;Bars;American (Traditional)', 'Breakfast & Brunch;Coffee & Tea;Restaurants;Food', 'Restaurants;Mediterranean;Greek', 'Do-It-Yourself Food;Barbeque;Restaurants;Hot Pot;Chinese;Fondue;Mongolian;Food', 'Soup;Restaurants;Ice Cream & Frozen Yogurt;Food;Salad;Juice Bars & Smoothies', 'Fast Food;Food;Hot Dogs;Restaurants', 'Restaurants;Breakfast & Brunch', 'Soup;Chinese;Restaurants;Salad', 'Breakfast & Brunch;Diners;American (New);Restaurants', 'American (Traditional);Restaurants;Pizza', 'Restaurants;Chinese', 'Vegan;Mexican;Restaurants;Tacos', 'Juice Bars & Smoothies;Cafes;Vegetarian;American (New);American (Traditional);Sandwiches;Vegan;Food;Pizza;Breakfast & Brunch;Burgers;Restaurants', 'Restaurants;Pizza', 'American (New);Restaurants', 'American (Traditional);Bars;Nightlife;Restaurants', 'Chicken Wings;Nightlife;Sports Bars;Restaurants;American (Traditional);Bars;Barbeque', 'Thai;Local Flavor;Restaurants', 'Juice Bars & Smoothies;Vegetarian;Vegan;Restaurants;Food', 'Soup;Pizza;Restaurants;Mediterranean;Italian', 'Restaurants;Vietnamese;Chinese;Thai', 'Shopping;Restaurants;Shopping Centers;Fashion;Outlet Stores', 'Food;Barbeque;Chicken Wings;Restaurants', 'Restaurants;Seafood;Filipino;Breakfast & Brunch;Asian Fusion', 'Salad;Japanese;Sushi Bars;Restaurants', 'American (Traditional);Diners;Restaurants;Breakfast & Brunch', 'Thai;Restaurants;Food;Bars;Food Delivery Services;Noodles;Vegetarian;Beer;Wine & Spirits;Nightlife;Beer Bar;Wine Bars', 'Shopping;Restaurants;Beauty & Spas;South African;Personal Shopping;African;Cosmetics & Beauty Supply', 'Restaurants;Pizza;Gluten-Free;Salad', 'Restaurants;Barbeque;Korean', 'Bars;American (New);Restaurants;Nightlife', 'Restaurants;Bakeries;Cuban;Ethnic Food;Food;Specialty Food;Latin American;Breakfast & Brunch', 'Restaurants;Food Trucks;Food Stands;Food;Burgers', 'Mexican;Restaurants;Fast Food', 'American (Traditional);Buffets;Restaurants;American (New)', 'Restaurants;Peruvian;Latin American;Fast Food', 'Restaurants;Food;Fast Food;Burgers', 'Restaurants;Diners;Breakfast & Brunch;Cafes', 'Specialty Food;Sandwiches;Restaurants;Delis;Cafes;Meat Shops;Event Planning & Services;Food;Caterers', 'Sports Bars;Restaurants;Bars;Nightlife;Seafood', 'Italian;Pizza;Restaurants', 'Nightlife;Bars;American (Traditional);Restaurants', 'Nightlife;Breakfast & Brunch;Restaurants;Wine Bars;Bars;Seafood;Steakhouses', 'Sushi Bars;Bars;Japanese;Restaurants;Nightlife;Lounges', 'Italian;Restaurants', 'Italian;Restaurants;Pizza', 'Food;Restaurants;Mediterranean', 'Restaurants;Seafood;Italian;Steakhouses', 'Restaurants;Juice Bars & Smoothies;Bubble Tea;Food;Coffee & Tea', 'Restaurants;Mexican;Nightlife;Seafood;Dance Clubs;Latin American;Bars;Salvadoran', 'Restaurants;Bars;Desserts;Thai;Wine Bars;Nightlife;Food', 'Restaurants;Indian', 'Vegan;Bars;Nightlife;Wine Bars;Restaurants;Sandwiches;Vegetarian;Live/Raw Food;Waffles', 'Comfort Food;Breakfast & Brunch;Beauty & Spas;Food;Coffee & Tea;American (Traditional);Restaurants;Hotels;Arts & Entertainment;Day Spas;Event Planning & Services;Casinos;Hotels & Travel', 'Food;Food Delivery Services;Restaurants;Mexican', 'Cafes;Restaurants;Food;American (Traditional);Vegetarian;Comfort Food;American (New);Juice Bars & Smoothies', 'Bars;Sports Bars;Restaurants;Pubs;American (Traditional);Nightlife', 'American (New);Breakfast & Brunch;Bars;Nightlife;Gastropubs;Lounges;Restaurants', 'Pizza;Buffets;Restaurants', 'Breakfast & Brunch;Venues & Event Spaces;Event Planning & Services;Restaurants;French;Cafes;Bakeries;Food', 'Chicken Wings;Restaurants', 'Sandwiches;Nightlife;Bars;Delis;American (New);Restaurants', 'Chinese;Restaurants;Thai', 'Restaurants;Kosher;Middle Eastern', 'Restaurants;Chicken Wings', 'Bars;Restaurants;Tapas/Small Plates;American (New);Nightlife;Lounges;Wine Bars;Tapas Bars;Cocktail Bars', 'Restaurants;Delis;American (Traditional);Sandwiches', 'Restaurants;Japanese;Sushi Bars', 'Caterers;Greek;Event Planning & Services;Restaurants;Mediterranean;Italian', 'Asian Fusion;Restaurants;Sushi Bars;Hawaiian', 'Breakfast & Brunch;Salad;Restaurants;Sandwiches', 'Restaurants;American (New);Nightlife;Cocktail Bars;Bars', 'Restaurants;Seafood;Greek', 'Fast Food;Hot Dogs;Restaurants', 'Chicken Wings;Restaurants;Fast Food;Southern', 'Halal;Vegan;Restaurants;Indian', 'Restaurants;Wine Bars;Mexican;Bars;Nightlife;Latin American', 'Food;Japanese Curry;Restaurants;Ramen;Fast Food;Noodles;Izakaya;Sushi Bars;Japanese;Specialty Food;Ethnic Food', 'Mexican;Breakfast & Brunch;Restaurants', 'Sandwiches;Restaurants;Kosher', 'Restaurants;Delis;Sandwiches', 'Restaurants;Bakeries;Macarons;Specialty Food;French;Food;Desserts', 'Specialty Food;Chocolatiers & Shops;Food;Desserts;Restaurants;Bakeries', 'Restaurants;Chicken Wings;Breakfast & Brunch;Mexican', 'Smokehouse;Nightlife;American (Traditional);Food;Restaurants;Bars;Southern;Barbeque', 'Seafood;American (New);Restaurants', 'American (New);Sports Bars;Nightlife;Bars;Restaurants', 'Casinos;Hotels & Travel;Event Planning & Services;Hotels;Restaurants;Arts & Entertainment', 'Chicken Wings;Restaurants;Bars;Pizza;Beer;Wine & Spirits;Sports Bars;American (Traditional);Food;Nightlife', 'Steakhouses;Pizza;Restaurants;Italian', 'Buffets;American (Traditional);Restaurants', 'Chinese;Restaurants;Hawaiian;Barbeque', 'Mexican;Restaurants', 'Fast Food;Restaurants;Sandwiches;Burgers', 'Chinese;Restaurants', 'Breakfast & Brunch;Restaurants;Cafes;Food;Italian;Coffee & Tea', 'Cafes;Food;Bakeries;Coffee & Tea;Restaurants;Desserts', 'Restaurants;Arts & Entertainment;Hotels;Event Planning & Services;Casinos;Resorts;Hotels & Travel', 'Salvadoran;Seafood;Mexican;Restaurants;Latin American', 'Chicken Shop;American (New);Restaurants;Chicken Wings;Fast Food', 'Bars;American (New);Karaoke;Nightlife;Asian Fusion;Cocktail Bars;Restaurants', 'Cafes;Sandwiches;Breakfast & Brunch;Bakeries;Restaurants;Food', 'American (Traditional);Burgers;Restaurants;Food;Ice Cream & Frozen Yogurt', 'Restaurants;Barbeque', 'Tex-Mex;Restaurants;Fast Food;Mexican', 'American (Traditional);Restaurants;Breakfast & Brunch;American (New);Burgers', 'Nightlife;Mexican;Bars;Restaurants', 'French;Restaurants', 'Restaurants;Steakhouses', 'Restaurants;American (New);Steakhouses', 'Fashion;Restaurants;Department Stores;Food Court;Shopping', 'Shopping Centers;Chinese;Shopping;Restaurants', 'Restaurants;Desserts;Italian;Food;Breakfast & Brunch', 'Vietnamese;Sandwiches;Restaurants', 'Bars;Restaurants;Nightlife;Hookah Bars;Pakistani;Halal;Mediterranean', 'Seafood;Bars;Nightlife;American (New);Restaurants', 'Asian Fusion;Japanese;Hawaiian;Restaurants', 'Steakhouses;Restaurants', 'Restaurants;Asian Fusion;Nightlife;Bars', 'Breakfast & Brunch;Restaurants;Southern;American (Traditional);Diners', 'American (Traditional);Restaurants;Diners;Burgers;Sandwiches', 'American (Traditional);Food;Breakfast & Brunch;Diners;Restaurants', 'Restaurants;Bars;American (Traditional);Nightlife;Cocktail Bars', 'Restaurants;Diners', 'Restaurants;Italian', 'Asian Fusion;Restaurants;Hawaiian;Japanese', 'Sandwiches;Restaurants;American (New);Salad;Food;Barbeque;American (Traditional);Cafes', 'Restaurants;Food;Tea Rooms;Tapas Bars;Desserts;Coffee & Tea', 'Nightlife;Bars;Restaurants;American (Traditional)', 'Restaurants;Hot Dogs', 'Seafood;Restaurants', 'Fast Food;Filipino;Restaurants', 'Venezuelan;Restaurants;Food Stands;Latin American', 'Sandwiches;Food;Breakfast & Brunch;Coffee & Tea;Restaurants', 'Cafes;Tea Rooms;Food;Bubble Tea;Restaurants;Desserts', 'Italian;Restaurants;Wine Bars;Bars;Steakhouses;Nightlife', 'Bakeries;Grocery;Food;Delis;Restaurants', 'Food;Restaurants;Bakeries;Filipino', 'Pizza;Specialty Food;Desserts;Restaurants;Food;Pasta Shops;Sandwiches', 'Restaurants;American (New);Barbeque', 'Soup;Restaurants;Salad;Thai', 'American (Traditional);Chicken Wings;Sports Bars;Nightlife;Bars;Restaurants', 'Restaurants;Japanese;Food;Poke;Sushi Bars;Asian Fusion', 'Restaurants;Greek', 'Hawaiian;Restaurants', 'Sushi Bars;Restaurants;Japanese', 'Restaurants;Bars;Nightlife;Seafood', 'Chicken Wings;Restaurants;Italian;Pizza', 'Restaurants;Japanese;Ramen', 'Restaurants;Pizza;Gluten-Free', 'American (Traditional);Burgers;Sandwiches;Fast Food;Restaurants', 'Italian;Salad;Nightlife;Restaurants;Wine Bars;Bars', 'Food;Asian Fusion;Food Trucks;Restaurants', 'Restaurants;Chicken Wings;Fast Food;Southern', 'Lounges;Bars;Nightlife;Restaurants', 'Bars;Sports Bars;Pubs;American (New);Restaurants;Nightlife', 'Food;Restaurants;Delis;Bagels;American (Traditional);Sandwiches', 'Restaurants;Sandwiches;Breakfast & Brunch;Burgers;Salad', 'Restaurants;Breakfast & Brunch;Diners;American (Traditional)', 'Juice Bars & Smoothies;Food;Organic Stores;Restaurants;Coffee & Tea;Gluten-Free', 'Fast Food;Restaurants;Italian;Pizza', 'Restaurants;Comfort Food;American (Traditional);Chicken Shop;Fast Food', 'Restaurants;Food;Burgers', 'Bars;Sports Bars;Restaurants;American (Traditional);Nightlife;Chicken Wings', 'Pizza;Restaurants;Fast Food', 'Cafes;Restaurants', 'Restaurants;Bagels;Mexican;Food', 'Pizza;Beer;Wine & Spirits;Italian;Vegan;Bars;Nightlife;Restaurants;Food', 'Mexican;Fast Food;Tacos;Restaurants', 'Street Vendors;Restaurants;Food;Food Trucks;Mexican', 'Restaurants;American (Traditional);Breakfast & Brunch;Cafes', 'Restaurants;Sushi Bars;Japanese', 'Bars;Restaurants;Cocktail Bars;Mexican;Nightlife', 'Pizza;Restaurants;Italian;Sandwiches', 'Event Planning & Services;Arts & Entertainment;Music Venues;Barbeque;Venues & Event Spaces;Salad;American (Traditional);Restaurants;Chicken Wings;Bars;Nightlife', 'Buffets;American (New);Arts & Entertainment;Restaurants;Casinos', 'Soul Food;Restaurants;Fast Food;Cajun/Creole', 'Mexican;Salad;Burgers;American (Traditional);Restaurants;Sandwiches;Breakfast & Brunch', 'Pubs;Sports Bars;Bars;Restaurants;Nightlife;American (New)', 'Cheesesteaks;Comfort Food;Hot Dogs;Restaurants;American (New)', 'Restaurants;Italian;Pizza;Seafood', 'Restaurants;Pizza;Italian;Sandwiches', 'Japanese;Restaurants;Sushi Bars', 'Restaurants;Vegan;Fast Food;Burgers', 'Restaurants;Tapas Bars;Nightlife;Modern European;Ukrainian;Spanish;Bars', 'Mexican;Seafood;Restaurants', 'Restaurants;Japanese;Hawaiian', 'Restaurants;Burgers;American (Traditional);Fast Food', 'Sports Bars;American (Traditional);Bars;Nightlife;Restaurants', 'Taiwanese;Chinese;Noodles;Delis;Asian Fusion;Restaurants', 'Mediterranean;Restaurants', 'American (New);Restaurants;Breakfast & Brunch', 'Pizza;Restaurants;Italian', 'Restaurants;Italian;Delis;Pizza', 'Wine Bars;Nightlife;Restaurants;Salad;Bars;Italian', 'Italian;Nightlife;Pizza;Cocktail Bars;Bars;Restaurants', 'Burgers;Sandwiches;Pizza;Restaurants', 'Food;Cafes;Coffee & Tea;Restaurants;American (New)', 'Sandwiches;Italian;Seafood;Restaurants', 'Hawaiian;Japanese;Asian Fusion;Restaurants', 'Seafood;Cajun/Creole;Restaurants', 'Nightlife;Irish;Bars;Gastropubs;Pubs;Restaurants', 'Nightlife;Bars;Spanish;Restaurants;French', 'American (Traditional);American (New);Restaurants', 'Food;Diners;Restaurants;American (Traditional);Sandwiches;Breakfast & Brunch', 'Restaurants;Fast Food;Burgers', 'Restaurants;Noodles;Ramen;Japanese', 'Restaurants;Steakhouses;Bars;Nightlife;Lounges', 'Restaurants;Seafood', 'Restaurants;Seafood;Steakhouses;Buffets', 'Hotels & Travel;Casinos;Arts & Entertainment;Event Planning & Services;Hotels;Chinese;Restaurants', 'Chinese;Pan Asian;Restaurants', 'Korean;Restaurants;Asian Fusion;Barbeque', 'American (Traditional);Restaurants;Burgers;Sandwiches;Diners', 'Japanese;Sushi Bars;Restaurants', 'Thai;Asian Fusion;Restaurants', 'Burgers;Restaurants;American (Traditional);Breakfast & Brunch;American (New)', 'Food;Specialty Food;Organic Stores;Vegan;Restaurants;Gluten-Free;Juice Bars & Smoothies', 'American (Traditional);Restaurants;Arts & Entertainment;Casinos;Buffets', 'American (New);Bars;Restaurants;Nightlife', 'Cocktail Bars;Bars;Mexican;Nightlife;Restaurants', 'Japanese;Hawaiian;Asian Fusion;Restaurants', 'Breakfast & Brunch;American (Traditional);Restaurants;Diners', 'Food;Sandwiches;Coffee & Tea;Restaurants;Desserts;Bakeries', 'Bars;Pubs;American (Traditional);Nightlife;Restaurants', 'Restaurants;Hot Pot;Japanese;Sushi Bars', 'Restaurants;Nightlife;Italian;Salad;Wine Bars;Bars', 'Restaurants;Thai;Asian Fusion;Chinese', 'Bars;British;Beer;Wine & Spirits;Nightlife;Food;Gastropubs;Restaurants', 'Bars;Restaurants;American (New);Nightlife', 'Restaurants;Breakfast & Brunch;Mexican;Tapas/Small Plates', 'Sandwiches;Beer Bar;Nightlife;Bars;Barbeque;Restaurants', 'Food Tours;Restaurants;Event Planning & Services;Food;Hotels;Hotels & Travel;Tours;Walking Tours', 'Restaurants;Japanese', 'Food Trucks;Sandwiches;Food;Restaurants;Delis', 'Breakfast & Brunch;Restaurants;American (Traditional)', 'Pubs;Bars;British;Nightlife;Restaurants', 'Bars;Lounges;Restaurants;Nightlife;American (New)', 'Pizza;American (Traditional);Restaurants;Ice Cream & Frozen Yogurt;Italian;Food', 'Japanese;Restaurants;Thai;Chinese', 'Food;Gluten-Free;Restaurants;Bakeries', 'Restaurants;Sandwiches;Cheesesteaks', 'Restaurants;American (Traditional);Nightlife;Bars;Cocktail Bars;Pizza', 'Restaurants;Sushi Bars', 'Mexican;Restaurants;Patisserie/Cake Shop;Bars;Food;Nightlife', 'Burgers;Nightlife;American (New);Bars;Music Venues;American (Traditional);Seafood;Arts & Entertainment;African;Restaurants', 'Restaurants;Steakhouses;Lounges;Nightlife;French;Bars', 'American (New);Sushi Bars;Restaurants', 'Fast Food;Restaurants;Mexican', 'Restaurants;Italian;Noodles', 'Restaurants;Mexican;Tacos', 'Turkish;Restaurants;Halal;Mediterranean', 'Bars;American (Traditional);Lounges;Nightlife;Breakfast & Brunch;Restaurants', 'American (New);Bars;Restaurants;French;Nightlife;Food;Desserts', 'Steakhouses;Seafood;Restaurants;American (Traditional)', 'Italian;Food;Vegan;Restaurants;Bars;Nightlife', 'Hot Dogs;Restaurants', 'Restaurants;Breakfast & Brunch;Burgers', 'Food;Pizza;Restaurants', 'Restaurants;Nightlife;Pubs;Sandwiches;Sports Bars;American (New);Bars;Salad', 'Chinese;Hot Pot;Restaurants', 'Breakfast & Brunch;American (New);Restaurants', 'Juice Bars & Smoothies;Restaurants;Vietnamese;Sandwiches;Food', 'Food;Food Delivery Services;Restaurants;Pizza;Desserts', 'American (Traditional);Restaurants;Bars;Seafood;Nightlife;Steakhouses', 'Live/Raw Food;Food;Acai Bowls;Poke;Restaurants;Juice Bars & Smoothies', 'Pubs;Bars;Restaurants;Nightlife;American (Traditional)', 'American (New);Breakfast & Brunch;Pizza;American (Traditional);Restaurants;Italian', 'Chicken Wings;Fast Food;Restaurants', 'Sandwiches;Restaurants;Italian;Chicken Wings;Pizza', 'Latin American;Restaurants;Tapas/Small Plates;Nightlife;Mexican;Bars;Cocktail Bars', 'American (New);Restaurants;Burgers;Chicken Wings;Italian;Pizza', 'Pizza;Italian;Restaurants', 'Salad;Restaurants;Sushi Bars;Japanese', 'Burgers;American (New);Restaurants', 'Salad;Chicken Wings;Chicken Shop;Restaurants;Sandwiches;Fast Food', 'Vegetarian;Restaurants;Mexican', 'Restaurants;Diners;Breakfast & Brunch;American (Traditional)', 'Bars;American (New);Sports Bars;Breakfast & Brunch;Nightlife;Restaurants', 'Breakfast & Brunch;Food;Desserts;Restaurants;Waffles;Sandwiches', 'Buffets;Breakfast & Brunch;Restaurants', 'Japanese;Restaurants', 'Restaurants;Asian Fusion;Nightlife;Bars;Korean', 'Salad;Italian;Pizza;Restaurants', 'Tapas Bars;Bars;Restaurants;Hookah Bars;Lounges;Nightlife', 'Restaurants;Wine Bars;Nightlife;Italian;Bars', 'Steakhouses;American (New);Restaurants;Seafood', 'Burgers;Bars;Nightlife;Chicken Wings;Restaurants;American (Traditional);Steakhouses;Sports Bars;Fast Food', 'Nightlife;Restaurants;Italian;Bars;Sandwiches;American (Traditional);Wine Bars;Seafood', 'Seafood;Restaurants;Asian Fusion;Chinese;Buffets', 'Coffee & Tea;Cafes;Desserts;Food;Restaurants', 'Sandwiches;Caterers;Delis;Restaurants;Event Planning & Services', 'Cafes;Restaurants;Salad;Chicken Shop;Mediterranean;Hot Dogs;Vegetarian;Diners;American (Traditional)', 'Restaurants;American (New)', 'Nightlife;American (New);Music Venues;Restaurants;Bars;Arts & Entertainment;Casinos', 'Food;Cocktail Bars;American (New);Nightlife;Bars;Restaurants;Desserts', 'Cocktail Bars;Nightlife;Restaurants;Mexican;Bars', 'Breakfast & Brunch;Food;Hawaiian;Seafood;Food Delivery Services;Restaurants', 'Food;American (Traditional);Sports Bars;Nightlife;Bars;Beer;Wine & Spirits;Restaurants', 'Bars;Nightlife;Restaurants;Event Planning & Services;Italian;Venues & Event Spaces;Wine Bars', 'Restaurants;Desserts;Thai;Food;Seafood', 'Food;Specialty Food;Middle Eastern;Mediterranean;Restaurants;Halal', 'Food Stands;Tacos;Restaurants;Chicken Shop;Mexican', 'Bars;Food;Italian;Pizza;American (Traditional);Restaurants;Nightlife;Beer;Wine & Spirits', 'Bars;Restaurants;American (Traditional);Cocktail Bars;American (New);New Mexican Cuisine;Caribbean;Nightlife', 'Thai;Szechuan;Chinese;Asian Fusion;Restaurants', 'Coffee & Tea;Restaurants;Breakfast & Brunch;Food', 'Restaurants;Sandwiches', 'Chinese;Restaurants;Sushi Bars', 'Sandwiches;Coffee & Tea;Patisserie/Cake Shop;Restaurants;Vegan;Cafes;Food;Breakfast & Brunch;Bagels;Ice Cream & Frozen Yogurt', 'Food;Restaurants;Thai', 'American (Traditional);Salad;Restaurants;Pizza;Soup', 'Nightlife;Wine Bars;Bars;Italian;Restaurants', 'Gastropubs;American (New);Sports Bars;Bars;Restaurants;Venues & Event Spaces;Nightlife;Pubs;Event Planning & Services', 'Salad;Restaurants;Food;Juice Bars & Smoothies;Food Stands;Sandwiches', 'Japanese;Restaurants;Asian Fusion;Fast Food', 'Gastropubs;Restaurants', 'Sandwiches;Restaurants;Delis', 'Desserts;American (Traditional);Bars;Food;Restaurants;Wine Bars;Nightlife', 'Delis;Cafes;Sandwiches;Restaurants', 'Restaurants;Szechuan;Chinese', 'Seafood;Restaurants;Italian', 'American (Traditional);Breakfast & Brunch;Cafes;Restaurants', 'Fast Food;Pizza;Restaurants;Italian', 'Restaurants;Food;Cafes;Diners', 'Food Delivery Services;Restaurants;Salad;Sandwiches;Food;Pizza', 'Restaurants;Asian Fusion;Lounges;Bars;Barbeque;Karaoke;Beer Bar;Nightlife', 'Sandwiches;Restaurants;American (New);Breakfast & Brunch', 'Coffee & Tea;Restaurants;Food;Bakeries;Cafes', 'Restaurants;Burgers;Cheesesteaks;Hot Dogs', 'Cocktail Bars;Bars;Venues & Event Spaces;Nightlife;Event Planning & Services;Mexican;Restaurants', 'Food;Steakhouses;Meat Shops;Butcher;Specialty Food;Restaurants', 'Cantonese;Restaurants;Seafood;Chinese', 'American (Traditional);Chicken Wings;Southern;Chicken Shop;Restaurants;Fast Food', 'Steakhouses;Restaurants;Japanese;Sushi Bars', 'Vegetarian;Restaurants;Fast Food;Indian', 'Restaurants;Fast Food', 'Restaurants;Arts & Entertainment;Beer;Wine & Spirits;Breakfast & Brunch;Food;Casinos;Shopping;Tobacco Shops', 'Mediterranean;Gluten-Free;Restaurants;Seafood;Fish & Chips', 'Restaurants;Buffets', 'Hawaiian;Restaurants;Barbeque', 'Barbeque;Chinese;Restaurants;Seafood', 'Restaurants;Thai', 'Sandwiches;Pizza;Italian;Chicken Wings;Restaurants', 'Bars;Pubs;Nightlife;American (Traditional);Restaurants', 'Restaurants;Sandwiches;Pizza;Chicken Wings', 'Restaurants;American (Traditional);Breakfast & Brunch', 'American (New);Burgers;Restaurants;Pubs;Nightlife;American (Traditional);Bars;Breakfast & Brunch;African', 'Seafood Markets;Grocery;Food;Restaurants;Filipino;Specialty Food;Ethnic Food', 'Restaurants;Mediterranean;Greek;Middle Eastern', 'Desserts;Belgian;American (Traditional);Breakfast & Brunch;Waffles;Creperies;Restaurants;Food', 'American (Traditional);Restaurants;Cajun/Creole;Seafood', 'Cafes;Food;Restaurants;Coffee & Tea;Breakfast & Brunch', 'Restaurants;Filipino;Japanese;Hawaiian;Asian Fusion', 'Chinese;Restaurants;Szechuan', 'Restaurants;Chinese;Asian Fusion', 'Chinese;Fast Food;Restaurants', 'Nightlife;Restaurants;Bakeries;Bars;Cuban;Food', 'Restaurants;Hawaiian;Barbeque', 'American (Traditional);Tapas/Small Plates;Nightlife;Desserts;Wine Bars;Cocktail Bars;Bars;Food;Coffee & Tea;American (New);Tapas Bars;Restaurants', 'Food Delivery Services;Food;Pizza;Restaurants', 'Sushi Bars;Salad;Restaurants;Japanese', 'Ethiopian;Restaurants', 'Restaurants;Breakfast & Brunch;American (Traditional);Diners', 'Restaurants;American (New);Tapas/Small Plates;French', 'Italian;Nightlife;Bars;Steakhouses;Restaurants;Comfort Food;American (New);American (Traditional)', 'Bars;American (Traditional);Nightlife;Sports Bars;Restaurants', 'Vietnamese;Restaurants;Noodles', 'Sushi Bars;Restaurants;Food', 'Sandwiches;Food;Wraps;Restaurants;Juice Bars & Smoothies', 'Italian;Restaurants;Pizza;Hot Dogs', 'Chinese;Dim Sum;Cafes;Restaurants', 'Bakeries;Creperies;Breakfast & Brunch;Restaurants;Cafes;Food;French', 'Vietnamese;Restaurants', 'American (New);Lounges;Restaurants;Tapas Bars;Beer;Wine & Spirits;Nightlife;Tapas/Small Plates;Food;Breakfast & Brunch;Wine Bars;Bars', 'Nightlife;Restaurants;Bars;Sports Bars;American (New);Pubs', 'Event Planning & Services;Caterers;Hawaiian;Restaurants', 'Restaurants;American (Traditional);Burgers', 'Pizza;Restaurants;Bars;Sandwiches;Nightlife;Italian', 'Caribbean;Food;Latin American;Restaurants;Puerto Rican;Farmers Market', 'Caterers;Restaurants;Event Planning & Services;Barbeque;Hawaiian', 'Korean;Restaurants;Barbeque', 'Restaurants;Vegan;Breakfast & Brunch;Mexican', 'Chicken Wings;Restaurants;Fast Food;American (New)', 'Vegetarian;Specialty Food;Vegan;Food;Restaurants;Chinese', 'Southern;Restaurants', 'Mexican;Latin American;Restaurants', 'Nightlife;Food;Restaurants;Cocktail Bars;Bars;Lounges;Beer;Wine & Spirits;American (New)', 'Bars;Nightlife;American (Traditional);Restaurants;Pubs', 'Asian Fusion;Hawaiian;Barbeque;Restaurants', 'Breakfast & Brunch;Juice Bars & Smoothies;Food;American (New);Sandwiches;Restaurants;Diners', 'Nightlife;American (New);Sports Bars;Restaurants;Bars;Pubs', 'Restaurants;Burgers;Fast Food;Vegetarian;Sandwiches;Vegan', 'Barbeque;Restaurants;Food;Hawaiian', 'Food;Restaurants;Breweries;Pizza', 'Nightlife;Beer;Wine & Spirits;Cocktail Bars;Food;American (New);Bars;Gastropubs;Restaurants', 'Diners;Breakfast & Brunch;Food;Restaurants;American (Traditional)', 'Restaurants;Steakhouses;American (Traditional);Nightlife;Seafood;Cocktail Bars;Bars', 'Ethnic Food;Grocery;Mexican;Meat Shops;Food;Specialty Food;Restaurants', 'Bars;Restaurants;Shopping;Shopping Centers;Airports;Sports Bars;Nightlife;Hotels & Travel;American (Traditional)', 'Halal;Italian;Pizza;Mediterranean;Restaurants', 'Food;Italian;Salad;Desserts;Pizza;Sandwiches;Restaurants', 'Nightlife;American (New);Bars;Gastropubs;Restaurants', 'Bars;Restaurants;Asian Fusion;Dance Clubs;Music Venues;Lounges;Arts & Entertainment;Nightlife', 'Mexican;Restaurants;Food', 'American (New);Steakhouses;Restaurants', 'Food;Filipino;Restaurants;Bakeries', 'Chinese;Asian Fusion;Gluten-Free;Restaurants', 'Food Trucks;Seafood;Food;Restaurants', 'Burgers;Fast Food;Restaurants', 'Italian;Seafood;Restaurants', 'Fast Food;Burgers;Restaurants', 'Pubs;Nightlife;American (New);Restaurants;Bars;Sports Bars', 'Sandwiches;Delis;Restaurants', 'Restaurants;Ethnic Food;Specialty Food;Food;African', 'Chinese;Restaurants;Asian Fusion;Chicken Wings', 'French;Restaurants;Breakfast & Brunch;American (Traditional)', 'Food;Beer;Wine & Spirits;Restaurants;American (New);Breweries;Pizza', 'Middle Eastern;Mediterranean;Restaurants;Greek', 'Restaurants;Pizza;American (Traditional)', 'Sandwiches;Restaurants;Barbeque', 'Salad;Thai;Restaurants;Soup', 'New Mexican Cuisine;Mexican;Restaurants;Southern;American (New);Tex-Mex;American (Traditional)', 'Restaurants;Hot Dogs;Sandwiches;Fast Food', 'Burgers;Food Stands;Food;Restaurants;Food Trucks', 'Restaurants;American (Traditional)', 'Salad;Barbeque;Hawaiian;Restaurants', 'Restaurants;American (New);American (Traditional);Bowling;Active Life;Nightlife;Arts & Entertainment;Music Venues', 'Local Flavor;Restaurants;Breakfast & Brunch;Bars;Nightlife;Mexican', 'Italian;Restaurants;Tapas/Small Plates', 'Asian Fusion;Delis;Sandwiches;Vietnamese;Restaurants', 'American (Traditional);Sandwiches;Burgers;Restaurants', 'Restaurants;Sandwiches;Sports Bars;American (Traditional);Food Stands;Burgers;Beer Bar;Nightlife;Bars;Cocktail Bars', 'Restaurants;Hot Dogs;Fast Food', 'Restaurants;Breakfast & Brunch;Burgers;Diners', 'Food;Restaurants;Beer;Wine & Spirits;Coffee & Tea;Hot Dogs', 'Cuban;Tapas Bars;Restaurants', 'Sandwiches;Restaurants;American (New);Bakeries;Food;Breakfast & Brunch', 'Mediterranean;Greek;Restaurants;Barbeque;Middle Eastern', 'Restaurants;Sports Bars;American (Traditional);Bars;Nightlife', 'Barbeque;Hawaiian;Restaurants', 'Chinese;Fast Food;Food;Restaurants;Seafood', 'Bars;Nightlife;Restaurants;Barbeque;Sports Bars', 'Vegan;Burgers;Restaurants;Fast Food', 'Buffets;Restaurants;Breakfast & Brunch', 'Sandwiches;Restaurants;Delis;Breakfast & Brunch', 'Food;Sandwiches;Restaurants;Delis', 'Teppanyaki;Japanese;Steakhouses;Sushi Bars;Restaurants', 'Poke;Japanese;Asian Fusion;Food;Restaurants;Hawaiian', 'Vegetarian;Restaurants;Burgers;Salad', 'Restaurants;Delis;Event Planning & Services;Venues & Event Spaces', 'Buffets;Restaurants', 'Sports Bars;American (New);Bars;Pubs;Restaurants;Nightlife', 'Venues & Event Spaces;Sports Bars;Nightlife;Barbeque;Event Planning & Services;Restaurants;Bars', 'Food;Breakfast & Brunch;Restaurants;French;Southern;Coffee & Tea', 'Coffee & Tea;Thai;Bubble Tea;Food;Cafes;Restaurants;Fast Food', 'Restaurants;Korean;Barbeque', 'Breakfast & Brunch;Tacos;Salad;Restaurants;Mexican', 'Food;Bagels;Delis;Restaurants', 'Japanese;Restaurants;Ramen;Noodles', 'Restaurants;Event Planning & Services;Caterers;Italian;Food;Pizza', 'Swimming Pools;Cafes;Restaurants;Active Life', 'Noodles;Asian Fusion;Chinese;Dim Sum;Restaurants', 'Sandwiches;Restaurants;Salad;Cafes;American (New);Soup', 'Tex-Mex;American (New);Mexican;Breakfast & Brunch;Restaurants', 'Pubs;Sports Bars;Nightlife;American (New);Gastropubs;Bars;Restaurants', 'Juice Bars & Smoothies;Cafes;Food Trucks;Bagels;Coffee & Tea;Breakfast & Brunch;Restaurants;Food', 'Salad;Gluten-Free;Restaurants;Fast Food;Pizza', 'Juice Bars & Smoothies;Restaurants;Health Markets;Specialty Food;American (Traditional);Food;Food Delivery Services', 'Japanese;Beer;Wine & Spirits;Sushi Bars;Food;Restaurants', 'Chinese;Restaurants;Cantonese;Seafood', 'Restaurants;Pizza;Italian', 'Sushi Bars;Bars;Restaurants;Japanese;Nightlife', 'Restaurants;Noodles;Thai', 'Restaurants;Pizza;Sandwiches;Burgers', 'Tapas Bars;American (New);Restaurants', 'Restaurants;American (Traditional);Barbeque', 'Lounges;Restaurants;Bars;Burgers;Nightlife', 'Casinos;Pubs;Restaurants;Bars;Breweries;Arts & Entertainment;Food;Nightlife;American (Traditional)', 'American (Traditional);Restaurants', 'Restaurants;Food;Mexican', 'Restaurants;Italian;Pizza', 'Restaurants;Coffee Roasteries;Food;Breakfast & Brunch;Coffee & Tea;Cafes', 'African;Restaurants;Nightlife;Bars;Steakhouses;Cocktail Bars;American (New);Seafood', 'Event Planning & Services;Arts & Entertainment;Restaurants;Musicians;Casinos', 'Restaurants;Coffee & Tea;Food;Sandwiches;Bagels', 'Salad;Restaurants;Bars;Italian;Wine Bars;Nightlife', 'Restaurants;Burgers', 'Restaurants;Thai;Food Delivery Services;Soup;Food;Noodles;Asian Fusion;Seafood;Vegetarian', 'Breakfast & Brunch;Food;Cafes;Juice Bars & Smoothies;Sandwiches;Coffee & Tea;Restaurants;Desserts;Internet Cafes', 'Food;Mexican;Food Trucks;Restaurants', 'Thai;Restaurants', 'American (New);Restaurants;Breakfast & Brunch;American (Traditional)', 'Korean;Mexican;Asian Fusion;Restaurants', 'Burgers;American (Traditional);Restaurants;Sandwiches;Salad', 'Bars;Tapas/Small Plates;Beer;Wine & Spirits;Restaurants;Gastropubs;Food;Burgers;American (New);American (Traditional);Nightlife', 'Bars;Mexican;Restaurants;Nightlife;Beer Bar;Seafood', 'Bars;Mediterranean;American (New);Nightlife;Restaurants', 'Asian Fusion;Korean;Restaurants;Bars;Chicken Wings;Pizza;Nightlife;Barbeque', 'Korean;Karaoke;Cocktail Bars;Bars;Nightlife;Restaurants', 'Food;Seafood;Restaurants;Desserts;American (Traditional);Mexican', 'Fast Food;Bakeries;French;Restaurants;Food;Coffee & Tea', 'Restaurants;Diners;Asian Fusion', 'Korean;Restaurants', 'Restaurants;Breakfast & Brunch;American (New)', 'Food Trucks;Food;Restaurants;Mexican', 'Restaurants;American (New);Bars;Nightlife;Pubs;Sports Bars', 'Asian Fusion;Burgers;American (New);Bars;Wine Bars;Restaurants;Nightlife', 'Restaurants;American (Traditional);American (New);Pizza', 'Breakfast & Brunch;Specialty Food;French;Food;Bakeries;Macarons;Restaurants', 'American (Traditional);Restaurants;Breakfast & Brunch;Mexican;Burgers;Sandwiches;Salad', 'Shaved Ice;Cafes;Desserts;Food;Restaurants;Coffee & Tea', 'Seafood;Sports Bars;Vegetarian;Asian Fusion;Restaurants;Cocktail Bars;American (Traditional);Bars;Nightlife;Beer Bar;American (New);Wine Bars;Steakhouses', 'Sports Bars;American (Traditional);Restaurants;Nightlife;Bars;Diners', 'Cafes;Food;American (Traditional);Beer;Wine & Spirits;Restaurants', 'Seafood;Nightlife;Restaurants;Laotian;Caribbean;Latin American;Bars', 'Tex-Mex;Nightlife;Mexican;Caterers;Event Planning & Services;Bars;Restaurants', 'Indian;Food;Halal;Buffets;Restaurants;Food Delivery Services;Vegetarian', 'Bars;Nightlife;Sports Bars;Pubs;Restaurants;British', 'American (New);Pubs;American (Traditional);Nightlife;Restaurants;Bars;Sports Bars', 'Food;Restaurants;Coffee & Tea;Cafes', 'Fast Food;Restaurants', 'Restaurants;Ramen;Japanese;Noodles', 'Hot Pot;Chinese;Restaurants;Seafood', 'Pizza;Restaurants;Chicken Wings;Burgers', 'Restaurants;Japanese;Conveyor Belt Sushi;Seafood;Sushi Bars', 'Nightlife;Active Life;Restaurants;Event Planning & Services;Swimming Pools;Bars;Venues & Event Spaces;American (Traditional)', 'Restaurants;Bars;Nightlife;Cocktail Bars;American (New);Specialty Food;Food;Candy Stores', 'Food;Bakeries;Restaurants;Breakfast & Brunch', 'Butcher;Grocery;Restaurants;Meat Shops;Specialty Food;Food;German', 'Breakfast & Brunch;Food;Restaurants;Bagels;Delis', 'American (Traditional);Nightlife;Burgers;American (New);Bars;Restaurants;Chicken Wings;Sports Bars', 'Bubble Tea;Desserts;Food;Juice Bars & Smoothies;Taiwanese;Coffee & Tea;Restaurants', 'Delis;Gas Stations;Food;Restaurants;Convenience Stores;Car Wash;Automotive', 'Music Venues;Cocktail Bars;American (New);Arts & Entertainment;Restaurants;Tapas/Small Plates;Tapas Bars;American (Traditional);Breakfast & Brunch;Bars;Lounges;Nightlife', 'Restaurants;Sandwiches;Salad;Vegetarian', 'Vietnamese;Noodles;Restaurants', 'Szechuan;Fast Food;Restaurants;Chinese', 'Caterers;Burgers;Event Planning & Services;Italian;Restaurants', 'Pubs;Bars;Restaurants;Gastropubs;Nightlife;American (New)', 'Mediterranean;Greek;Restaurants', 'Active Life;Event Planning & Services;Golf;Restaurants', 'Vegan;Restaurants;Pizza', 'Nightlife;Bars;Steakhouses;American (New);Cocktail Bars;Restaurants', 'Desserts;Mexican;Food;Cocktail Bars;Bars;Restaurants;Nightlife', 'Restaurants;Bars;Pool Halls;Pubs;Nightlife;American (Traditional)', 'Restaurants;Cuban;Caribbean;Latin American;Asian Fusion', 'Desserts;Restaurants;Hot Dogs;Food;Street Vendors', 'Breakfast & Brunch;American (New);American (Traditional);Sandwiches;Restaurants;Juice Bars & Smoothies;Food', 'Arts & Entertainment;Steakhouses;Diners;Cafes;Restaurants;Casinos;Chinese;Food', 'Mexican;Seafood;Restaurants;Sushi Bars;Asian Fusion', 'Restaurants;Food;American (New);Breweries', 'Lounges;Nightlife;American (New);Restaurants;Bars', 'Desserts;Food;Restaurants;Breakfast & Brunch;Cafes', 'Restaurants;American (New);Breakfast & Brunch;Latin American;Diners', 'Seafood;Restaurants;Steakhouses;Nightlife;Bars', 'Food;Mexican;Shaved Ice;Specialty Food;Juice Bars & Smoothies;Ice Cream & Frozen Yogurt;Restaurants', 'Pubs;Restaurants;American (New);Sports Bars;Nightlife;Bars', 'Juice Bars & Smoothies;Health Markets;Food;American (New);Specialty Food;Restaurants;Mediterranean', 'Seafood;Event Planning & Services;American (Traditional);Venues & Event Spaces;Steakhouses;Restaurants', 'Mediterranean;Restaurants;Italian;Tapas Bars', 'Chicken Wings;Italian;Restaurants;Pizza', 'Wholesalers;Bars;Shopping;Shopping Centers;Restaurants;Nightlife;Professional Services;Pubs', 'Restaurants;Chicken Wings;Chinese;Buffets', 'Salad;Pizza;Fast Food;Restaurants', 'Fondue;Restaurants', 'Asian Fusion;Restaurants;Japanese;Sushi Bars;Mexican', 'Pizza;Sandwiches;Italian;Restaurants', 'Japanese;Restaurants;Ramen', 'Falafel;Restaurants;Middle Eastern;Kosher;Mediterranean', 'Butcher;Meat Shops;Specialty Food;Food;Restaurants;Caterers;Barbeque;Event Planning & Services', 'Cupcakes;Food;Restaurants;Donuts;Desserts;Ice Cream & Frozen Yogurt;Waffles', 'Cajun/Creole;Seafood;Steakhouses;Southern;Restaurants', 'Food;Grocery;Pizza;Restaurants;Sandwiches;Brazilian', 'Delis;Coffee & Tea;Breakfast & Brunch;Desserts;Food;Restaurants', 'Mediterranean;Restaurants;Salad;Greek', 'Restaurants;Creperies;Bakeries;Patisserie/Cake Shop;Desserts;Food', 'Sports Bars;Nightlife;Pubs;American (New);Restaurants;Bars', 'Restaurants;Mexican;Breakfast & Brunch', 'Food;Vegetarian;Restaurants;Vegan;Vietnamese;Asian Fusion;Juice Bars & Smoothies', 'Sports Bars;Tex-Mex;Mexican;Nightlife;Breakfast & Brunch;American (New);Vegan;Restaurants;Burgers;Pubs;Bars', 'Restaurants;Hawaiian;American (Traditional);Asian Fusion;Food;Barbeque', 'Restaurants;Mexican;Latin American;Honduran', 'Breakfast & Brunch;Restaurants;Hawaiian;Poke;Food;Sushi Bars;Japanese', 'Buffets;Chinese;Sushi Bars;Korean;Restaurants;Dim Sum;Japanese', 'Chicken Wings;Vietnamese;Restaurants;Soup', 'Restaurants;American (New);Lounges;Bars;Tapas Bars;Nightlife', 'Bars;Restaurants;American (New);Pubs;Lounges;Dive Bars;Sports Bars;Nightlife', 'Bars;Mexican;Sports Bars;Restaurants;American (New);Nightlife', 'Restaurants;Chicken Wings;Pizza;Salad', 'Breakfast & Brunch;Restaurants;American (Traditional);Sandwiches', 'Bars;Nightlife;Restaurants;French;Wine Bars', 'Bars;Seafood;Restaurants;Nightlife;Korean;Karaoke;Asian Fusion;Cajun/Creole', 'Sushi Bars;Japanese;Restaurants', 'Cantonese;Seafood;Noodles;Restaurants;Chinese', 'Asian Fusion;Sushi Bars;Japanese;Restaurants;Nightlife;Bars', 'Restaurants;Spanish;Nightlife;Wine Bars;Seafood;Bars;French', 'Mexican;Nightlife;Restaurants;Bars', 'Caterers;Event Planning & Services;Mexican;Restaurants', 'Sandwiches;Restaurants', 'Food;Restaurants;Seafood;Caribbean', 'Sandwiches;Burgers;Breakfast & Brunch;Restaurants;Cafes', 'Pizza;Restaurants;Italian;Delis', 'Restaurants;Food;Sandwiches;Coffee & Tea;Cafes', 'Restaurants;Burgers;Fast Food', 'Comfort Food;Restaurants;Steakhouses;American (New)', 'American (Traditional);Nightlife;Bars;Restaurants;Sports Bars', 'Seafood;Restaurants;American (New)', 'Restaurants;Italian;Steakhouses', 'Food;Sandwiches;American (New);Coffee & Tea;Restaurants;Bakeries', 'Cafes;Russian;Restaurants', 'Japanese;Restaurants;Seafood;Sushi Bars', 'Nightlife;Restaurants;Bars;Steakhouses;American (Traditional)', 'American (Traditional);Restaurants;Diners;Burgers', 'Restaurants;Asian Fusion;Korean;Barbeque;Sushi Bars;Japanese', 'Food;Nightlife;Restaurants;Barbeque;Beer;Wine & Spirits;American (New);Bars', 'Cafes;Bagels;Sandwiches;Restaurants;Food;Coffee & Tea;Tea Rooms;Juice Bars & Smoothies', 'Bakeries;Restaurants;Desserts;Sandwiches;Food', 'Restaurants;Hotels;Sandwiches;Delis;Desserts;Event Planning & Services;Casinos;Hotels & Travel;Food;Arts & Entertainment', 'Latin American;Restaurants;Colombian', 'Restaurants;Nightlife;Bars;American (Traditional);Cocktail Bars;Sandwiches;American (New);Wine Bars', 'Delis;Restaurants;Sandwiches', 'Event Planning & Services;Vegetarian;Delis;Sandwiches;Salad;Caterers;Restaurants', 'Vegetarian;Restaurants;Indian;Middle Eastern', 'Filipino;Asian Fusion;Vietnamese;Restaurants', 'Restaurants;American (Traditional);Burgers;Food', 'Sandwiches;Restaurants;Hot Dogs;Diners;Burgers;American (Traditional)', 'Bars;Piano Bars;Restaurants;Arts & Entertainment;American (New);Hotels & Travel;Nightlife;Event Planning & Services;Cocktail Bars;Hotels;Casinos', 'Cantonese;Dance Clubs;Nightlife;Chinese;Lounges;Bars;Restaurants', 'Tapas/Small Plates;Spanish;Restaurants;Steakhouses', 'Restaurants;Food;Food Trucks;Mexican', 'Cafes;Breakfast & Brunch;Restaurants;American (Traditional)', 'Fish & Chips;Vegan;American (Traditional);Restaurants;Seafood', 'Restaurants;Soup;Salad;Chinese', 'Food;Sandwiches;Do-It-Yourself Food;Delis;Restaurants', 'Filipino;Restaurants', 'Vegetarian;Mexican;Restaurants;Food', 'Chinese;Cantonese;Seafood;Dim Sum;Restaurants', 'Chinese;Restaurants;Thai;Seafood', 'Seafood;Mexican;Specialty Food;Restaurants;Seafood Markets;Food', 'Restaurants;Korean', 'Restaurants;Chinese;Salad', 'Restaurants;American (New);Nightlife;Fondue;Venues & Event Spaces;Event Planning & Services;Bars', 'Breakfast & Brunch;Pizza;Bars;Nightlife;Restaurants;Pubs;American (Traditional)', 'Restaurants;Pizza;Hot Dogs', 'Mexican;Venues & Event Spaces;Restaurants;Bars;Event Planning & Services;Nightlife', 'Barbeque;Pizza;Food Delivery Services;Event Planning & Services;Chicken Wings;Restaurants;Italian;Caterers;Food', 'Restaurants;Food;Hot Dogs;Comfort Food;Bakeries;Pretzels', 'Nightlife;American (Traditional);Bars;Restaurants;Breakfast & Brunch', 'Breakfast & Brunch;Restaurants;American (Traditional);Diners', 'Chicken Shop;Fast Food;Cajun/Creole;Chicken Wings;Restaurants', 'Breakfast & Brunch;Restaurants;Food;American (New);Juice Bars & Smoothies;Sandwiches', 'Nightlife;American (Traditional);Tex-Mex;Bars;Restaurants', 'Pubs;Restaurants;Food;Casinos;Nightlife;Bars;Breweries;Arts & Entertainment', 'Italian;Bars;Food;Seafood;Beer Bar;Restaurants;Beer;Wine & Spirits;Nightlife', 'Restaurants;Bars;Food;Cajun/Creole;Arts & Entertainment;Music Venues;Seafood;Live/Raw Food;Desserts;Nightlife', 'Restaurants;Seafood;Asian Fusion;Korean;Thai', 'Steakhouses;Seafood;Restaurants', 'Sandwiches;Italian;Pizza;Restaurants', 'Thai;Malaysian;Restaurants;Chinese;Ethnic Food;Food;Asian Fusion;Specialty Food;Singaporean', 'Bakeries;Desserts;Restaurants;Food;Vegan', 'Restaurants;American (New);Breakfast & Brunch;Food;Juice Bars & Smoothies', 'Peruvian;Restaurants;Chicken Wings;Latin American', 'Juice Bars & Smoothies;Acai Bowls;Vegan;Restaurants;Gluten-Free;Food', 'Seafood;Chinese;Restaurants;Salad', 'Restaurants;Sandwiches;Poke;Food;Seafood;Hawaiian', 'Restaurants;Filipino;Fast Food', 'Asian Fusion;Chinese;Buffets;Restaurants', 'Restaurants;Vietnamese', 'Nightlife;Bars;Pubs;Restaurants;American (Traditional)', 'Taiwanese;Szechuan;Chinese;Restaurants', 'Restaurants;Food;American (New);Bars;Beer;Wine & Spirits;Nightlife', 'Restaurants;American (Traditional);Diners', 'Cafes;Food;Restaurants;Desserts;Ice Cream & Frozen Yogurt', 'Pizza;Restaurants;Food', 'Restaurants;Sushi Bars;Asian Fusion;Japanese', 'Sandwiches;Meat Shops;Event Planning & Services;Food;Caterers;Restaurants;Cafes;Specialty Food;Delis', 'Restaurants;Breakfast & Brunch;Sandwiches', 'American (New);Restaurants;Wine Bars;Seafood;Nightlife;Bars;Steakhouses', 'Restaurants;Japanese;Asian Fusion;French;Seafood;Tapas Bars', 'American (Traditional);Breweries;Pizza;Food;Restaurants', 'Sports Bars;Nightlife;Pubs;Bars;Restaurants;American (New)', 'Nightlife;Cinema;Arts & Entertainment;American (New);Restaurants;Dinner Theater;Bars;Cocktail Bars', 'American (Traditional);Bars;Breakfast & Brunch;Restaurants;Nightlife', 'Restaurants;Salad;Vietnamese;Soup', 'Vietnamese;Asian Fusion;Thai;Restaurants', 'Japanese;Asian Fusion;Restaurants;Hawaiian', 'Italian;Salad;Restaurants;Bars;Nightlife;Wine Bars', 'Sandwiches;Breakfast & Brunch;Burgers;American (Traditional);Restaurants;Food;Pretzels', 'Restaurants;Diners;Burgers', 'Restaurants;Bars;American (New);Sports Bars;Breweries;Nightlife;Beer Bar;Food', 'American (Traditional);Seafood;Restaurants;Steakhouses', 'Fast Food;Gluten-Free;Chinese;Restaurants;Asian Fusion', 'Seafood;Restaurants;Mexican', 'Grocery;Bars;Restaurants;Beer;Wine & Spirits;Food;Nightlife;American (Traditional);Coffee & Tea;Convenience Stores;Pubs;Sandwiches', 'Steakhouses;American (New);Restaurants;American (Traditional);Seafood', 'Sandwiches;Bars;Irish;Pubs;Restaurants;Nightlife', 'Restaurants;Chinese;Shanghainese', 'Ice Cream & Frozen Yogurt;Sandwiches;Juice Bars & Smoothies;Restaurants;Food', 'Nightlife;Bars;Food;French;Wine Bars;Restaurants;Desserts', 'Restaurants;Tacos;Salad;Mexican;Seafood', 'Coffee & Tea;Bars;Food;Restaurants;Breakfast & Brunch;Italian;Nightlife', 'Bars;Mexican;Salad;Nightlife;Restaurants;Dive Bars;Tacos;Hot Dogs', 'Breakfast & Brunch;Cafes;Food;Restaurants;Coffee & Tea;American (New)', 'Restaurants;Filipino', 'Fast Food;Restaurants;Breakfast & Brunch;Mexican', 'Restaurants;American (New);Southern', 'Japanese Curry;Restaurants;Japanese', 'Bars;Nightlife;Restaurants;Steakhouses;American (New);Soup', 'Restaurants;Food Delivery Services;Desserts;Salad;Chicken Wings;Pizza;Food', 'Mexican;Restaurants;Ethnic Food;Food;Seafood;Specialty Food', 'Restaurants;Diners;American (Traditional);Breakfast & Brunch', 'Wine Bars;Steakhouses;Restaurants;Bars;Breakfast & Brunch;Nightlife', 'Desserts;Breakfast & Brunch;Food;Waffles;Restaurants', 'Restaurants;Burgers;American (Traditional)', 'American (New);American (Traditional);Restaurants;Lounges;Burgers;Bars;Nightlife', 'Food;Restaurants;Fast Food;Burgers', 'Sushi Bars;Restaurants', 'Bubble Tea;Restaurants;Coffee & Tea;American (Traditional);Food;Juice Bars & Smoothies;Tea Rooms;Taiwanese', 'Restaurants;Steakhouses;Bars;Wine Bars;Seafood;Nightlife;American (Traditional)', 'Food;Restaurants;Chinese;Asian Fusion;Cantonese;Vegetarian', 'Pizza;Bars;Sports Bars;Nightlife;Restaurants', 'Kosher;Mediterranean;Tapas Bars;Restaurants;Tapas/Small Plates', 'Noodles;Restaurants;Ramen;Japanese', 'Nightlife;Restaurants;Sports Bars;Bars;Burgers', 'Books;Mags;Music & Video;Videos & Video Game Rental;Shopping;Mexican;Tapas Bars;American (New);Restaurants', 'Food;Food Court;Juice Bars & Smoothies;Restaurants', 'Restaurants;Nightlife;Sports Bars;Karaoke;Bars;American (Traditional)', 'Restaurants;Sushi Bars;Japanese;Buffets', 'Cafes;Shopping;Arcades;Social Clubs;Arts & Entertainment;Restaurants;Tabletop Games', 'Buffets;Arts & Entertainment;Bars;Nightlife;Casinos;Restaurants', 'Restaurants;Sandwiches;Delis;Salad', 'Asian Fusion;Chinese;Restaurants', 'Shopping Centers;Restaurants;Fashion;Outlet Stores;Shopping', 'Tex-Mex;Restaurants;Mexican;Breakfast & Brunch', 'Restaurants;Mexican;Diners;American (Traditional)', 'Noodles;Restaurants;Chinese', 'Hotels & Travel;Hong Kong Style Cafe;Dim Sum;Restaurants;Nightlife;Asian Fusion;Event Planning & Services;Arts & Entertainment;Casinos;Bars;Noodles;Hotels;Chinese;Soup', 'Restaurants;American (Traditional);Italian', 'American (New);Cajun/Creole;Diners;Restaurants', 'Bagels;Coffee & Tea;Breakfast & Brunch;Restaurants;Food', 'Restaurants;French', 'Mexican;Restaurants;Tacos;Fast Food', 'Pizza;Italian;Restaurants;Chicken Wings', 'Restaurants;Chinese;Szechuan;Noodles', 'Asian Fusion;Vegetarian;Thai;Restaurants;Vegan;Chinese', 'Beer;Wine & Spirits;Food;American (Traditional);Restaurants;Bars;Breakfast & Brunch;Nightlife;Burgers', 'Desserts;Vegan;Bakeries;Food;Restaurants', 'Lounges;American (New);Mexican;Restaurants;Comfort Food;Asian Fusion;Nightlife;Bars', 'Southern;Food;Desserts;Barbeque;Restaurants;Smokehouse', 'Mexican;Restaurants;Food;Grocery', 'Restaurants;Sandwiches;Vegetarian', 'Noodles;Szechuan;Chinese;Restaurants', 'Food;Cafes;Coffee & Tea;Restaurants;Arcades;Arts & Entertainment;Tabletop Games;Shopping', 'Diners;American (Traditional);Breakfast & Brunch;Restaurants', 'Restaurants;Diners;American (Traditional);Nightlife;Seafood;Bars;Steakhouses', 'Barbeque;Chinese;Restaurants', 'American (Traditional);Restaurants;Burgers;Fast Food', 'Seafood;American (Traditional);Restaurants', 'Cafes;Local Flavor;Restaurants;Beer;Wine & Spirits;Italian;Food', 'Restaurants;Diners;American (Traditional)', 'Restaurants;Cafes', 'Seafood;Live/Raw Food;Italian;Restaurants', 'Restaurants;Fast Food;Chicken Wings;American (Traditional)', 'Restaurants;Vietnamese;Noodles;Seafood', 'Bars;Barbeque;Karaoke;Food;Breweries;Restaurants;American (Traditional);Nightlife;Pubs;Arts & Entertainment;Casinos', 'Chicken Wings;Nightlife;Sports Bars;Bars;Restaurants;American (Traditional)', 'Food;Desserts;Restaurants;Sandwiches;Bakeries', 'Food;Internet Cafes;Comfort Food;Bakeries;Restaurants;Coffee & Tea;Juice Bars & Smoothies;Local Flavor;Cafes;Desserts;Breakfast & Brunch', 'Specialty Food;Organic Stores;Restaurants;Juice Bars & Smoothies;Fruits & Veggies;Vegan;Comfort Food;Gluten-Free;Food', 'Restaurants;Breakfast & Brunch;Cafes', 'Japanese;Restaurants;Salad;Hawaiian;Asian Fusion', 'Thai;Beer;Wine & Spirits;Restaurants;Vegan;Food', 'Nightlife;Food;Restaurants;Asian Fusion;Bars;Vietnamese', 'Food;Restaurants;Pizza;Sandwiches;Food Delivery Services;Italian', 'Restaurants;Nightlife;Bars;American (Traditional)', 'Bars;Lounges;Nightlife;American (Traditional);Restaurants', 'Chinese;Restaurants;Vietnamese', 'Sushi Bars;Restaurants;American (New)', 'Seafood;American (New);Restaurants;Nightlife;Bars;Cocktail Bars;Soup', 'Restaurants;American (New);Bars;Nightlife', 'Food;Breakfast & Brunch;Restaurants;American (Traditional)', 'Steakhouses;Burgers;Restaurants;Sandwiches;Food;American (Traditional)', 'Restaurants;Food;Food Court', 'Restaurants;Japanese;Sushi Bars;Asian Fusion', 'Venues & Event Spaces;Caterers;Restaurants;Wedding Planning;Event Planning & Services', 'Greek;Lebanese;Mediterranean;Restaurants;Middle Eastern;Sandwiches', 'Mexican;Restaurants;Nightlife;Dance Clubs;Bars;Event Planning & Services;Venues & Event Spaces', 'Barbeque;Korean;Restaurants', 'Restaurants;Chicken Shop', 'Restaurants;Bars;Arts & Entertainment;Pubs;American (Traditional);Food;Casinos;Nightlife;Breweries', 'Vegan;Vegetarian;Restaurants;Mediterranean', 'Cheesesteaks;Restaurants;American (New);Hot Dogs', 'Nightlife;Beer;Wine & Spirits;Breakfast & Brunch;Sports Bars;Bars;Restaurants;American (Traditional);American (New);Food', 'Nightlife;American (Traditional);Bars;Burgers;Steakhouses;Sports Bars;Food;Restaurants', 'Restaurants;American (Traditional);American (New);Bars;Sports Bars;Nightlife;Seafood', 'Local Services;Restaurants;Korean', 'Mexican;Pizza;Restaurants;Burgers', 'Restaurants;American (Traditional);Diners;Burgers;Sandwiches', 'Bars;Nightlife;American (Traditional);Sports Bars;Restaurants', 'Restaurants;Hot Dogs;American (Traditional)', 'Nightlife;Bars;Lounges;Wine Bars;Italian;Restaurants', 'Active Life;Hobby Shops;Shopping;Aquarium Services;Pet Services;Local Fish Stores;Pets;Aquariums;Seafood;Restaurants;Pet Stores', 'Cafes;Restaurants;Desserts;Coffee & Tea;Food;Italian', 'Steakhouses;Restaurants;Brazilian;Seafood', 'Nightlife;Bars;Mediterranean;Sandwiches;Restaurants', 'Food;Breakfast & Brunch;Restaurants;Bagels;Pizza', 'Sandwiches;Restaurants;Food;Juice Bars & Smoothies', 'Mexican;Food Stands;Restaurants', 'American (New);Nightlife;Cocktail Bars;Desserts;Bars;Food;Restaurants;Breakfast & Brunch', 'Bars;Restaurants;Nightlife;Mexican', 'American (Traditional);Casinos;Hotels & Travel;Arts & Entertainment;Resorts;Restaurants;American (New)', 'Restaurants;Fast Food;Barbeque', 'Juice Bars & Smoothies;Food;Restaurants;Desserts;Creperies;Coffee & Tea', 'Breakfast & Brunch;Restaurants;American (Traditional);Seafood', 'Mediterranean;Restaurants;Cafes;Burgers;Food;Vegetarian;Halal;Sandwiches;Coffee & Tea', 'Hawaiian;Seafood;Restaurants;Barbeque', 'Pizza;Salad;Cheesesteaks;Burgers;Sandwiches;Restaurants', 'American (Traditional);Beer;Wine & Spirits;Bars;Sports Bars;Nightlife;Lounges;Restaurants;Food', 'Diners;Sandwiches;Restaurants;Burgers;American (Traditional)', 'Hookah Bars;Restaurants;Nightlife;Mediterranean;Bars', 'Seafood;Restaurants;Southern', 'Bars;American (Traditional);Restaurants;Breakfast & Brunch;American (New);Nightlife', 'Restaurants;Sushi Bars;Japanese;Soup', 'Japanese;Restaurants;Sushi Bars;Seafood', 'Restaurants;Desserts;Food;Bakeries;Sandwiches;French', 'Restaurants;Nightlife;Beer Bar;Bars;Beer;Wine & Spirits;Food;Beer Garden;German', 'Steakhouses;Seafood;Restaurants;American (New);Italian', 'Event Planning & Services;Food;Caterers;Pizza;Italian;Restaurants', 'Burgers;Cafes;Breakfast & Brunch;Restaurants;Mexican;American (Traditional);Salad', 'Bars;Asian Fusion;Nightlife;American (New);Restaurants;Pubs;Karaoke;Lounges', 'Restaurants;Chinese;Noodles', 'Restaurants;Tapas Bars;Spanish', 'Restaurants;Cafes;Food;Juice Bars & Smoothies', 'Food;Cocktail Bars;Buffets;Tapas Bars;Vegetarian;Restaurants;Indian;Bars;Desserts;Halal;Nightlife', 'Grocery;Restaurants;Thai;Laotian;Food', 'Food;American (New);Bakeries;Restaurants', 'Chinese;Pan Asian;Restaurants;Food;Bars;Nightlife;Asian Fusion;Beer;Wine & Spirits', 'Nightlife;Bars;Italian;Restaurants', 'Nightlife;Beer;Wine & Spirits;Restaurants;Bars;American (Traditional);Food', 'Hawaiian;Barbeque;Restaurants', 'Wine Bars;Beer;Wine & Spirits;Seafood;Steakhouses;Nightlife;Bars;Restaurants;Food', 'Bakeries;Restaurants;Coffee & Tea;Desserts;Breakfast & Brunch;Cafes;Food', 'Pizza;Restaurants;Salad;Sandwiches;Desserts;Food', 'Coffee & Tea;Restaurants;Food;Bagels;Sandwiches', 'Nightlife;Karaoke;Japanese;Sushi Bars;Restaurants', 'Restaurants;Breakfast & Brunch;Italian;Seafood', 'Beer;Wine & Spirits;Pizza;Restaurants;Food;American (Traditional);Bars;Sports Bars;Nightlife', 'Restaurants;Fast Food;Delis;Pizza', 'Mexican;Fast Food;Restaurants', 'Latin American;Restaurants;Mexican', 'Steakhouses;Barbeque;Sushi Bars;Japanese;Restaurants', 'American (New);Burgers;Restaurants;Breakfast & Brunch', 'Mediterranean;Greek;Middle Eastern;Restaurants', 'Swimming Pools;Restaurants;Cafes;Active Life', 'Breakfast & Brunch;Mexican;Restaurants;Desserts;Tacos;Soup;Food', 'Cafes;Coffee & Tea;Delicatessen;Food;Desserts;Restaurants;Bubble Tea', 'Beer;Wine & Spirits;French;Tobacco Shops;Restaurants;Convenience Stores;Shopping;Grocery;Delis;Food', 'American (Traditional);Buffets;Restaurants', 'Breakfast & Brunch;American (Traditional);Restaurants', 'Food;Mediterranean;Ethnic Food;Restaurants;Cocktail Bars;Bars;Nightlife;Hookah Bars;Specialty Food;Tea Rooms;Beer;Wine & Spirits;Cafes', 'Restaurants;Mongolian;Chinese;Asian Fusion', 'Beer Bar;Burgers;Salad;American (Traditional);Mexican;Restaurants;Bars;Nightlife;Pubs', 'Restaurants;Tex-Mex;Mexican', 'Restaurants;Breakfast & Brunch;Sports Bars;Cocktail Bars;Bars;Nightlife', 'Italian;Bars;Wine Bars;Nightlife;Restaurants;Salad', 'Automotive;Oil Change Stations;Pizza;Auto Insurance;Auto Parts & Supplies;Financial Services;Windshield Installation & Repair;Auto Glass Services;Insurance;Towing;Transmission Repair;Restaurants;Auto Repair', 'Restaurants;Coffee & Tea;Bagels;Juice Bars & Smoothies;Food;Breakfast & Brunch;Bakeries', 'Burgers;Nightlife;Sports Bars;Food;Bars;Gastropubs;Restaurants;American (Traditional);Beer;Wine & Spirits', 'Restaurants;Pizza;Bars;Food;American (Traditional);Nightlife', 'Steakhouses;Food;Bakeries;Lounges;Nightlife;Bars;Live/Raw Food;Restaurants;Seafood', 'Bars;Nightlife;Gastropubs;Breakfast & Brunch;American (Traditional);Restaurants', 'Seafood;Restaurants;Fish & Chips', 'Restaurants;Japanese;Chinese;Buffets', 'Cajun/Creole;Steakhouses;Restaurants', 'Thai;Restaurants;Chinese', 'Burgers;Sandwiches;Cheesesteaks;Restaurants;Steakhouses;Breakfast & Brunch;Delis', 'Pizza;Nightlife;Bars;Sports Bars;Lounges;Restaurants', 'Restaurants;Soup;Vietnamese', 'Bars;Restaurants;Mexican;Nightlife;Karaoke', 'Pizza;Restaurants;Food;Italian;Salad;Food Delivery Services;Burgers', 'Casinos;Hotels & Travel;Arts & Entertainment;Hotels;Restaurants;Event Planning & Services', 'Vegan;American (New);Breakfast & Brunch;Restaurants', 'Restaurants;Latin American', 'American (New);Steakhouses;Restaurants;Nightlife;Seafood;Bars', 'Bars;Venues & Event Spaces;Event Planning & Services;American (Traditional);Cocktail Bars;Nightlife;Arts & Entertainment;Restaurants;Music Venues', 'Food Court;Restaurants', 'Chicken Wings;Seafood;Restaurants;American (Traditional);Cajun/Creole;Food', 'Beer;Wine & Spirits;Bars;Diners;Restaurants;Wine Bars;Nightlife;Steakhouses;American (Traditional);Food', 'American (New);Salad;Food Delivery Services;Pizza;Bars;Chicken Wings;Burgers;Food;Restaurants;Nightlife;American (Traditional);Comfort Food', 'Creperies;French;Restaurants', 'Buffets;Restaurants;American (New)', 'American (New);Vegetarian;Food;Juice Bars & Smoothies;Restaurants;Fast Food', 'Pubs;Nightlife;Restaurants;Bars;American (New);Sports Bars', 'Sandwiches;Restaurants;Food;American (Traditional)', 'Restaurants;Pizza;Food;Bakeries;Desserts', 'Sandwiches;Breakfast & Brunch;Juice Bars & Smoothies;Food;Burgers;Restaurants', 'Cocktail Bars;Nightlife;Latin American;Mexican;Bars;Restaurants;Tacos', 'Tex-Mex;Vegan;Mexican;Restaurants;American (Traditional);New Mexican Cuisine;American (New);Breakfast & Brunch', 'Cheesesteaks;American (Traditional);Restaurants', 'Italian;Restaurants;Pizza;Nightlife;Wine Bars;Bars', 'Restaurants;Indian;Vegetarian;Diners', 'Thai;Restaurants;Chinese;Seafood', 'Restaurants;Ice Cream & Frozen Yogurt;Mexican;Food', 'Antiques;Shopping;Restaurants', 'Salad;Comfort Food;Gastropubs;Nightlife;Cocktail Bars;Vegan;American (New);Bars;Tapas/Small Plates;Seafood;Food;Burgers;Restaurants;Desserts', 'American (New);American (Traditional);Sandwiches;Vegan;Restaurants;Bars;Nightlife', 'Amusement Parks;Restaurants;Active Life;Shopping Centers;Arts & Entertainment;Shopping;Food', 'Arts & Entertainment;Casinos;Bakeries;American (Traditional);Food;Restaurants;Breakfast & Brunch', 'Mediterranean;Restaurants;Indian;Halal', 'Mexican;Salad;Tex-Mex;Restaurants;Sandwiches', 'Vietnamese;Soup;Restaurants', 'Buffets;American (Traditional);Restaurants;Asian Fusion;Breakfast & Brunch;Sushi Bars', 'Bars;Nightlife;American (New);Restaurants', 'Food;American (New);Mexican;Ice Cream & Frozen Yogurt;Juice Bars & Smoothies;Restaurants', 'Tex-Mex;American (Traditional);Restaurants;Nightlife;Bars', 'Japanese;Seafood;Restaurants;Sushi Bars', 'Restaurants;American (Traditional);Vietnamese', 'Cocktail Bars;Restaurants;Nightlife;Bars;Steakhouses', 'Italian;Salad;Pizza;Restaurants', 'Mexican;Salad;Restaurants;Breakfast & Brunch;Burgers;Sandwiches;American (Traditional)', 'Food;Coffee & Tea;Restaurants;Breakfast & Brunch;Cafes;Latin American', 'Seafood;Chinese;Cantonese;Dim Sum;Restaurants', 'Mexican;Restaurants;Tex-Mex;Tacos', 'Middle Eastern;Greek;Restaurants;Mediterranean;Lebanese', 'Barbeque;Seafood;Restaurants;Desserts;American (New);Food;American (Traditional)', 'Fast Food;American (Traditional);Restaurants;Burgers', 'French;Steakhouses;Restaurants;Breakfast & Brunch', 'Bars;Restaurants;American (Traditional);Nightlife', 'Scandinavian;Furniture Stores;Shopping;Kitchen & Bath;Restaurants;Baby Gear & Furniture;Home & Garden;Home Decor', 'Restaurants;Delis', 'Bars;Desserts;Restaurants;Food;Mexican;Nightlife', 'Restaurants;Burgers;Fast Food;Sandwiches', 'Desserts;Restaurants;Food;Mexican;Shaved Ice;Ice Cream & Frozen Yogurt', 'Cajun/Creole;Vietnamese;American (Traditional);Restaurants;Seafood', 'American (Traditional);Screen Printing;Nightlife;Italian;Bars;Local Services;Printing Services;Sports Bars;Restaurants', 'Fast Food;Pizza;Restaurants', 'Coffee & Tea;Cafes;Food;Desserts;Delis;Sandwiches;Restaurants', 'Sushi Bars;Restaurants;Steakhouses;Japanese', 'Restaurants;Nightlife;Asian Fusion;Chinese;Bars;Breakfast & Brunch;Dim Sum', 'Restaurants;Specialty Food;Chicken Wings;Fast Food;Food', 'Health Markets;Restaurants;Juice Bars & Smoothies;Acai Bowls;Food;Specialty Food;Bangladeshi;Coffee & Tea;Cafes', 'Restaurants;Vegetarian;Asian Fusion;Thai', 'Delis;Food;Desserts;Restaurants;Sandwiches;Salad', 'Bars;Nightlife;Restaurants;Cafes;Dance Clubs;Lounges', 'Restaurants;Bars;Nightlife;Drive-Thru Bars;Fast Food;Indian', 'Chinese;Ethnic Food;Noodles;Specialty Food;Restaurants;Food;Seafood', 'Barbeque;Restaurants;Fast Food', 'Mexican;Tacos;Restaurants', 'Nightlife;Bars;Steakhouses;American (Traditional);Restaurants;Mexican;Seafood;Sports Bars', 'Sandwiches;American (Traditional);American (New);Restaurants', 'Bars;Restaurants;Cocktail Bars;American (New);Nightlife;Seafood', 'Breakfast & Brunch;Steakhouses;Restaurants', 'Do-It-Yourself Food;Restaurants;Food;Desserts;American (Traditional);Bakeries', 'American (Traditional);Cocktail Bars;Nightlife;Bars;Restaurants;American (New)', 'Salad;Burgers;Food Trucks;Sandwiches;Restaurants;Food', 'Restaurants;Breakfast & Brunch;Japanese;Asian Fusion', 'Salad;Asian Fusion;Restaurants;Japanese;Sushi Bars', 'Casinos;Asian Fusion;Restaurants;Arts & Entertainment', 'American (Traditional);Seafood;Desserts;Restaurants;Food;American (New)', 'Nightlife;American (Traditional);Chicken Wings;Sports Bars;Bars;Restaurants', 'Restaurants;Vegan;Vegetarian', 'Diners;Breakfast & Brunch;Restaurants;Comfort Food;Burgers;American (Traditional)', 'Burgers;Chicken Wings;Restaurants;Hot Dogs', 'American (Traditional);Bars;Pubs;Restaurants;Nightlife', 'Restaurants;Japanese;Teppanyaki;Asian Fusion', 'Food Trucks;Mexican;Food;Restaurants', 'American (Traditional);Brasseries;Restaurants;Breakfast & Brunch', 'Bakeries;Desserts;Food;Restaurants;Cupcakes', 'Bars;Soup;Nightlife;Mexican;Restaurants;Salad', 'Tapas/Small Plates;Restaurants;Japanese', 'Mexican;Restaurants;Burgers;Latin American;Breakfast & Brunch;Food;Salvadoran', 'Restaurants;Seafood;Cajun/Creole', 'Irish;Bars;Nightlife;Restaurants;Sports Bars;Irish Pub', 'Indian;Restaurants;Pakistani', 'Restaurants;Italian;Chicken Wings;Pizza', 'Restaurants;Salad;Sandwiches;Delis', 'Chinese;Restaurants;Noodles;Taiwanese', 'Grocery;Middle Eastern;Restaurants;Food', 'Musicians;Cajun/Creole;Hotels & Travel;Event Planning & Services;Venues & Event Spaces;Hotels;Bars;Nightlife;American (New);Performing Arts;Restaurants;Music Venues;Arts & Entertainment', 'American (Traditional);Restaurants;Breakfast & Brunch', 'American (New);American (Traditional);Steakhouses;Seafood;Restaurants', 'Chicken Wings;Peruvian;Restaurants;Seafood', 'Salad;Tex-Mex;Mexican;Food;Restaurants;Fast Food;American (Traditional)', 'Sandwiches;Restaurants;Fast Food', 'Greek;Restaurants;Mediterranean', 'American (New);Restaurants;Steakhouses', 'Seafood;Restaurants;Steakhouses;American (New)', 'Mexican;Restaurants;Caterers;Event Planning & Services', 'Restaurants;Salad;Pizza;Italian;Sandwiches', 'Gluten-Free;Poke;Vegan;Food;Acai Bowls;Juice Bars & Smoothies;Restaurants', 'Food;Mexican;American (New);Restaurants', 'Restaurants;Bars;Nightlife;Mexican', 'Pizza;Restaurants;Italian;Seafood', 'Restaurants;Mediterranean;Seafood;French', 'American (Traditional);Diners;Sandwiches;Restaurants;Burgers', 'Nightlife;Sports Bars;American (Traditional);Restaurants;Bars;Pool Halls', 'Buffets;Sushi Bars;Restaurants;Breakfast & Brunch', 'Malaysian;Chinese;Restaurants;Thai', 'Ethnic Food;Food;Restaurants;Vietnamese;Specialty Food', 'Delis;Middle Eastern;Meat Shops;Restaurants;Food;Specialty Food;Beer;Wine & Spirits;Mediterranean;Grocery', 'Food;Pizza;Restaurants;Italian', 'American (Traditional);Restaurants;Sandwiches', 'American (New);Bars;Comfort Food;Nightlife;Restaurants', 'Sandwiches;Italian;Delis;Restaurants;Fast Food;Pizza', 'American (New);American (Traditional);Breakfast & Brunch;Restaurants', 'Nightlife;Bars;Cocktail Bars;Italian;Restaurants;Desserts;Food', 'Juice Bars & Smoothies;Restaurants;Food', 'American (Traditional);Burgers;Diners;Sandwiches;Restaurants', 'Cafes;Brasseries;Steakhouses;Restaurants;Hotels & Travel;French;Hostels', 'Pizza;Food;Italian;Restaurants', 'Sandwiches;Southern;Barbeque;Restaurants', 'Greek;Restaurants;Vegetarian;Mediterranean', 'Thai;Food;Restaurants', 'Sports Bars;Nightlife;American (New);Restaurants;American (Traditional);Steakhouses;Burgers;Bars', 'Diners;American (Traditional);Restaurants;Breakfast & Brunch', 'Bakeries;Juice Bars & Smoothies;Food;Patisserie/Cake Shop;Restaurants;Ice Cream & Frozen Yogurt', 'Food;Restaurants;Chinese;Coffee & Tea;Dim Sum', 'Pubs;Bars;Nightlife;Restaurants;American (Traditional)', 'Hotels;Restaurants;Casinos;Arts & Entertainment;Event Planning & Services;Hotels & Travel', 'Seafood;Pizza;Sandwiches;Restaurants;Food;Desserts;Italian;American (Traditional)', 'American (New);Bars;Cocktail Bars;Restaurants;Steakhouses;Nightlife;Breakfast & Brunch;Sandwiches', 'Wine Bars;Nightlife;Restaurants;Pizza;Bars;Italian', 'Desserts;American (New);Sandwiches;American (Traditional);Restaurants;Food', 'Irish;Restaurants;Pubs;Bars;Nightlife', 'Breakfast & Brunch;Restaurants', 'Active Life;Bars;Golf;American (New);Restaurants;Nightlife', 'Coffee & Tea;Creperies;Restaurants;Food;Desserts', 'Burgers;Arts & Entertainment;Casinos;Bars;Breweries;Restaurants;Salad;Sandwiches;Food;Nightlife;Pubs', 'Restaurants;Party & Event Planning;Cafes;American (Traditional);Event Planning & Services', 'Sushi Bars;Restaurants;Teppanyaki;Japanese', 'Dive Bars;Seafood;Restaurants;Asian Fusion;Bars;Nightlife;Vietnamese;Sports Bars', 'Bars;Seafood;Wine Bars;Nightlife;Steakhouses;Restaurants', 'Restaurants;Venues & Event Spaces;Event Planning & Services;Italian', 'Nightlife;Tuscan;Bars;Italian;Gluten-Free;Restaurants;Pizza;Cocktail Bars', 'Specialty Food;Pasta Shops;Restaurants;Italian;Pizza;Food', 'Restaurants;Nightlife;Bars;Mexican', 'Restaurants;American (New);Chicken Shop', 'Restaurants;Food;Desserts;Thai', 'Restaurants;Bagels;Breakfast & Brunch;Comfort Food;Bakeries;Coffee & Tea;Food;Delis;Cafes', 'Vietnamese;Bubble Tea;Sandwiches;Food;Coffee & Tea;Restaurants', 'Poke;Hawaiian;Food;Restaurants;Salad', 'Chicken Wings;Restaurants;Fast Food', 'Nightlife;Restaurants;Pubs;Bars;American (Traditional)', 'Bars;Chicken Wings;Sports Bars;Restaurants;Pizza;Nightlife', 'American (Traditional);Performing Arts;Arts & Entertainment;Burgers;Restaurants', 'French;Bars;Coffee & Tea;Food;Wine Bars;Restaurants;Lounges;Nightlife;Tea Rooms', 'Middle Eastern;Persian/Iranian;Mediterranean;Vegetarian;Restaurants', 'Restaurants;Gyms;Trainers;Fitness & Instruction;Martial Arts;Active Life;Brazilian', 'Nightlife;American (Traditional);Bars;Restaurants', 'Restaurants;Hawaiian;Seafood Markets;Poke;Seafood;Food;Asian Fusion;Specialty Food', 'American (New);Fast Food;Restaurants', 'Gluten-Free;Mexican;Seafood;Restaurants', 'American (Traditional);Convenience Stores;Food;Restaurants', 'Restaurants;Lounges;Music Venues;Cafes;Arts & Entertainment;Bars;Nightlife', 'Sushi Bars;Food;Desserts;Restaurants', 'Restaurants;Fast Food;American (Traditional);Burgers', 'Bars;Burgers;Wine Bars;Nightlife;American (Traditional);Restaurants;American (New)', 'Delis;Sandwiches;Restaurants', 'Caterers;Event Planning & Services;Seafood;Food;Salad;Desserts;Italian;Venues & Event Spaces;Restaurants', 'American (New);Restaurants;Chicken Wings;Burgers', 'American (Traditional);Breakfast & Brunch;Restaurants;Burgers', 'Bars;Restaurants;Mexican;Nightlife', 'Burgers;American (Traditional);Pizza;Restaurants', 'Restaurants;Chinese;Fast Food', 'Burgers;Food;Restaurants;Sandwiches;Juice Bars & Smoothies', 'Restaurants;Pasta Shops;Pizza;Food;Specialty Food;Italian;Salad', 'Vietnamese;Restaurants;Korean', 'Food Stands;Restaurants;Food;Food Trucks;Street Vendors;Chicken Wings', 'Mexican;Cheesesteaks;Chicken Wings;Salvadoran;Latin American;Burgers;Restaurants', 'Restaurants;Casinos;Bars;Pubs;Arts & Entertainment;Nightlife;American (Traditional);Breweries;Food', 'Restaurants;Korean;Soup;Noodles', 'Active Life;Pizza;Arts & Entertainment;Kids Activities;Restaurants;Amusement Parks;Arcades', 'Chinese;Japanese;Bars;Nightlife;Restaurants', 'Restaurants;Nightlife;Bars;Lounges;Food;Breakfast & Brunch;Sports Bars;Pubs;Beer;Wine & Spirits;American (Traditional)', 'Cheesesteaks;Sandwiches;Restaurants', 'Sandwiches;Burgers;Diners;Restaurants', 'Soul Food;Cafes;Restaurants;Breakfast & Brunch', 'Cajun/Creole;Chicken Wings;Fast Food;Restaurants', 'American (Traditional);Restaurants;Nightlife', 'Buffets;Filipino;Restaurants', 'Nightlife;Sports Bars;Restaurants;Bars;American (New);American (Traditional)', 'Italian;Restaurants;Sandwiches;Pizza', 'Filipino;Fast Food;Restaurants', 'Event Planning & Services;Caterers;Barbeque;Restaurants;Soul Food', 'Chinese;Restaurants;Sushi Bars;Asian Fusion', 'Sandwiches;Pizza;Restaurants;Cheesesteaks;Chicken Wings', 'Salad;Restaurants;Delis;Wraps;Sandwiches', 'Food;Hawaiian;Japanese;Restaurants;Poke', 'Sushi Bars;Water Stores;Grocery;Restaurants;Food', 'Food;Restaurants;Pizza;Delis', 'American (New);Restaurants;Sports Bars;Bars;Pubs;Nightlife', 'Cantonese;Ramen;Taiwanese;Dim Sum;Japanese;Restaurants;Chinese', 'Steakhouses;Nightlife;Restaurants;Bars', 'Burgers;Food;Specialty Food;Juice Bars & Smoothies;Restaurants;American (Traditional);Salad;Health Markets', 'Nightlife;Bars;Restaurants;American (New);American (Traditional)', 'American (Traditional);Breakfast & Brunch;Chinese;Thai;Restaurants', 'Vegetarian;Vegan;Thai;Restaurants', 'Restaurants;Burgers;American (Traditional);Hot Dogs;American (New)', 'Nightlife;Bars;Restaurants;Wine Bars;Lounges;Italian', 'American (New);Bars;Beer;Wine & Spirits;Restaurants;Burgers;Food;Nightlife;Asian Fusion', 'Ramen;Noodles;Japanese;Restaurants', 'Delis;Restaurants;Sandwiches;Breakfast & Brunch', 'American (New);Restaurants;Burgers;Cafes;Breakfast & Brunch', 'Coffee & Tea;Juice Bars & Smoothies;Restaurants;Ice Cream & Frozen Yogurt;Desserts;Creperies;Food', 'Restaurants;American (New);Sandwiches;Breakfast & Brunch', 'Restaurants;Mexican;Fast Food', 'Nightlife;Salad;Sandwiches;Restaurants;Bars;American (New);Pizza', 'American (New);Restaurants;Food;Bakeries;Desserts;Cupcakes;Breakfast & Brunch', 'Restaurants;Chicken Shop;Asian Fusion;Singaporean;Chinese', 'Restaurants;Vegan;Thai', 'Restaurants;Steakhouses;Food', 'Burgers;Restaurants;Barbeque;Southern;American (New)', 'Cheesesteaks;Pizza;Restaurants;Italian', 'Bars;Nightlife;Restaurants;American (Traditional)', 'Delis;Imported Food;Ethnic Food;Bakeries;Food;Specialty Food;Fruits & Veggies;Grocery;Restaurants', 'Local Flavor;Restaurants;Real Estate;Italian;Mortgage Brokers;Festivals;Home Services;Arts & Entertainment', 'Restaurants;Chinese;Bubble Tea;Food', 'Restaurants;Dance Clubs;Lounges;Nightlife;Italian;Breakfast & Brunch;Bars', 'American (Traditional);Breakfast & Brunch;Nightlife;Food;Restaurants;Bars;Beer;Wine & Spirits', 'Japanese;Chinese;Hawaiian;Restaurants', 'Asian Fusion;Nightlife;Restaurants;Beer Bar;Bars;Gastropubs;Cocktail Bars', 'Gastropubs;Fish & Chips;Nightlife;Restaurants;British;Pubs;Bars', 'Barbeque;Hawaiian;Restaurants;Asian Fusion;Hot Dogs;Comfort Food', 'Nightlife;Sports Bars;Bars;Restaurants;Pizza', 'Restaurants;Barbeque;Buffets;Korean', 'Steakhouses;Restaurants;Sushi Bars;Japanese', 'Chicken Wings;American (Traditional);Restaurants;Southern;Fast Food', 'Sports Bars;Restaurants;Nightlife;Bars;American (Traditional)', 'Restaurants;Korean;Noodles;Chinese;Asian Fusion', 'Breakfast & Brunch;Bars;Nightlife;Restaurants;American (Traditional)', 'Gluten-Free;Italian;Food Delivery Services;Food;Restaurants;Pizza;Sandwiches', 'Beer Bar;Tapas/Small Plates;Bars;American (New);Nightlife;Restaurants;Cocktail Bars;Wine Bars;Breakfast & Brunch', 'Food;Mediterranean;Restaurants;Middle Eastern;Bakeries', 'Restaurants;Asian Fusion;American (Traditional);Lounges;Nightlife;Bars', 'American (New);Karaoke;Bars;Italian;Lounges;American (Traditional);Restaurants;Nightlife;Steakhouses', 'Event Planning & Services;Seafood;Salad;Fast Food;Mexican;Restaurants;Caterers', 'Coffee & Tea;Restaurants;Cocktail Bars;Casinos;Breakfast & Brunch;Arts & Entertainment;Bars;Nightlife;Food;Cafes', 'Sandwiches;Buffets;Restaurants;Breakfast & Brunch;Food', 'Restaurants;Nightlife;Steakhouses;Bars', 'Bakeries;Coffee & Tea;Restaurants;Desserts;Sandwiches;Cafes;Food', 'Breakfast & Brunch;Music Venues;Bars;Mexican;Restaurants;Nightlife;Arts & Entertainment', 'Bars;Pubs;Burgers;Restaurants;Nightlife;American (Traditional)', 'Restaurants;Tacos;Mexican', 'Italian;Breakfast & Brunch;Nightlife;Bars;Restaurants;Diners', 'Breakfast & Brunch;Diners;American (Traditional);Restaurants', 'Taiwanese;Food;Juice Bars & Smoothies;Coffee & Tea;Bubble Tea;Restaurants', 'Asian Fusion;Restaurants;Noodles', 'Bars;Chinese;Nightlife;Beer;Wine & Spirits;Wine Bars;Food;Restaurants', 'Restaurants;Cajun/Creole', 'Asian Fusion;Restaurants', 'Hotels & Travel;Breakfast & Brunch;Cafes;Bakeries;Bed & Breakfast;Restaurants;Food', 'Restaurants;American (Traditional);Diners;Breakfast & Brunch', 'Food;Ethnic Food;Filipino;Specialty Food;Imported Food;Seafood;Ethnic Grocery;International Grocery;Restaurants;Grocery', 'Bars;American (Traditional);Tex-Mex;Nightlife;Restaurants', 'Pizza;Restaurants;Italian;Salad', 'Nightlife;Seafood;Dive Bars;Tacos;Bars;Fast Food;Mexican;Restaurants', 'American (New);Restaurants;Burgers', 'Bars;Nightlife;Pubs;British;Gastropubs;Restaurants', 'Soup;Szechuan;Restaurants;Specialty Food;Pasta Shops;Noodles;Food;Local Flavor;Chinese', 'Pubs;Food;Beer;Wine & Spirits;American (Traditional);Nightlife;Bars;Restaurants;Dive Bars', 'American (Traditional);Pubs;Restaurants;Nightlife;Bars', 'Restaurants;Casinos;Hotels;Chicken Wings;Arts & Entertainment;Bars;American (New);Event Planning & Services;Hotels & Travel;American (Traditional);Nightlife', 'Korean;Restaurants;Bubble Tea;Food;Barbeque', 'Restaurants;Italian;Food;Pizza;Sandwiches;Chicken Wings', 'Restaurants;Food;Hot Dogs;Ice Cream & Frozen Yogurt;Fast Food;Sandwiches', 'Restaurants;American (Traditional);Nightlife;Dive Bars;American (New);Pubs;Sports Bars;Bars', 'Spanish;Tapas Bars;Restaurants', 'American (Traditional);Restaurants;Bars;Sports Bars;Nightlife;Pubs', 'Sandwiches;Restaurants;Breakfast & Brunch;American (New);Food;Bagels;American (Traditional)', 'American (Traditional);Lounges;American (New);Restaurants;Steakhouses;Nightlife;Bars', 'Pizza;American (Traditional);American (New);Restaurants', 'Delis;Pizza;Italian;Restaurants;Sandwiches', 'Sushi Bars;Seafood;Restaurants', 'Restaurants;Fast Food;Desserts;American (Traditional);Food', 'Beverage Store;Juice Bars & Smoothies;Breakfast & Brunch;Restaurants;Desserts;American (Traditional);Food;Internet Cafes', 'Salad;Pizza;Restaurants;Gluten-Free', 'Fast Food;Restaurants;Seafood;Salad;Caterers;Mexican;Event Planning & Services', 'Barbeque;Cantonese;Chinese;Restaurants;Seafood;Dim Sum', 'Hotels & Travel;Hotels;American (Traditional);Food;Event Planning & Services;Restaurants;Arts & Entertainment;Casinos;Do-It-Yourself Food', 'Sandwiches;Restaurants;Delis;Salad', 'Bakeries;Restaurants;Breakfast & Brunch;Cafes;Coffee & Tea;French;Food', 'Nightlife;Restaurants;Bars;Lounges;Piano Bars;American (Traditional)', 'American (Traditional);Burgers;Bars;Restaurants;Nightlife;American (New)', 'Italian;Restaurants;Seafood', 'Car Dealers;Thai;Automotive;Seafood;Bars;Wine Bars;Restaurants;Nightlife', 'Pizza;Restaurants;Salad;Gluten-Free', 'Breakfast & Brunch;Sandwiches;Restaurants;Food;Juice Bars & Smoothies;American (New)', 'American (Traditional);Sports Bars;American (New);Gastropubs;Nightlife;Pubs;Bars;Restaurants', 'Mexican;American (Traditional);Restaurants;Fast Food', 'Restaurants;Cafes;American (Traditional)', 'Food Stands;Hot Dogs;Caterers;Restaurants;American (New);Event Planning & Services;Barbeque', 'Music Venues;Restaurants;Bars;Burgers;Nightlife;Seafood;Arts & Entertainment;Lounges', 'Restaurants;Delis;Grocery;Butcher;Food', 'Asian Fusion;Fast Food;Restaurants;Japanese', 'Waffles;Southern;Comfort Food;Chicken Wings;Restaurants', 'Pizza;Italian;Salad;Restaurants', 'Indian;Fast Food;Pakistani;Restaurants', 'American (Traditional);Seafood;American (New);Restaurants', 'Breakfast & Brunch;Restaurants;Sandwiches', 'Food;American (New);Gluten-Free;Cafes;Restaurants;American (Traditional);Sandwiches;Salad;Juice Bars & Smoothies;Health & Medical;Weight Loss Centers', 'Restaurants;Sandwiches;Delis;American (Traditional);American (New)', 'Restaurants;Breakfast & Brunch;Food;Bagels;American (Traditional)', 'Cafes;Coffee & Tea;Restaurants;Food;Desserts', 'Bagels;Food;Sandwiches;Restaurants;Bakeries', 'Seafood;Italian;Restaurants', 'Restaurants;Southern;Barbeque;Soul Food', 'Food;American (New);Restaurants;Desserts;American (Traditional)', 'Restaurants;Hawaiian;Seafood;Barbeque', 'Restaurants;Vegan;Juice Bars & Smoothies;Sandwiches;Grocery;Food;Salad', 'Cafes;Restaurants;Soup;Japanese;Noodles', 'Latin American;Salvadoran;Mexican;Restaurants', 'Pizza;Salad;Restaurants;Italian', 'Chicken Wings;Restaurants;Pizza;Burgers', 'Venues & Event Spaces;Restaurants;Brazilian;Event Planning & Services;Steakhouses', 'Seafood;Restaurants;Venues & Event Spaces;Event Planning & Services;Wedding Planning;American (New)', 'French;Restaurants;American (New);Mexican', 'Desserts;Latin American;Food;Juice Bars & Smoothies;Restaurants;Gelato;Ice Cream & Frozen Yogurt', 'Japanese;Bars;Sushi Bars;Restaurants;Nightlife', 'Mexican;Restaurants;Dance Clubs;Nightlife;Seafood;Bars', 'Sports Bars;Nightlife;Bars;Restaurants;Steakhouses', 'Food;Brazilian;Juice Bars & Smoothies;Ice Cream & Frozen Yogurt;Restaurants', 'Dance Clubs;Nightlife;Restaurants;Italian', 'Food;Street Vendors;Latin American;Gluten-Free;Vegan;Food Trucks;Restaurants;Venezuelan', 'Steakhouses;Restaurants;Desserts;Food;American (New);Cheesesteaks', 'Karaoke;Restaurants;Bars;Nightlife;Hawaiian', 'Sandwiches;Italian;Burgers;Pizza;Wraps;Restaurants;Salad', 'Bars;Nightlife;American (Traditional);Restaurants', 'French;Restaurants;American (Traditional);Breakfast & Brunch;Cafes', 'Restaurants;Ethnic Food;Food;Specialty Food;Greek', 'Acai Bowls;Poke;Juice Bars & Smoothies;Gluten-Free;Food;Vegan;Restaurants', 'American (Traditional);Breakfast & Brunch;Restaurants', 'Event Planning & Services;Italian;Pizza;Food;Restaurants;Caterers', 'Restaurants;Italian;Delis', 'Sandwiches;Breakfast & Brunch;American (Traditional);Restaurants;Diners', 'Restaurants;Sandwiches;Burgers;American (New);American (Traditional);Cafes', 'Thai;Restaurants;Asian Fusion;Chinese;Food;Vegetarian', 'Restaurants;Food Court;Asian Fusion;Korean', 'Sushi Bars;Lounges;Bars;Restaurants;Japanese;Nightlife', 'Restaurants;American (Traditional);Bars;Nightlife;Sports Bars', 'Restaurants;Burgers;American (Traditional);Sandwiches;Pizza;Breakfast & Brunch', 'Cafes;Food;Delis;French;Coffee & Tea;Vegan;Breakfast & Brunch;Sandwiches;Restaurants', 'Thai;Restaurants;Noodles;Fast Food;Asian Fusion', 'Spanish;Restaurants;Latin American;Mexican', 'Nightlife;American (New);Venues & Event Spaces;Karaoke;Event Planning & Services;Restaurants;Mexican', 'Seafood;American (Traditional);Comfort Food;Cajun/Creole;Restaurants;Southern', 'American (Traditional);Pizza;Chicken Wings;Restaurants;Food;Desserts', 'Thai;Chinese;Restaurants;Vegetarian;Salad', 'Bagels;Restaurants;Coffee & Tea;Breakfast & Brunch;Food', 'Restaurants;Mediterranean', 'Restaurants;Steakhouses;American (Traditional);American (New)', 'Food;Sandwiches;Breakfast & Brunch;Street Vendors;Restaurants', 'Food;Restaurants;Cafes;Coffee & Tea;Breakfast & Brunch', 'Fast Food;Pub Food;Restaurants;Sandwiches', 'American (Traditional);Chicken Wings;Sports Bars;Restaurants;Bars;Nightlife', 'Korean;Restaurants;Asian Fusion', 'Fast Food;Asian Fusion;Japanese;Hawaiian;Restaurants', 'Vegan;Acai Bowls;Juice Bars & Smoothies;Food;Restaurants;Gluten-Free', 'Sandwiches;Restaurants;Cafes;American (New)', 'Creperies;Coffee & Tea;Food;Restaurants;Bagels;Bakeries', 'Sushi Bars;Japanese;Restaurants;Tapas Bars', 'American (Traditional);Sports Bars;Nightlife;Bars;Restaurants', 'Bars;Pubs;Restaurants;Gastropubs;Nightlife;American (New);Sports Bars', 'Restaurants;Event Planning & Services;Sandwiches;Caterers', 'Gluten-Free;Restaurants;Sandwiches;Latin American;Venezuelan', 'American (Traditional);Fast Food;Chicken Wings;Restaurants', 'Gastropubs;Nightlife;American (New);Restaurants;Bars', 'Breakfast & Brunch;Burgers;Restaurants;American (Traditional);Cafes;Sandwiches', 'Latin American;Italian;Salvadoran;Restaurants', 'Pizza;Food;Salad;Italian;Restaurants;Specialty Food', 'Korean;Restaurants;Ethical Grocery;Grocery;Food Stands;Food', 'Sushi Bars;Food;Asian Fusion;Restaurants;Poke;Japanese', 'Restaurants;Pizza;Seafood;American (New);Salad;Italian', 'Pizza;Burgers;Sandwiches;Restaurants', 'Food;Restaurants;Hot Dogs', 'Food;French;Restaurants;Bakeries', 'Pizza;Food;Restaurants', 'Spanish;Restaurants;Salvadoran;Latin American;Mexican', 'Restaurants;Food;Breakfast & Brunch;Juice Bars & Smoothies;Cafes;Sandwiches', 'Bakeries;Restaurants;German;Pretzels;Food;Desserts', 'Indian;Vegan;Pakistani;Restaurants;Vegetarian', 'Specialty Food;Restaurants;Food;Colombian;Ethnic Food;Latin American;Comfort Food', 'Restaurants;Desserts;Ice Cream & Frozen Yogurt;Coffeeshops;Coffee & Tea;Nightlife;Gelato;Cafes;Food', 'Vegetarian;Vegan;Mexican;Restaurants', 'Mediterranean;Persian/Iranian;Restaurants;Grocery;Kosher;Halal;Middle Eastern;Food', 'Restaurants;Breakfast & Brunch;French;Sandwiches', 'Gastropubs;Pizza;Italian;Restaurants', 'Lebanese;Greek;Middle Eastern;Restaurants;Mediterranean', 'Vegan;Vegetarian;Thai;Restaurants', 'Steakhouses;American (Traditional);Seafood;Restaurants;Sandwiches', 'Food;Convenience Stores;Restaurants;Chinese', 'Thai;Vegetarian;Noodles;Restaurants', 'Japanese;Beer;Wine & Spirits;Teppanyaki;Food;Restaurants', 'Burgers;Restaurants;Fast Food;American (Traditional)', 'Breakfast & Brunch;Mexican;Tacos;Restaurants;Desserts;Food', 'Barbeque;Chinese;Restaurants;Noodles', 'American (New);Asian Fusion;Chinese;Restaurants', 'Middle Eastern;Restaurants;Mediterranean;Lebanese;Moroccan', 'Restaurants;Bars;Nightlife;Cocktail Bars', 'Restaurants;Fast Food;Mexican', 'Pizza;Eyebrow Services;Hair Salons;Makeup Artists;Nail Salons;Restaurants;Beauty & Spas', 'Fruits & Veggies;Specialty Food;Food;Coffee & Tea;Restaurants;Vegan;Vegetarian;Juice Bars & Smoothies', 'Lounges;Nightlife;Bars;Tapas Bars;Restaurants', 'Tapas/Small Plates;Tapas Bars;Spanish;Restaurants', 'Breakfast & Brunch;Restaurants;Sandwiches;Burgers;American (Traditional)', 'Food;Restaurants;Desserts;Coffee & Tea;Cafes', 'Breakfast & Brunch;Restaurants;Mexican;Tapas/Small Plates;Seafood', 'Restaurants;Buffets;Breakfast & Brunch', 'Soup;Seafood;Restaurants;Steakhouses', 'Bars;Nightlife;Italian;Pizza;Restaurants', 'Sushi Bars;Restaurants;Steakhouses', 'Restaurants;Steakhouses;Brazilian;Buffets;Seafood', 'Food Trucks;Food;Mexican;Restaurants', 'Sushi Bars;Chinese;Restaurants;Buffets', 'Pizza;Arcades;Event Planning & Services;Party & Event Planning;Arts & Entertainment;Restaurants', 'Soup;Noodles;Chinese;Restaurants', 'Restaurants;Fast Food;Chinese;Cantonese;Filipino;Asian Fusion', 'Caterers;Tapas Bars;Restaurants;American (New);Food Trucks;Barbeque;Food;Event Planning & Services', 'Restaurants;Mexican;Seafood;Breakfast & Brunch', 'Nightlife;Pool Halls;Restaurants;Bars', 'Restaurants;Thai;Vegetarian', 'Bars;Restaurants;Breakfast & Brunch;Nightlife;Cocktail Bars;American (Traditional)', 'Chinese;Asian Fusion;Noodles;Restaurants', 'Brasseries;Restaurants', 'Juice Bars & Smoothies;Salad;Sandwiches;Cafes;Wraps;Food;Restaurants', 'Seafood;Restaurants;Fish & Chips;Comfort Food', 'Bakeries;Food;Italian;Delis;Restaurants', 'Creperies;French;Gluten-Free;Restaurants;Cafes', 'Sushi Bars;Restaurants;Tapas/Small Plates;Japanese', 'Restaurants;Barbeque;Hawaiian', 'Convenience Stores;Automotive;Food;Gas Stations;Restaurants;Fast Food', 'American (Traditional);Nightlife;Bars;Restaurants;Tex-Mex', 'Caterers;Restaurants;Barbeque;Event Planning & Services', 'Food;French;Coffee & Tea;Restaurants', 'Restaurants;Barbeque;Seafood;Filipino', 'Restaurants;Specialty Food;Food;Bars;British;Nightlife;Pubs', 'Mexican;Seafood;Restaurants;Gluten-Free', 'Restaurants;Cheesesteaks', 'Steakhouses;Nightlife;Bars;French;Restaurants;Cocktail Bars', 'Sandwiches;Soup;Salad;Restaurants', 'Nightlife;Bars;Gastropubs;Restaurants;Beer;Wine & Spirits;Food;Dive Bars', 'Salad;Restaurants;Soup;American (New);Steakhouses', 'Ice Cream & Frozen Yogurt;Restaurants;Food;Desserts;Italian', 'Caterers;Guamanian;Ethnic Food;Asian Fusion;Comfort Food;Event Planning & Services;Local Flavor;Food;Barbeque;Specialty Food;Hawaiian;Restaurants', 'American (Traditional);Bars;Restaurants;Music Venues;Arts & Entertainment;Nightlife', 'Greek;Middle Eastern;Restaurants;Mediterranean;Tapas/Small Plates', 'Sandwiches;Restaurants;Buffets;Breakfast & Brunch', 'Chicken Wings;Restaurants;Seafood', 'American (New);Restaurants;Hawaiian;Seafood', 'Grocery;Specialty Food;Ethnic Food;Food;Vegetarian;Restaurants;Indian', 'Sushi Bars;Japanese;Buffets;Restaurants', 'Restaurants;Sports Bars;Bars;Nightlife;Event Planning & Services;American (Traditional);Caterers', 'Steakhouses;American (Traditional);Restaurants', 'Caterers;Sandwiches;Restaurants;Food Delivery Services;Salad;Food;Event Planning & Services;Soup;Wraps', 'American (Traditional);Restaurants;Burgers', 'Sushi Bars;Restaurants;Asian Fusion;Japanese', 'Restaurants;Seafood;Pizza;Mediterranean;Modern European;Italian', 'Active Life;Music Venues;Arts & Entertainment;Irish;Bars;Nightlife;Restaurants;Pubs', 'American (Traditional);Tex-Mex;Nightlife;Fast Food;Bars;Restaurants', 'Restaurants;Korean;Food Court', 'Nightlife;Steakhouses;Sports Bars;Bars;Burgers;Restaurants;American (Traditional)', 'Buffets;Salad;Soup;Vegetarian;Restaurants', 'Breakfast & Brunch;Restaurants;Bars;Japanese;Nightlife;Sushi Bars;Karaoke;Steakhouses;Teppanyaki', 'Barbeque;Restaurants;Hawaiian', 'Arts & Entertainment;Restaurants;Casinos;American (Traditional);Bingo Halls', 'Restaurants;American (New);Mediterranean', 'Sports Bars;American (New);Bars;Nightlife;Restaurants', 'Restaurants;Nightlife;American (Traditional);Bars;American (New)', 'Restaurants;Beer Gardens;Nightlife;Thai', 'American (New);Restaurants;Gastropubs;Nightlife;Bars', 'Restaurants;American (New);Diners;Breakfast & Brunch', 'Sandwiches;Pizza;American (Traditional);Nightlife;Salad;Restaurants;Bars;Seafood', 'Restaurants;Persian/Iranian;Afghan;Kebab;Mediterranean;Halal', 'Asian Fusion;Thai;Restaurants;Korean', 'Pakistani;Arabian;Indian;Restaurants;Halal', 'Restaurants;Bars;Nightlife;Asian Fusion;Lounges', 'American (New);Restaurants;Seafood;Steakhouses', 'Food;Restaurants;Hawaiian;Breakfast & Brunch;Coffee & Tea', 'Restaurants;Bars;Nightlife;Breakfast & Brunch;American (Traditional)', 'Food;Restaurants;Desserts;Ice Cream & Frozen Yogurt', 'Juice Bars & Smoothies;Food;Creperies;Restaurants;Ice Cream & Frozen Yogurt;Desserts', 'Restaurants;American (Traditional);Burgers;Sandwiches', 'Halal;Restaurants;Pizza;Italian', 'Soul Food;Southern;Restaurants;American (Traditional)', 'Sandwiches;Ice Cream & Frozen Yogurt;Food;Dance Clubs;Bakeries;Nightlife;Restaurants;Coffee & Tea;Gelato', 'Soul Food;Chicken Wings;Restaurants', 'Restaurants;Food;Poke;Asian Fusion;Japanese;Sushi Bars;Hawaiian', 'Tex-Mex;Restaurants;American (New);Nightlife;American (Traditional);Bars', 'Nightlife;Dive Bars;Irish Pub;American (New);Irish;Bars;Mediterranean;Restaurants;American (Traditional)', 'Mediterranean;Restaurants;Greek', 'Food Court;Restaurants;Fast Food', 'Noodles;Ramen;Japanese;Soup;Restaurants', 'Italian;Mexican;Restaurants;Chinese', 'Cafes;American (New);Diners;Restaurants', 'Bars;Restaurants;American (New);Lounges;Dance Clubs;Nightlife', 'American (Traditional);American (New);Coffee & Tea;Restaurants;Gelato;Food;Breakfast & Brunch;Fast Food;Burgers;Internet Cafes;Cafes', 'Pizza;Salad;Restaurants;Gluten-Free', 'Beer;Wine & Spirits;Seafood;Diners;Steakhouses;Restaurants;Brazilian;Portuguese;Desserts;Food;Buffets', 'Event Planning & Services;Caterers;Pizza;Restaurants;Chicken Wings', 'Mexican;Food;Specialty Food;Tacos;Restaurants', 'Teppanyaki;Restaurants;Sushi Bars;Japanese', 'Indian;Restaurants', 'Restaurants;Pan Asian;Asian Fusion;Chinese', 'American (Traditional);Breakfast & Brunch;Restaurants;Diners', 'Asian Fusion;Restaurants;Korean;Hawaiian', 'Bars;Arts & Entertainment;Arcades;Nightlife;Restaurants', 'Delis;Salad;Pizza;Restaurants', 'Seafood;Barbeque;Steakhouses;American (Traditional);Restaurants', 'American (New);Seafood;Steakhouses;Restaurants', 'Restaurants;Pan Asian', 'Burgers;American (Traditional);Sports Bars;Food;Nightlife;Bars;Beer;Wine & Spirits;Restaurants', 'Comfort Food;Desserts;Burgers;Food;Local Flavor;Restaurants', 'American (Traditional);Restaurants;Burgers;Breakfast & Brunch;Arts & Entertainment;Music Venues;American (New);Nightlife', 'Restaurants;Pakistani;Indian;Halal', 'Hawaiian;Bubble Tea;Food;Chinese;Restaurants;Asian Fusion;Coffee & Tea', 'American (New);Restaurants;Sports Bars;Bars;Nightlife;Pubs', 'Sports Bars;Restaurants;American (New);Pubs;Nightlife;Bars', 'Seafood;Breakfast & Brunch;Restaurants;Nightlife;Bars;Sports Bars', 'Fast Food;Japanese;Do-It-Yourself Food;Restaurants;Sushi Bars;Asian Fusion;Food;Poke;Mexican;Hawaiian', 'Restaurants;Buffets;American (Traditional);Pizza', 'Sushi Bars;Restaurants;Japanese;Teppanyaki;Steakhouses;Seafood', 'Ramen;Japanese;Vegan;Restaurants;Noodles;Vegetarian;Sushi Bars', 'Nightlife;Burgers;American (Traditional);Bars;Restaurants;Sports Bars', 'Food;Breakfast & Brunch;American (New);Sandwiches;Juice Bars & Smoothies;Restaurants', 'Food;Sushi Bars;Restaurants;Poke;Asian Fusion', 'Restaurants;Vietnamese;Barbeque;Soup', 'Coffeeshops;Nightlife;Breakfast & Brunch;Coffee & Tea;Food;Desserts;Restaurants', 'Restaurants;Food Court', 'Restaurants;Mexican;Bars;Vegan;Nightlife', 'Hot Dogs;Chicken Wings;Asian Fusion;Restaurants;Korean', 'Filipino;Restaurants;Food;Bakeries;Fast Food', 'Halal;Afghan;Restaurants;Persian/Iranian;Middle Eastern', 'Restaurants;American (New);Gay Bars;Nightlife;Bars;Lounges;Karaoke', 'Burgers;American (Traditional);Diners;Restaurants;Breakfast & Brunch', 'Nightlife;Italian;Bars;Karaoke;Lounges;Restaurants;Education;Colleges & Universities;Pubs;Filipino', 'Bars;Nightlife;Restaurants;Burgers;Sports Bars', 'Diners;Arts & Entertainment;Restaurants;Bars;American (New);Performing Arts;Nightlife', 'Food;Soup;Restaurants;Chinese;Thai;Bubble Tea', 'French;Italian;Restaurants;Mediterranean', 'Seafood;Comfort Food;Restaurants;Southern', 'American (Traditional);Pubs;Bars;Breakfast & Brunch;Restaurants;Nightlife', 'Food;Vegetarian;Shopping;Restaurants;Diners;Nightlife;Bars;Doctors;Health & Medical;Drugstores', 'Coffee & Tea;Food;Juice Bars & Smoothies;Restaurants;Sandwiches;Bakeries', 'American (New);Restaurants;American (Traditional);Breakfast & Brunch', 'Food;Chicken Wings;Restaurants', 'Restaurants;Cafes;Food;Bakeries', 'Sushi Bars;Restaurants;Bars;Noodles;Japanese;Salad;Nightlife;Soup', 'Coffee & Tea;Cafes;Restaurants;Food', 'Bars;Breakfast & Brunch;Sports Bars;Restaurants;American (New);Nightlife;Pubs;Pizza', 'Chinese;Gluten-Free;Asian Fusion;Sushi Bars;Restaurants', 'Food;Breakfast & Brunch;Asian Fusion;Bars;Burgers;Beer;Wine & Spirits;Nightlife;Restaurants', 'Hawaiian;Sushi Bars;Food;Poke;Restaurants;Japanese', 'Sandwiches;Restaurants;Food;Bagels;Donuts', 'Cafes;Bakeries;Art Galleries;Shopping;Restaurants;Coffee & Tea;Food;Arts & Entertainment', 'Sushi Bars;Restaurants;Food;Hawaiian;Poke;Seafood;Asian Fusion;Japanese', 'Restaurants;Diners;Breakfast & Brunch', 'American (New);Beer;Wine & Spirits;Beer Bar;Wine Bars;Food;Bars;Cocktail Bars;Asian Fusion;Steakhouses;Nightlife;Restaurants;Vegetarian;American (Traditional);Seafood', 'Seafood;Restaurants;American (Traditional);Steakhouses', 'Restaurants;Noodles;Chinese', 'Pizza;Breweries;American (New);Food;Restaurants', 'Sandwiches;Restaurants;Pizza;Italian', 'Food;Restaurants;Grocery;Mexican', 'Nightlife;Gastropubs;Restaurants;Bars;American (New);Sports Bars', 'Juice Bars & Smoothies;Breakfast & Brunch;Restaurants;Food;Cafes;Sandwiches', 'Event Planning & Services;Bars;Italian;Lounges;Restaurants;Nightlife;Venues & Event Spaces', 'Sandwiches;Bars;Venues & Event Spaces;American (Traditional);Event Planning & Services;Dive Bars;Lounges;Restaurants;Nightlife;Sports Bars', 'Restaurants;Juice Bars & Smoothies;Coffee & Tea;Tea Rooms;Food;Taiwanese', 'Ethnic Food;Specialty Food;Hookah Bars;Bars;Mediterranean;Restaurants;Lounges;Nightlife;Food', 'Juice Bars & Smoothies;Food;Restaurants', 'Chinese;Noodles;Restaurants;Szechuan;Shanghainese', 'Restaurants;Soup;Sandwiches;Salad', 'Ramen;Sushi Bars;Restaurants;Japanese;Noodles', 'Cafes;Filipino;Breakfast & Brunch;Restaurants;American (Traditional)', 'Cafes;Restaurants;Mexican', 'Tapas Bars;Vegetarian;Tapas/Small Plates;Korean;Asian Fusion;Beer;Wine & Spirits;Japanese;Food;Restaurants;Ramen', 'Beer;Wine & Spirits;Pizza;American (New);Nightlife;Restaurants;Bars;Food', 'Thai;Restaurants;Food;Vietnamese', 'Fondue;Specialty Food;Food;Restaurants;Asian Fusion;Desserts;Japanese;Hot Pot', 'Caterers;Salad;Mexican;Seafood;Event Planning & Services;Restaurants;Fast Food', 'Nightlife;Restaurants;Asian Fusion;Barbeque;Bars;Karaoke;Chinese', 'Restaurants;American (Traditional);Chicken Wings;Barbeque;Cafes', 'Restaurants;Food;Filipino;Ice Cream & Frozen Yogurt;Desserts', 'Restaurants;Food;Ice Cream & Frozen Yogurt;Burgers;Fast Food', 'Seafood;Desserts;Japanese;Restaurants;Food', 'Event Planning & Services;Wine Bars;Bars;Nightlife;Party & Event Planning;Paint & Sip;Restaurants;American (New);Arts & Entertainment', 'Restaurants;Wine Bars;Nightlife;Cafes;Breakfast & Brunch;Burgers;Bars;American (Traditional)', 'Tea Rooms;Food;Coffee & Tea;Vegan;Restaurants', 'Salad;Bars;Nightlife;Wine Bars;Sandwiches;Food;Restaurants', 'Breakfast & Brunch;Diners;American (New);American (Traditional);Restaurants', 'Sports Bars;Nightlife;Pubs;American (New);Bars;Burgers;Restaurants', 'Taiwanese;Chinese;Restaurants;Malaysian;Soup;Noodles;Asian Fusion', 'Restaurants;Latin American;Salvadoran', 'Japanese;Asian Fusion;Chinese;Restaurants', 'Steakhouses;French;Restaurants;American (New)', 'Restaurants;Wine Bars;Thai;Nightlife;Bars', 'Taiwanese;Restaurants;Chinese', 'Vietnamese;Restaurants;Soup', 'Fast Food;Restaurants;Filipino', 'Restaurants;Event Planning & Services;Caterers;Chinese', 'Food;Bakeries;Sandwiches;Restaurants', 'Chinese;Restaurants;Barbeque;Hawaiian;Cantonese', 'Asian Fusion;Fast Food;Restaurants;Japanese;Poke;Sushi Bars;Food', 'Pizza;Gluten-Free;Salad;Restaurants', 'Sushi Bars;Bars;American (New);Japanese;Nightlife;Restaurants', 'Sandwiches;Pizza;Restaurants;Caterers;Italian;Event Planning & Services', 'Food Delivery Services;Thai;Restaurants;Food', 'Halal;Nightlife;Restaurants;Indian;Bars;Pakistani;Gluten-Free', 'Salad;Restaurants;Cajun/Creole;Breakfast & Brunch;Sandwiches', 'Restaurants;American (Traditional);Sandwiches', 'Seafood;American (New);Restaurants;American (Traditional);Japanese;Asian Fusion;Sushi Bars', 'Gastropubs;Nightlife;Bars;Antiques;Restaurants;Shopping;Wine Bars;Dive Bars', 'Restaurants;American (New);Breakfast & Brunch', 'Nightlife;Fast Food;Restaurants;Cocktail Bars;Bars;Mexican', 'Restaurants;Korean;Bars;Nightlife;Barbeque', 'Food;Coffee & Tea;Restaurants;Taiwanese', 'Restaurants;Food;Buffets', 'Restaurants;Korean;Tapas/Small Plates;Japanese;Food;Street Vendors', 'Sushi Bars;Restaurants;Japanese;Ethnic Food;Specialty Food;Imported Food;Food', 'Desserts;Restaurants;Food;Middle Eastern;Persian/Iranian', 'Restaurants;Barbeque;Food;Food Trucks', 'Mexican;Restaurants;Tex-Mex', 'Restaurants;Food;Coffee & Tea;Breakfast & Brunch;Donuts', 'Honduran;Restaurants;Nicaraguan;Mexican;Latin American;Salvadoran', 'Bars;Italian;Nightlife;Restaurants', 'Hot Dogs;Restaurants;Breakfast & Brunch;Fast Food', 'Nightlife;Bars;Cocktail Bars;Restaurants;Live/Raw Food;Seafood;Sushi Bars', 'Restaurants;Fast Food;American (Traditional)', 'Restaurants;Event Planning & Services;Nightlife;Bars;Hotels & Travel;Hotels;Arts & Entertainment;American (New);Casinos;Lounges', 'Bars;Cocktail Bars;Nightlife;Italian;Tapas Bars;Steakhouses;Restaurants', 'Asian Fusion;Seafood;Taiwanese;Food;Coffee & Tea;Restaurants', 'Arts & Entertainment;Nightlife;American (Traditional);Restaurants;Breakfast & Brunch;Bars', 'Food;Breakfast & Brunch;Steakhouses;American (Traditional);Grocery;Restaurants', 'Food;Breakfast & Brunch;Restaurants;Salad;Sandwiches;Juice Bars & Smoothies', 'Pizza;American (New);Restaurants;Sandwiches', 'Restaurants;Sandwiches;Food;Pizza;American (Traditional)', 'Chinese;Restaurants;Seafood;Szechuan;Cantonese', 'Seafood;Desserts;Breakfast & Brunch;American (New);Restaurants;Food;American (Traditional)', 'Food;Pasta Shops;Pizza;Italian;Restaurants;Specialty Food', 'Casinos;Arts & Entertainment;Steakhouses;Lounges;American (New);Nightlife;Cocktail Bars;Restaurants;American (Traditional);Bars;Russian', 'Restaurants;Food Stands;Pizza', 'American (Traditional);Burgers;Restaurants', 'Thai;Chinese;Restaurants', 'Restaurants;Sushi Bars;Ramen;Asian Fusion;Japanese', 'Burgers;American (Traditional);Restaurants', 'Restaurants;Gastropubs;Desserts;American (New);Street Vendors;American (Traditional);Hot Dogs;Food', 'Restaurants;Breakfast & Brunch;Seafood;American (Traditional)', 'Bars;Music Venues;Restaurants;Nightlife;Arts & Entertainment;Dive Bars;American (Traditional)', 'American (New);Cheesesteaks;Restaurants;Steakhouses', 'Restaurants;Fast Food;Chinese;Dim Sum', 'Restaurants;Bubble Tea;Cafes;Sandwiches;Desserts;Shaved Ice;Juice Bars & Smoothies;Coffee & Tea;Food', 'Barbeque;Restaurants', 'Restaurants;Nightlife;Indian;Bars', 'American (Traditional);Bars;Nightlife;Restaurants;Pubs', 'Caribbean;Restaurants;Puerto Rican', 'Seafood;Nightlife;Restaurants;Sports Bars;Bars', 'Chicken Wings;Comfort Food;Barbeque;Asian Fusion;Chicken Shop;American (New);Southern;Restaurants;Hawaiian', 'Food;American (New);Fast Food;Chicken Wings;Restaurants;Cajun/Creole', 'Pan Asian;Chinese;Restaurants', 'Chinese;Restaurants;Vegetarian;Thai', 'Food;American (Traditional);Restaurants;Bakeries', 'Mexican;Food;Burgers;Vegetarian;Vegan;Beer;Wine & Spirits;Restaurants', 'Bakeries;Food;Restaurants;Breakfast & Brunch', 'Restaurants;Nightlife;Bars;Steakhouses;American (Traditional);Burgers;American (New);Chicken Wings;Sports Bars', 'Diners;Restaurants;American (Traditional);Breakfast & Brunch', 'Irish Pub;Irish;Nightlife;Restaurants;Bars;Pubs', 'Bars;Restaurants;Nightlife;Mexican;Seafood', 'American (New);Breakfast & Brunch;Restaurants;Cafes', 'Mexican;Japanese;Restaurants;Asian Fusion;Sushi Bars;Seafood', 'Food;Seafood;Desserts;Steakhouses;Restaurants', 'Fast Food;Hot Dogs;Restaurants;Sandwiches;American (New)', 'Restaurants;African;Cafes;American (New);Sandwiches;French;Bars;Nightlife;Breakfast & Brunch', 'American (New);Nightlife;Restaurants;Dance Clubs;Chinese;Lounges;Bars;Cantonese;American (Traditional);Dim Sum', 'Restaurants;Breakfast & Brunch;American (Traditional);Cafes', 'Gluten-Free;Fast Food;Vegetarian;Restaurants;Sandwiches;Vegan', 'Chicken Wings;Restaurants;Burgers;Pizza;American (Traditional)', 'French;Vegan;Bakeries;Salad;Fast Food;American (New);Event Planning & Services;Soup;Personal Chefs;Food Delivery Services;Gluten-Free;Caterers;Food;Sandwiches;Vegetarian;Breakfast & Brunch;Restaurants;Mediterranean', 'Bars;American (Traditional);Burgers;American (New);Restaurants;Nightlife', 'Nightlife;Sports Bars;Salad;Chicken Wings;Sandwiches;Fast Food;Restaurants;Burgers;American (Traditional);Bars;Steakhouses', 'Nightlife;Restaurants;Sandwiches;American (New);Cocktail Bars;Bars', 'Asian Fusion;Sushi Bars;Restaurants;Japanese', 'Burgers;Restaurants;Breakfast & Brunch;American (Traditional)', 'Tacos;Restaurants;Mexican', 'Korean;Barbeque;Restaurants', 'Filipino;Restaurants;Venues & Event Spaces;Bars;Party & Event Planning;Nightlife;Event Planning & Services;Dance Clubs;Karaoke', 'Fast Food;Food;Restaurants;Seafood;Filipino', 'Burgers;Restaurants', 'Bars;Food;Restaurants;Casinos;American (Traditional);Beer;Wine & Spirits;Arts & Entertainment;Pubs;Nightlife', 'Restaurants;Peruvian', 'Restaurants;Beer;Wine & Spirits;Cocktail Bars;Bars;Nightlife;Food;Asian Fusion', 'Food;Juice Bars & Smoothies;Cafes;Restaurants;Breakfast & Brunch', 'Fast Food;Restaurants;Food;Barbeque', 'Restaurants;Pakistani;Buffets;Gluten-Free;Indian;Vegan', 'Asian Fusion;Food;Japanese;Hot Pot;Chinese;Do-It-Yourself Food;Restaurants', 'Restaurants;Juice Bars & Smoothies;Poke;Acai Bowls;Food', 'Tapas Bars;Ramen;Beer;Wine & Spirits;Sushi Bars;Nightlife;Food;Japanese;Bars;Restaurants', 'Burgers;Salad;Restaurants;Delis', 'American (New);Wine Bars;Salad;Nightlife;Restaurants;Beer Bar;Bars', 'Fast Food;Restaurants;Barbeque;Hawaiian', 'Chinese;Cantonese;Seafood;Restaurants', 'Pizza;Restaurants;American (New)', 'Food Delivery Services;Food;Pizza;Chicken Wings;Restaurants;Italian', 'Restaurants;Sushi Bars;Poke;Asian Fusion;Food;Fast Food;Mexican;American (New)', 'Caterers;Burgers;Event Planning & Services;Food Trucks;Food Stands;Food;Restaurants;Sandwiches', 'Food Delivery Services;Restaurants;Food;Italian;Pizza;Salad;Soup', 'Chinese;Soup;Food Delivery Services;Food;Restaurants', 'Restaurants;Gluten-Free;Pizza;Salad', 'Burgers;Restaurants;Hot Dogs;Food;Desserts', 'Restaurants;Japanese;Barbeque', 'Juice Bars & Smoothies;Restaurants;Sandwiches;Comfort Food;Specialty Food;Health Markets;Vegetarian;Food', 'Italian;Restaurants;Food;Bars;Nightlife;Wine Bars', 'Seafood;Chinese;Restaurants', 'Asian Fusion;Japanese;Restaurants;Sushi Bars', 'Noodles;Chinese;Barbeque;Restaurants', 'Specialty Food;Food;Comfort Food;Asian Fusion;Restaurants', 'Event Planning & Services;Barbeque;Caterers;American (New);Soul Food;American (Traditional);Southern;Restaurants', 'Salad;Sandwiches;Breakfast & Brunch;Restaurants', 'Steakhouses;Restaurants;Vegetarian;Asian Fusion;Bars;American (Traditional);Cocktail Bars;Nightlife;Beer Bar;Wine Bars;Seafood;American (New)', 'Restaurants;Indian;Vegan;Halal', 'Sushi Bars;Breakfast & Brunch;Asian Fusion;Restaurants;Japanese', 'Food Court;Sandwiches;Caterers;Restaurants;Food;Coffee & Tea;Event Planning & Services', 'Vietnamese;Chinese;Restaurants', 'Restaurants;Mexican;Breakfast & Brunch;Tacos', 'Burgers;Restaurants;American (Traditional);Steakhouses;Seafood', 'Filipino;Restaurants;Barbeque;Asian Fusion;Soup', 'Mexican;Asian Fusion;Chinese;Restaurants', 'Delis;Pizza;Restaurants;Sandwiches', 'Cajun/Creole;Restaurants', 'Chicken Wings;Pizza;Fast Food;Restaurants;Food', 'Coffee & Tea;Restaurants;Food;Sandwiches;Vietnamese', 'Restaurants;Salad;Sandwiches;Vegetarian', 'Restaurants;Asian Fusion;Gluten-Free;Chinese', 'Seafood;Sushi Bars;Restaurants;Japanese', 'Coffee & Tea;Bubble Tea;Food;Taiwanese;Restaurants', 'Latin American;Salvadoran;Restaurants;Mexican', 'Restaurants;Creperies', 'Restaurants;Bars;Nightlife;Italian;Delis', 'Barbeque;Steakhouses;Korean;Restaurants', 'Restaurants;Food Stands;Food;Ice Cream & Frozen Yogurt', 'Health Markets;Grocery;Nutritionists;Restaurants;Food;Vegan;Vitamins & Supplements;Shopping;Health & Medical;Weight Loss Centers;Specialty Food', 'Cafeteria;Restaurants', 'Sports Bars;Eatertainment;Arts & Entertainment;Bars;Arcades;Nightlife;American (Traditional);Restaurants', 'Nightlife;Restaurants;American (Traditional);Bars;Steakhouses', 'Seafood;Restaurants;Steakhouses;Salad', 'Chinese;Dim Sum;Korean;Restaurants;Asian Fusion', 'Argentine;Restaurants;Steakhouses', 'Italian;Delis;Restaurants', 'Playgrounds;Event Planning & Services;Kids Activities;Bakeries;Active Life;Restaurants;Venues & Event Spaces;Food', 'Comfort Food;Breakfast & Brunch;Cafes;Restaurants;Food', 'Diners;Restaurants;Chinese;Food;Desserts;Shaved Ice', 'Pizza;Chicken Wings;Italian;Restaurants', 'Restaurants;Salad;Halal;Fast Food;Chicken Wings', 'Restaurants;Barbeque;Chinese;Vegetarian', 'Barbeque;Restaurants;Korean', 'Noodles;Restaurants;Japanese;Ramen', 'Italian;Vegan;Japanese;Restaurants', 'Tapas Bars;Restaurants', 'Asian Fusion;Restaurants;Barbeque;Korean;Tapas/Small Plates;Japanese', 'Restaurants;Shanghainese;Chinese', 'Steakhouses;Restaurants;Food;Beer;Wine & Spirits;Japanese', 'Bars;American (New);Sports Bars;Pubs;Restaurants;Nightlife', 'Resorts;Delis;Restaurants;Casinos;Cafes;Japanese;Arts & Entertainment;Hotels & Travel', 'Burgers;American (New);Restaurants;Salad;Mediterranean', 'Cafes;American (New);Restaurants', 'American (Traditional);Pizza;Restaurants;American (New)', 'Barbeque;Korean;Steakhouses;Restaurants', 'Restaurants;Vietnamese;American (New);Sandwiches', 'Bars;Nightlife;Japanese;Restaurants;Sushi Bars', 'American (Traditional);Steakhouses;Restaurants', 'Filipino;Fast Food;Restaurants;Buffets', \"Coffee & Tea;Men's Clothing;Cafes;Fashion;Restaurants;Shopping;Food\", 'American (Traditional);Restaurants;Tex-Mex;Fast Food;Nightlife;Bars', 'American (New);Tapas/Small Plates;Spanish;Restaurants', 'Nightlife;Breakfast & Brunch;Restaurants;Salad;Lounges;Bars', 'Coffee & Tea;Juice Bars & Smoothies;American (Traditional);Desserts;Restaurants;Caribbean;Cafes;Vegan;Sandwiches;Food', 'Food;Restaurants;Specialty Food;Japanese;Ethnic Food;Hawaiian', 'Sandwiches;Juice Bars & Smoothies;Pizza;Burgers;Food;Restaurants;American (New)', 'Food;Vegan;Restaurants;Donuts', 'Hawaiian;Restaurants;American (New);Breakfast & Brunch;Cafes', 'Japanese;Restaurants;Shopping;Gift Shops;Beauty & Spas;Hair Salons;Soba;Flowers & Gifts;Massage;Swimming Pools;Active Life;Day Spas', 'American (New);Arts & Entertainment;Restaurants;Shopping Centers;Shopping;Cinema', 'Mexican;Restaurants;Breakfast & Brunch', 'Desserts;Restaurants;Food;Cafes;Beer;Wine & Spirits;Coffee & Tea', 'Restaurants;Nightlife;Pubs;Sports Bars;Bars;Food;Burgers;Chicken Wings;Grocery', 'Poke;Food;Hawaiian;Restaurants', 'Vegetarian;Laotian;Thai;Restaurants', 'Bakeries;Restaurants;French;Food;Cafes;Themed Cafes', 'Restaurants;Food;Asian Fusion;Japanese;Sushi Bars', 'Bars;Restaurants;Lounges;Nightlife;Pool Halls;American (Traditional)', 'Sandwiches;Restaurants;Food;Delis', 'Salad;Breakfast & Brunch;Sandwiches;Burgers;Restaurants;Mexican;American (Traditional)', 'Asian Fusion;Restaurants;Japanese;Sushi Bars']\n",
      "1718\n"
     ]
    }
   ],
   "source": [
    "# Print the number of samples\n",
    "# ANSWER STARTING HERE\n",
    "print(yelp_data.shape[0])\n",
    "\n",
    "# ANSWER ENDS HERE\n",
    "\n",
    "# Print the number of features\n",
    "# ANSWER STARTING HERE\n",
    "print(yelp_data.shape[1])\n",
    "\n",
    "# ANSWER ENDS HERE\n",
    "\n",
    "# Write code to get your two lists.\n",
    "# ANSWER STARTING HERE\n",
    "names = yelp_data['name'].unique().tolist()\n",
    "\n",
    "categories= yelp_data['categories'].unique().tolist()\n",
    "\n",
    "# ANSWER ENDS HERE\n",
    "\n",
    "print(\"Business:\", names)\n",
    "print(len(names))\n",
    "print(\"Categories:\", categories)\n",
    "print(len(categories))\n"
   ]
  },
  {
   "cell_type": "markdown",
   "metadata": {
    "id": "uWIXqii1puOD"
   },
   "source": [
    "### **Part B (9 Pts Total)**\n",
    "\n",
    "#### Now we need to do some scraping of the dataset so you can feed it into the training model."
   ]
  },
  {
   "cell_type": "markdown",
   "metadata": {
    "id": "68_nWfiTADX4"
   },
   "source": [
    "##### ***2.1 Preprocessing (3 pts)***\n",
    "\n",
    "---\n",
    "Before training the model, we need to clean and prepare the data. Please do the following.\n",
    "1. Print the number of missing data in each column. Please specify which column name you got the number from. You can create a dictionary `missing_data`.\n",
    "2. Handle the missing values in the `yelp_data` dataset the best way you can think of. Save the processed file as `yelp_data`.\n",
    "\n",
    "*Suggestions:* Fill in empty with 0s, or do some type of imputation technique such as fill in the empty data with the most common or average of data in that column, etc."
   ]
  },
  {
   "cell_type": "code",
   "execution_count": 27,
   "metadata": {
    "id": "Ej6CKz3BAfnd"
   },
   "outputs": [
    {
     "name": "stdout",
     "output_type": "stream",
     "text": [
      "{'business_id': 0, 'name': 0, 'neighborhood': 0, 'address': 0, 'city': 0, 'state': 0, 'postal_code': 0, 'latitude': 0, 'longitude': 0, 'business_stars': 0, 'review_count': 0, 'categories': 0, 'checkins': 0, 'review_id': 0, 'user_id': 0, 'reviewer_stars': 4629, 'text': 0, 'useful': 4670, 'funny': 4504, 'cool': 0}\n"
     ]
    }
   ],
   "source": [
    "# Print the number of missing data in each column.\n",
    "# ANSWER STARTING HERE\n",
    "missing_data = {}\n",
    "for cat in yelp_data.columns:\n",
    "    missing_data[cat] = yelp_data[cat].isna().sum()\n",
    "print(missing_data)\n",
    "\n",
    "# ANSWER ENDS HERE\n",
    "\n",
    "\n",
    "# Write a code that handles missing values in the dataset by discarding them\n",
    "# ANSWER STARTING HERE\n",
    "\n",
    "fixed_revstars = yelp_data['reviewer_stars'].fillna(yelp_data['reviewer_stars'].mean())\n",
    "yelp_data['reviewer_stars'] = fixed_revstars\n",
    "\n",
    "fixed_useful = yelp_data['useful'].fillna(yelp_data['useful'].mean())\n",
    "yelp_data['useful'] = fixed_useful\n",
    "\n",
    "fixed_funny = yelp_data['funny'].fillna(yelp_data['funny'].mean())\n",
    "yelp_data['funny'] = fixed_funny\n",
    "\n",
    "# ANSWER ENDS HERE"
   ]
  },
  {
   "cell_type": "markdown",
   "metadata": {
    "id": "PZzbXaceD2rV"
   },
   "source": [
    "##### ***2.2 Splitting, Training, and Testing (6 pts)***\n",
    "\n",
    "---\n",
    "\n",
    "Typically in machine learning, we wish to split the data into various portions in order to let a machine learning model train itself on one part of the data and test itself on another part of the data. Splitting also helps prevent overfitting, ensuring the model can make accurate predictions on new, unseen data.\n",
    "\n",
    "Training data is used to learn the model, while testing data assesses its generalization to unseen examples. I would recommend using **80%** of the data  for training and **20%** for testing.\n",
    "\n",
    "Before we split the data, we are going to help you process the raw data a little bit more:\n",
    " 1. We prefer restaurants close to Canyon Gate in Las Vegas, near our AirBnb.\n",
    " 2. We add a `preference_rating` column at the end of the dataframe, so that we can predict the rating classification.\n",
    " 3. We add non-linearity to `preference_rating`"
   ]
  },
  {
   "cell_type": "code",
   "execution_count": 28,
   "metadata": {
    "id": "PML17T7CCcHC"
   },
   "outputs": [
    {
     "name": "stdout",
     "output_type": "stream",
     "text": [
      "                                   name  preference_rating\n",
      "190916            Yojié Japanese Fondue                 10\n",
      "172314              La Maison de Maggie                 10\n",
      "73346   Paradise Place Jamaican Cuisine                 10\n",
      "62156       Macayo's Mexican Restaurant                 10\n",
      "73686                 Porchlight Grille                 10\n",
      "...                                 ...                ...\n",
      "201088                      Crispy Town                  3\n",
      "211585           A Cut Above Restaurant                  3\n",
      "51148                         Home Turf                  3\n",
      "70895                  Arandas Taqueria                  2\n",
      "7403     La Tapenade Mediterranean Cafe                  2\n",
      "\n",
      "[1808 rows x 2 columns]\n"
     ]
    }
   ],
   "source": [
    "# Helper Function, Do Not Remove\n",
    "import numpy as np\n",
    "import pandas as pd\n",
    "import hashlib\n",
    "from sklearn.preprocessing import MinMaxScaler\n",
    "\n",
    "def business_id_to_float(business_id):\n",
    "    hash_object = hashlib.md5(business_id.encode())\n",
    "    hash_hex = hash_object.hexdigest()\n",
    "    hash_int = int(hash_hex[:8], 16)\n",
    "    return hash_int / (2**32 - 1)\n",
    "\n",
    "def float_to_business_id(unique_float, original_business_ids):\n",
    "    id_to_float = {id: business_id_to_float(id) for id in original_business_ids}\n",
    "    closest_id = min(id_to_float.keys(), key=lambda x: abs(id_to_float[x] - unique_float))\n",
    "    return closest_id\n",
    "\n",
    "# Non-linear transformation functions\n",
    "def apply_non_linear_transformation(x, steepness=5):\n",
    "    \"\"\"\n",
    "    Apply a sigmoid-like non-linear transformation\n",
    "    - Increases sensitivity around mid-range values\n",
    "    - Compresses extreme values\n",
    "    \"\"\"\n",
    "    return 1 / (1 + np.exp(-steepness * (x - 0.5))) * 10\n",
    "\n",
    "def exponential_boost(x, base=2):\n",
    "    \"\"\"\n",
    "    Apply exponential boosting to favor higher values\n",
    "    \"\"\"\n",
    "    return np.power(x, base)\n",
    "\n",
    "def angular_score_adjustment(x):\n",
    "    \"\"\"\n",
    "    Use trigonometric function to add non-linear variation\n",
    "    \"\"\"\n",
    "    return np.sin(np.pi * x / 2) * 10\n",
    "\n",
    "# Define weights\n",
    "weights = {\n",
    "    'location_score': 0.25,\n",
    "    'business_stars': 0.25,\n",
    "    'reviewer_stars': 0.25,\n",
    "    'engagement_score': 0.25\n",
    "}\n",
    "\n",
    "# Define the target location as Canyon Gate, Las Vegas\n",
    "target_location = (36.1433, -115.2821)\n",
    "\n",
    "# Haversine distance calculation\n",
    "def haversine(lat1, lon1, lat2, lon2):\n",
    "    R = 6371  # Earth radius in kilometers\n",
    "    phi1, phi2 = np.radians(lat1), np.radians(lat2)\n",
    "    dphi = np.radians(lat2 - lat1)\n",
    "    dlambda = np.radians(lon2 - lon1)\n",
    "    a = np.sin(dphi / 2)**2 + np.cos(phi1) * np.cos(phi2) * np.sin(dlambda / 2)**2\n",
    "    return 2 * R * np.arctan2(np.sqrt(a), np.sqrt(1 - a))\n",
    "\n",
    "# Main processing function\n",
    "def generate_preference_rating(yelp_data):\n",
    "    # Calculate distance from target location\n",
    "    yelp_data['distance_km'] = yelp_data.apply(\n",
    "        lambda row: haversine(target_location[0], target_location[1],\n",
    "                               row['latitude'], row['longitude']), axis=1\n",
    "    )\n",
    "\n",
    "    # Normalize distance to [0, 1] and invert (closer is better)\n",
    "    scaler = MinMaxScaler()\n",
    "    yelp_data['location_score'] = 1 - scaler.fit_transform(yelp_data[['distance_km']])\n",
    "\n",
    "    # Normalize business_stars and reviewer_stars to [0, 1]\n",
    "    yelp_data['business_stars_norm'] = yelp_data['business_stars'] / 5\n",
    "    yelp_data['reviewer_stars_norm'] = yelp_data['reviewer_stars'] / 5\n",
    "\n",
    "    # Calculate engagement_score and normalize\n",
    "    yelp_data['engagement_score_raw'] = yelp_data['useful'] + yelp_data['funny'] + yelp_data['cool']\n",
    "    yelp_data['engagement_score'] = scaler.fit_transform(yelp_data[['engagement_score_raw']])\n",
    "\n",
    "    # Calculate preference_rating with non-linear transformations\n",
    "    yelp_data['preference_rating'] = (\n",
    "        weights['location_score'] * apply_non_linear_transformation(yelp_data['location_score']) +\n",
    "        weights['business_stars'] * exponential_boost(yelp_data['business_stars_norm']) +\n",
    "        weights['reviewer_stars'] * angular_score_adjustment(yelp_data['reviewer_stars_norm']) +\n",
    "        weights['engagement_score'] * np.log1p(yelp_data['engagement_score'])\n",
    "    )\n",
    "\n",
    "    # Normalize the preference_rating to 1-10 scale\n",
    "    rating_scaler = MinMaxScaler(feature_range=(1, 10))\n",
    "    yelp_data['preference_rating'] = rating_scaler.fit_transform(\n",
    "        yelp_data[['preference_rating']]\n",
    "    ).round().astype(int)\n",
    "\n",
    "    # Convert business_id to float\n",
    "    yelp_data['business_id'] = yelp_data['business_id'].apply(business_id_to_float)\n",
    "\n",
    "    return yelp_data\n",
    "\n",
    "# Data preparation and display\n",
    "def prepare_final_ranking(yelp_data):\n",
    "    # Remove duplicates, keeping highest-rated business for each name\n",
    "    unique_data = yelp_data.sort_values(by='preference_rating', ascending=False).drop_duplicates(subset='name', keep='first')\n",
    "\n",
    "    # Create ranked dataframe\n",
    "    ranked_yelp = unique_data[['name', 'preference_rating']].sort_values(by='preference_rating', ascending=False)\n",
    "\n",
    "    return ranked_yelp\n",
    "\n",
    "# Process the data\n",
    "yelp_data = generate_preference_rating(yelp_data)\n",
    "\n",
    "# Prepare and display ranking\n",
    "ranked_results = prepare_final_ranking(yelp_data)\n",
    "print(ranked_results)\n"
   ]
  },
  {
   "cell_type": "markdown",
   "metadata": {
    "id": "52bh8b_gc5q4"
   },
   "source": [
    "Using every feature as input to the training process is not a good idea. Some features are not related to business rating, so let's exclude them from our feature set.\n",
    "1. Extract the following for the input data `X`: `business_stars`,`review_count`,`checkins`,`reviewer_stars`,`useful`,`funny`, and `cool`.\n",
    "2. Store the label variable in `Y`.\n",
    "\n",
    "Let the criteria for a good resturant be a rating greater than **eight**."
   ]
  },
  {
   "cell_type": "code",
   "execution_count": 29,
   "metadata": {
    "id": "Ibt9CZxSJcCn"
   },
   "outputs": [],
   "source": [
    "# Initialize X and Y\n",
    "# ANSWER STARTING HERE\n",
    "\n",
    "X = yelp_data[['business_stars', 'reviewer_stars', 'useful', 'funny', 'cool', 'review_count', 'checkins']]\n",
    "Y = (yelp_data['preference_rating'] > 8).astype(int)\n",
    "\n",
    "# ANSWER ENDS HERE"
   ]
  },
  {
   "cell_type": "markdown",
   "metadata": {
    "id": "vgOJ0FuQc8jU"
   },
   "source": [
    "3. Use [`train_test_split`](https://scikit-learn.org/stable/modules/generated/sklearn.model_selection.train_test_split.html) from the Scikit-learn module to split the training data using the proposed 80/20 ratio."
   ]
  },
  {
   "cell_type": "code",
   "execution_count": 30,
   "metadata": {
    "id": "q1mu13ERc-Ij"
   },
   "outputs": [],
   "source": [
    "seed = 42 # always use this seed number as your random_state in the whole notebook\n",
    "test_size=0.2\n",
    "\n",
    "# Split your training data and use the seed to get consistent results.\n",
    "# ANSWER STARTING HERE\n",
    "\n",
    "X_train, X_test, y_train, y_test = train_test_split(X, Y, test_size=test_size, random_state=seed)\n",
    "\n",
    "# ANSWER ENDS HERE"
   ]
  },
  {
   "cell_type": "markdown",
   "metadata": {
    "id": "Rv_uQqT0c-o1"
   },
   "source": [
    "4. **Normalize** both the training and test sets so that the model is trained on features with a consistent scale. **You can use any scaler from the Scikit-learn module to do this.** If we don't normalize the data, the model may struggle to converge during training because some features could dominate the loss function due to their larger scale. By normalizing the data, we ensure that each feature contributes equally to the learning process, improving the model's ability to find an optimal solution. (eg. [StandardScaler documentation](https://scikit-learn.org/stable/modules/generated/sklearn.preprocessing.StandardScaler.html))"
   ]
  },
  {
   "cell_type": "code",
   "execution_count": 31,
   "metadata": {
    "id": "Eta7ynDgc_aC"
   },
   "outputs": [],
   "source": [
    "# ANSWER STARTING HERE\n",
    "\n",
    "scaler = StandardScaler()\n",
    "scaler.fit(X_train)\n",
    "X_train_scaled = scaler.transform(X_train)\n",
    "X_test_scaled = scaler.transform(X_test)\n",
    "\n",
    "# ANSWER ENDS HERE\n"
   ]
  },
  {
   "cell_type": "markdown",
   "metadata": {
    "id": "oq1F3ALek_Bc"
   },
   "source": [
    "### **Part C (15 Pts Total)**\n",
    "\n",
    "#### This is going to be the main source of evaluation for the return offer. Be thorough with your model search. You will train a **Logistic Regression (max_iter=1000)** Model, and 3 different classifiers: **KNN**, **DecisionTree**, and **Random Forest**."
   ]
  },
  {
   "cell_type": "markdown",
   "metadata": {
    "id": "EG46OGS_qRRs"
   },
   "source": [
    "##### ***3.1 Load Models (4 pts)***\n",
    "\n",
    "---\n",
    "\n",
    "1. Create a python dictionary named `models` that maps the names of the models to their constructors."
   ]
  },
  {
   "cell_type": "code",
   "execution_count": 32,
   "metadata": {
    "id": "0UszMa88qp2d"
   },
   "outputs": [],
   "source": [
    "# Initialize the models\n",
    "# ANSWER STARTING HERE\n",
    "models = {\n",
    "    'LogReg': LogisticRegression(max_iter=1000),\n",
    "    'KNN': KNeighborsClassifier(),\n",
    "    'DecTree': DecisionTreeClassifier(),\n",
    "    'RandForest': RandomForestClassifier()\n",
    "         }\n",
    "\n",
    "# ANSWER ENDS HERE\n",
    "\n"
   ]
  },
  {
   "cell_type": "markdown",
   "metadata": {
    "id": "xNWCxAfHrZQE"
   },
   "source": [
    "##### ***3.2 K-fold Cross-Validation (8 pts)***\n",
    "Using the standardized feature sets, do the following:\n",
    "1. Given five folds and the object with the specified number of splits, perform **k-folds cross-validation** for **each** model using StratifiedKFold.\n",
    "2. Print the **name** of the model and **cross validation accuracy** (mean and standard deviation) for each.\n",
    "\n",
    "[Cross Validation Documentation](https://scikit-learn.org/stable/modules/generated/sklearn.model_selection.cross_val_score.html)"
   ]
  },
  {
   "cell_type": "code",
   "execution_count": 36,
   "metadata": {
    "id": "v8jY2m3erviB"
   },
   "outputs": [
    {
     "name": "stdout",
     "output_type": "stream",
     "text": [
      "LogReg: mean=0.8692975255072124 std=0.0003907196258697584\n",
      "KNN: mean=0.9224522106250733 std=0.0007723665927242353\n",
      "DecTree: mean=0.9885598686525154 std=0.0002304079125646697\n",
      "RandForest: mean=0.9702650404597162 std=0.0007939668223566727\n"
     ]
    }
   ],
   "source": [
    "# Perform k-fold Cross-Validation for each model\n",
    "k_folds = 5\n",
    "skf = StratifiedKFold(n_splits=k_folds, shuffle=True, random_state=seed)\n",
    "\n",
    "for model_name, model in models.items():\n",
    "    np.random.seed(42)\n",
    "    # ANSWER STARTING HERE\n",
    "\n",
    "    scores = cross_val_score(model, X_train_scaled, y_train, cv=skf, scoring='accuracy')\n",
    "    print(f'{model_name}: mean={scores.mean()} std={scores.std()}')\n",
    "\n",
    "    # ANSWER ENDS HERE\n"
   ]
  },
  {
   "cell_type": "markdown",
   "metadata": {
    "id": "ZeDhkaYLr6gx"
   },
   "source": [
    "##### ***3.3 Question: What is the most accurate ML model from above choice? Why? (3 pts)***\n",
    "ANSWER STARTING HERE\n",
    "\n",
    "The most accurate model we used was the Decision Tree model. This is because it's mean accuracy among the 5 folds was the highest at .989. The standard deviation is also the smallest of the group, at .0002. A low standard deviation is good because it means the model predicts very consistently with different folds."
   ]
  },
  {
   "cell_type": "markdown",
   "metadata": {
    "id": "TPJC8UWas1gV"
   },
   "source": [
    "### **Part D (12 Pts Total)**\n",
    "#### We wants you to deploy of all the models to production. Evaluate all of the models on the heldout test set."
   ]
  },
  {
   "cell_type": "markdown",
   "metadata": {
    "id": "-ahUKgJztnjK"
   },
   "source": [
    "##### ***4.1 Model Evaluation (6 pts)***\n",
    "\n",
    "---\n",
    "\n",
    "\n",
    "For each of the models do the following in order to evaluate each of them properly:\n",
    "- **Train** each of the models\n",
    "- Print each of the **accuracies** (3 decimal precision) of the models by their **names** in this format: *Accuracy of (model name): (accuracy of the model)*.\n",
    "- Print a **classification report** with the accuracy, precision, recall and f1-score of each model."
   ]
  },
  {
   "cell_type": "code",
   "execution_count": 37,
   "metadata": {
    "id": "MgjiE2rwt3TR"
   },
   "outputs": [
    {
     "name": "stdout",
     "output_type": "stream",
     "text": [
      "Accuracy of LogReg: 0.871\n",
      "              precision    recall  f1-score   support\n",
      "\n",
      "           0       0.88      0.99      0.93     37132\n",
      "           1       0.51      0.08      0.13      5503\n",
      "\n",
      "    accuracy                           0.87     42635\n",
      "   macro avg       0.70      0.53      0.53     42635\n",
      "weighted avg       0.83      0.87      0.83     42635\n",
      "\n",
      "Accuracy of KNN: 0.935\n",
      "              precision    recall  f1-score   support\n",
      "\n",
      "           0       0.96      0.97      0.96     37132\n",
      "           1       0.77      0.70      0.73      5503\n",
      "\n",
      "    accuracy                           0.93     42635\n",
      "   macro avg       0.86      0.84      0.85     42635\n",
      "weighted avg       0.93      0.93      0.93     42635\n",
      "\n",
      "Accuracy of DecTree: 0.990\n",
      "              precision    recall  f1-score   support\n",
      "\n",
      "           0       0.99      1.00      0.99     37132\n",
      "           1       0.97      0.96      0.96      5503\n",
      "\n",
      "    accuracy                           0.99     42635\n",
      "   macro avg       0.98      0.98      0.98     42635\n",
      "weighted avg       0.99      0.99      0.99     42635\n",
      "\n",
      "Accuracy of RandForest: 0.978\n",
      "              precision    recall  f1-score   support\n",
      "\n",
      "           0       0.98      0.99      0.99     37132\n",
      "           1       0.93      0.90      0.91      5503\n",
      "\n",
      "    accuracy                           0.98     42635\n",
      "   macro avg       0.96      0.94      0.95     42635\n",
      "weighted avg       0.98      0.98      0.98     42635\n",
      "\n"
     ]
    }
   ],
   "source": [
    "# Train each model using the training data\n",
    "for model_name, model in models.items():\n",
    "    # Set random seed for reproducibility\n",
    "    np.random.seed(42)\n",
    "    #ANSWER STARTING HERE\n",
    "    model.fit(X_train_scaled, y_train)\n",
    "\n",
    "    # ANSWER ENDS HERE\n",
    "\n",
    "# Evaluate the performance of each model\n",
    "for model_name, model in models.items():\n",
    "    np.random.seed(42)\n",
    "\n",
    "    #ANSWER STARTING HERE\n",
    "    y_pred = model.predict(X_test_scaled)\n",
    "    accuracy = accuracy_score(y_test, y_pred)\n",
    "\n",
    "    print(f\"Accuracy of {model_name}: {accuracy:.3f}\") # Your accuracy table header here\n",
    "    print(classification_report(y_test, y_pred)) # Implement your classification report here\n",
    "    # ANSWER ENDS HERE\n"
   ]
  },
  {
   "cell_type": "markdown",
   "metadata": {
    "id": "s6D6myn6uHqs"
   },
   "source": [
    "##### ***4.2 Model Interpretation (6 pts)***\n",
    "\n",
    "---\n",
    "\n",
    "- **Interpret** the results of the classification models (list the models which got the best scores for Accuracy, Precision, Recall and F1 score).\n",
    "- **Recommend the best model according to your analysis.** Hopefully your best model has over a 90% accuracy as this will guarantee your return offer.\n",
    "\n",
    "**Question: Which model according to your analysis was the best at predicting the Resturant Preference Rating? Why? DO NOT just say that the accuracy is better than the rest of the models. That is obvious.**\n",
    "\n",
    "ANSWER STARTING HERE\n",
    "After trials with all four of our models, Decision Tree shines through with an accuracy of .990! It had higher scores for precision, recall, and f1 than any other model. Random Forest was a close second with an average accuracy of .978. The other models, Linear Regression and K-Neighbor, had lower accuracies with .871 and .935 respectively. These are still pretty good, but dont come close to the Decision Tree model.\n",
    "\n",
    "The difference in accuracies is of course due to the differences in how these models factor in features and make their predictions. Decision trees are very good at modeling non-linear relationships between features and also do well when the data has a clear numerical decision threshold, which is exactly what our binary output is defined by. Linear Regression did really bad because it assumes linearity, when our data's relationships are not fully linear. KNN isnt as good as decision trees are at learning patterns and tends to be more affected by less relevant features, which could explain the slight lack in accuracy. A Random Forest is typically more robust and better for more complicated predictions than a single decision tree, but in this case the data is relatively simple, so a decision tree is already enough to get it really accurate. Taking the average of a bunch of trees, which is what the Forest does, results in a slightly more conservative decision per prediciton."
   ]
  },
  {
   "cell_type": "markdown",
   "metadata": {
    "id": "ewX3PJ0owW1q"
   },
   "source": [
    "### **Part E (5 Pts Total)**\n",
    "\n",
    "#### Seeing all the effort and hard work, it looks as if most people have done well with this project🎉! With all the input features you have used, there is still no concrete way of figuring out whether a feature is more important than another. We only really used intuition for that. Thus, we shall do some feature engineering to determine this."
   ]
  },
  {
   "cell_type": "markdown",
   "metadata": {
    "id": "EeE_vl7CxkQ7"
   },
   "source": [
    "##### ***5.1 What are your top 4 features used to predict Our resturant preference rating (5 pts)?***\n",
    "- Use Random Forest to create a dataframe for **feature importance** named **feature_importance_df**.\n",
    "- **Extract**, **Sort**, and **Print** the **top 4** features from that dataframe.\n",
    "\n",
    "Here are some references to help you:\n",
    "\n",
    "[Feature Importance 1](https://scikit-learn.org/stable/modules/generated/sklearn.tree.DecisionTreeClassifier.html#sklearn.tree.DecisionTreeClassifier.feature_importances_)\n",
    "\n",
    "[Feature Importance 2](https://scikit-learn.org/stable/modules/generated/sklearn.ensemble.RandomForestClassifier.html#sklearn.ensemble.RandomForestClassifier.feature_importances_)\n",
    "\n"
   ]
  },
  {
   "cell_type": "code",
   "execution_count": null,
   "metadata": {
    "id": "M1qoZYbGuNSW"
   },
   "outputs": [],
   "source": [
    "# Extract the feature importances from the most accurate model\n",
    "# ANSWER STARTING HERE\n",
    "importances =\n",
    "\n",
    "# Creating a DataFrame to display feature importances\n",
    "feature_importance_df =\n",
    "\n",
    "# Displaying feature importances\n",
    "\n",
    "\n",
    "# ANSWER ENDS HERE\n"
   ]
  },
  {
   "cell_type": "markdown",
   "metadata": {
    "id": "DijDdJMkJNiR"
   },
   "source": [
    "### Part F (14 Points Total)\n",
    "\n",
    "#Now you'll learn about clustering techniques!\n",
    "\n",
    "You'll perform data preprocessing, apply dimensionality reduction technique, and use K-means clustering to analyze the data. Finally, you'll visualize the results.\n",
    "\n"
   ]
  },
  {
   "cell_type": "markdown",
   "metadata": {
    "id": "2QS9MeP_swG0"
   },
   "source": [
    "##### ***6.1.1 Elbow Method (2.5 pts)***"
   ]
  },
  {
   "cell_type": "markdown",
   "metadata": {
    "id": "FaKGz-8wwsCr"
   },
   "source": [
    "In K-Means clustering, we start by randomly initializing k clusters and iteratively adjusting these clusters until they stabilize at an equilibrium point. However, before we can do this, we need to decide how many clusters (k) we should use.\n",
    "\n",
    "In this part, you will determine the optimal number of clusters for a given dataset using the **Elbow Method**. The goal is to identify the point where adding more clusters results in minimal improvement in clustering quality, known as the \"elbow point.\"\n",
    "\n",
    "The *distortion* for a given number of clusters $k$ can be represented as:\n",
    "\n",
    "\n",
    "\n",
    "$$D(k) = \\frac{1}{N} \\sum_{i=1}^{k} \\sum_{x \\in C_i} \\|x - \\mu_i\\|^2$$\n",
    "\n",
    "Where:\n",
    "- $D(k)$ is the distortion for $k$ clusters\n",
    "- $k$ is the number of clusters\n",
    "- $C_i$ represents the $i$-th cluster\n",
    "- $x$ is each data point in the cluster\n",
    "- $\\mu_i$ is the centroid (mean) of the $i$-th cluster\n",
    "- $\\|\\cdot\\|$ denotes the Euclidean distance\n",
    "\n",
    "\n",
    "In the Elbow Method, the Inertia is a measure of the sum of squared distances between data points and their respective cluster centers. It's often used to evaluate the compactness of clusters and is defined as:\n",
    "\n",
    "$$I(k) = \\sum_{i=1}^{k} \\sum_{x \\in C_i} \\|x - \\mu_i\\|^2$$\n",
    "\n",
    "\n",
    "Task A: Implement your own distortion function to determine the different numbers of clusters, ranging from 1 to 10. Plot the elbow plot and guess the elbow point $k$. Use X_Train that we calculated in the previous parts for this part."
   ]
  },
  {
   "cell_type": "code",
   "execution_count": null,
   "metadata": {
    "id": "QVm1RGO4wsb4"
   },
   "outputs": [],
   "source": [
    "distortions = []\n",
    "inertias = []\n",
    "K = range(1, 10)\n",
    "\n",
    "for k in K:\n",
    "    # ANSWER STARTING HERE\n",
    "\n",
    "\n",
    "\n",
    "# ANSWER ENDS HERE"
   ]
  },
  {
   "cell_type": "markdown",
   "metadata": {
    "id": "YsYt3IT6xk0v"
   },
   "source": [
    "To determine the optimal number of clusters, we have to select the value of $k$ at the “elbow”, i.e. the point after which the distortion starts decreasing in a linear fashion. Thus for the given data, we conclude that the optimal number of clusters for the data is 3.\n"
   ]
  },
  {
   "cell_type": "code",
   "execution_count": null,
   "metadata": {
    "id": "fk1VLV8ZuNTd"
   },
   "outputs": [],
   "source": [
    "k_cluster = 3"
   ]
  },
  {
   "cell_type": "markdown",
   "metadata": {
    "id": "QtHyk_fTs-sH"
   },
   "source": [
    "##### ***6.1.2 KElbowVisualizer (2.5 pts)***\n",
    "Task B: Use the `KElbowVisualizer` from the `yellowbrick` library to verify the conclusion above. See [Elbow Method\n",
    "](https://www.scikit-yb.org/en/latest/api/cluster/elbow.html)."
   ]
  },
  {
   "cell_type": "code",
   "execution_count": null,
   "metadata": {
    "id": "uDXLXpIoyJqR"
   },
   "outputs": [],
   "source": [
    "from sklearn import datasets\n",
    "from sklearn.cluster import KMeans\n",
    "import matplotlib.pyplot as plt\n",
    "from yellowbrick.cluster import SilhouetteVisualizer\n",
    "from yellowbrick.cluster import KElbowVisualizer\n",
    "\n",
    "# ANSWER STARTING HERE\n",
    "# Load the dataset\n",
    "\n",
    "# Instantiate the clustering model and visualizer\n",
    "\n",
    "\n",
    "# ANSWER ENDS HERE\n"
   ]
  },
  {
   "cell_type": "markdown",
   "metadata": {
    "id": "KWSe5oOSuk_m"
   },
   "source": [
    "##### ***6.1.3 Question: According to the plots above, why do you think we chose K=3? (1 pts)***\n",
    "\n",
    "ANSWER STARTING HERE"
   ]
  },
  {
   "cell_type": "markdown",
   "metadata": {
    "id": "rQjLyt-fUirG"
   },
   "source": [
    "##### ***6.2.1 Extract top features (1 pts)***\n",
    "Extract the top 4 features you defined in Part E for show its clustering for the following steps. Name your feature dataframe `X`.\n"
   ]
  },
  {
   "cell_type": "code",
   "execution_count": null,
   "metadata": {
    "id": "Uv7p-JKfPRmz"
   },
   "outputs": [],
   "source": [
    "# TODO: Select most relevant features for clustering (exclude 'rating')\n",
    "data = yelp_data\n",
    "\n",
    "# ANSWER STARTING HERE\n",
    "features = [ ]\n",
    "X =\n",
    "# ANSWER ENDS HERE\n",
    "\n",
    "print(X)"
   ]
  },
  {
   "cell_type": "markdown",
   "metadata": {
    "id": "MWHD88oXQgfm"
   },
   "source": [
    "We wish to standardize the feature sets in order to make sure that the PCA is not biased by differences in scales within the data. Standardization aids with consistency in the data.\n",
    "\n",
    "##### ***6.2.2 Normalize the data using StandardScaler. (1 pts)***\n",
    "\n",
    "- **Standardize** the features and save it as `X_scaled`.\n",
    "\n",
    "*Hint:* [documentation](https://scikit-learn.org/stable/modules/generated/sklearn.preprocessing.StandardScaler.html)"
   ]
  },
  {
   "cell_type": "code",
   "execution_count": null,
   "metadata": {
    "id": "mZPuZnZvQg2w"
   },
   "outputs": [],
   "source": [
    "# TODO: Normalize the data using StandardScaler\n",
    "# ANSWER STARTING HERE\n",
    "X_scaled =\n",
    "# ANSWER ENDS HERE\n"
   ]
  },
  {
   "cell_type": "markdown",
   "metadata": {
    "id": "jpCufLDfPMaU"
   },
   "source": [
    "There are varying reasons for using a dimensionality reduction step such as PCA prior to data segmentation. By reducing the number of features, we are improving the performance of our algorithm. In addition, by decreasing the number of features the noise is also reduced.\n",
    "\n",
    "#### PCA\n",
    "\n",
    "Principal Component Analysis (PCA) is a dimensionality reduction technique that finds directions (principal components) maximizing variance in a dataset. It's an orthogonal linear transformation mapping data to a new coordinate system [1].\n",
    "\n",
    "PCA steps for a dataset $X$ with $n$ samples and $p$ features:\n",
    "\n",
    "1. Center the data.\n",
    "2. Compute covariance matrix $\\Sigma = \\frac{1}{n-1}X^TX$.\n",
    "3. Calculate eigenvectors and eigenvalues of $\\Sigma$.\n",
    "4. Sort eigenvectors by descending eigenvalues.\n",
    "5. Select top $k$ eigenvectors as new basis.\n",
    "\n",
    "Project original data onto this new basis for transformed data.\n",
    "\n",
    "PCA is simple and effective for linear relationships but may not suit complex, non-linear structures [2].\n",
    "\n",
    "For more in-depth reading on PCA:\n",
    "\n",
    "[1] Scikit-learn PCA documentation: [sklearn.decomposition.PCA](https://scikit-learn.org/stable/modules/generated/sklearn.decomposition.PCA.html)\n",
    "\n",
    "[2] Jolliffe, I. T. (2002). Principal Component Analysis, Second Edition. Springer Series in Statistics.\n"
   ]
  },
  {
   "cell_type": "markdown",
   "metadata": {
    "id": "jM7P-32wUoJN"
   },
   "source": [
    "##### ***6.3.1 Use a PCA function to return the transformed data. (3 pts)***\n"
   ]
  },
  {
   "cell_type": "code",
   "execution_count": null,
   "metadata": {
    "id": "J78YGqW7JOZN"
   },
   "outputs": [],
   "source": [
    "# TODO: Apply PCA and return the transformed data\n",
    "\n",
    "def apply_pca(X_scaled, n_components=2):\n",
    "    # ANSWER STARTING HERE\n",
    "\n",
    "\n",
    "    # ANSWER ENDS HERE\n",
    "    return pca, X_pca\n",
    "    # Apply PCA\n",
    "\n",
    "pca, X_pca = apply_pca(X_scaled)\n"
   ]
  },
  {
   "cell_type": "markdown",
   "metadata": {
    "id": "O1n9iyS0Tfd6"
   },
   "source": [
    "#### K-Means Clustering\n",
    "\n",
    "K-Means is a popular unsupervised learning algorithm used for clustering, where the goal is to partition data into K clusters based on feature similarity. The algorithm works by iteratively assigning data points to the nearest centroid (cluster center) and updating centroids to minimize the variance within each cluster. It starts by randomly initializing centroids and repeats the process until the centroids stabilize (convergence). K-Means is efficient for large datasets but sensitive to the choice of K and initial centroids. In your homework, you'll implement K-Means to explore how well it groups your data based on similarity!\n",
    "\n",
    "\n",
    "\n",
    "\n",
    "\n"
   ]
  },
  {
   "cell_type": "markdown",
   "metadata": {
    "id": "a_2zyJBOVQPN"
   },
   "source": [
    "##### ***6.4 Apply K-means clustering and return the cluster labels (3 pts)***\n"
   ]
  },
  {
   "cell_type": "code",
   "execution_count": null,
   "metadata": {
    "id": "1i_57R6bTf5I"
   },
   "outputs": [],
   "source": [
    "# TODO: Apply K-means clustering and return the cluster labels\n",
    "def apply_kmeans(X, n_clusters, random_state=seed):\n",
    "    # ANSWER STARTING HERE\n",
    "\n",
    "\n",
    "    # ANSWER ENDS HERE\n",
    "    return labels\n",
    "\n",
    "# Apply K-means to both PCA results\n",
    "pca_labels = apply_kmeans(X_pca, n_clusters = k_cluster)\n",
    "\n"
   ]
  },
  {
   "cell_type": "markdown",
   "metadata": {
    "id": "Db_x7pbsVZlF"
   },
   "source": [
    "Visualize your clustering!"
   ]
  },
  {
   "cell_type": "code",
   "execution_count": null,
   "metadata": {
    "id": "QlXe5QbOVZ_k"
   },
   "outputs": [],
   "source": [
    "## Step 6: Visualization\n",
    "\n",
    "def plot_clusters(X, labels, rating, title, xlabel, ylabel):\n",
    "    fig, ax = plt.subplots(figsize=(12, 8))\n",
    "    kmeans = KMeans(n_clusters=k_cluster, random_state=seed).fit(X)\n",
    "    data['Cluster'] = pd.Categorical(kmeans.labels_)\n",
    "    sns.scatterplot(x=X[:, 0],y=X[:, 1], hue=\"Cluster\", data=data,s=45,legend=\"full\")\n",
    "    plt.legend(labels=[features[0], features[1], features[2], features[3]])\n",
    "\n",
    "    plt.title(title)\n",
    "    plt.xlabel(xlabel)\n",
    "    plt.ylabel(ylabel)\n",
    "    plt.show()\n",
    "\n",
    "print(X_pca)\n",
    "print(X_pca.shape)\n",
    "print(data['preference_rating'].shape)\n",
    "\n",
    "# Visualize PCA results\n",
    "plot_clusters(X_pca, pca_labels, data['preference_rating'],\n",
    "              'PCA: Clusters and Rating', 'PC1', 'PC2')\n"
   ]
  },
  {
   "cell_type": "markdown",
   "metadata": {
    "id": "lsC_qOYeNXka"
   },
   "source": [
    "# Your analysis here\n"
   ]
  },
  {
   "cell_type": "markdown",
   "metadata": {
    "id": "RPkoHTxM5mBv"
   },
   "source": [
    "**You have been promoted!!**\n",
    "\n",
    "**You are now one of the consulting company's elite employees! 🎊🎉🥂🥳**\n",
    "\n",
    "![](https://media.giphy.com/media/JIX9t2j0ZTN9S/giphy.gif?cid=790b76111hlwamin05rcv1ujslgjh5o49haj07h4wpuvwkgz&ep=v1_gifs_search&rid=giphy.gif&ct=g)"
   ]
  },
  {
   "cell_type": "markdown",
   "metadata": {
    "id": "FaD19-nrcWVh"
   },
   "source": [
    "### Extra Credit ✨ (7 points total)\n",
    "The matplotlib and seaborn libraries are great tools for visualizing data.\n",
    "\n",
    "They are used to create legible and complex graphs that are essential in data interpretation and analysis."
   ]
  },
  {
   "cell_type": "markdown",
   "metadata": {
    "id": "1i-1gG-55mBx"
   },
   "source": [
    "##### ***7.1 Visualize the distribution of each feature in the original dataset for different rating classes (3 pts)***\n",
    "- **Plot** out histograms for each feature. You can use a for loop.\n",
    "- Label the **title** of each histogram \"Distribution of (Feature Name) by Rating\"\n",
    "- Label the **axes** appropriately and display each histogram.\n",
    "- Display the **y-axis** using a **logarithmic** scale."
   ]
  },
  {
   "cell_type": "code",
   "execution_count": null,
   "metadata": {
    "id": "7GSTkDYW5mBy"
   },
   "outputs": [],
   "source": [
    "# Dropping text or non-numeric columns\n",
    "histogram_pd = yelp_data.drop(columns=[\n",
    "    'business_id', 'name', 'neighborhood', 'latitude', 'longitude','address', 'city', 'state',\n",
    "    'postal_code', 'categories', 'review_id', 'user_id', 'text'\n",
    "])\n",
    "\n",
    "histogram_pd = histogram_pd.iloc[:, list(range(8)) + [-2]]\n",
    "histogram_pd.head()\n",
    "\n",
    "# ANSWER STARTING HERE\n",
    "# Histograms for each feature with rating hue\n",
    "for feature in histogram_pd.columns[:-1]:  # Exclude 'rating' column\n",
    "    plt.figure(figsize=(10, 6))\n",
    "\n",
    "    # Create the histogram\n",
    "\n",
    "    # Create a custom legend\n",
    "\n",
    "# ANSWER ENDS HERE\n"
   ]
  },
  {
   "cell_type": "markdown",
   "metadata": {
    "id": "jHUCbckL5mBz"
   },
   "source": [
    "##### ***7.2 Explore correlations between features and Rating ratings (2 pts)***\n",
    "- Create a **correlation matrix** based on the correlations between features and rating.\n",
    "- **Display** the matrix."
   ]
  },
  {
   "cell_type": "code",
   "execution_count": null,
   "metadata": {
    "id": "RTh5Yf0p5mB0"
   },
   "outputs": [],
   "source": [
    "# Correlation Matrix\n",
    "# ANSWER STARTING HERE\n",
    "\n",
    "# ANSWER ENDS HERE\n"
   ]
  },
  {
   "cell_type": "markdown",
   "metadata": {
    "id": "CfsOf2r5aMPN"
   },
   "source": [
    "##### **7.3 *Question*: What have you learned from this correlation map? Why? (2 pts)**\n",
    "ANSWER RIGHT HERE!\n"
   ]
  },
  {
   "cell_type": "code",
   "execution_count": null,
   "metadata": {
    "id": "4XkmRz1vaRfw"
   },
   "outputs": [],
   "source": []
  }
 ],
 "metadata": {
  "colab": {
   "collapsed_sections": [
    "uWIXqii1puOD",
    "oq1F3ALek_Bc",
    "TPJC8UWas1gV",
    "2QS9MeP_swG0",
    "QtHyk_fTs-sH",
    "rQjLyt-fUirG",
    "MWHD88oXQgfm",
    "jM7P-32wUoJN"
   ],
   "provenance": [],
   "toc_visible": true
  },
  "kernelspec": {
   "display_name": "base",
   "language": "python",
   "name": "python3"
  },
  "language_info": {
   "codemirror_mode": {
    "name": "ipython",
    "version": 3
   },
   "file_extension": ".py",
   "mimetype": "text/x-python",
   "name": "python",
   "nbconvert_exporter": "python",
   "pygments_lexer": "ipython3",
   "version": "3.12.7"
  }
 },
 "nbformat": 4,
 "nbformat_minor": 0
}
